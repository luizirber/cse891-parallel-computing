{
 "metadata": {
  "name": "",
  "signature": "sha256:e3566915975065ead4c7212adf0a835a55d15cca89aaad0226e9d8aff05d6ea2"
 },
 "nbformat": 3,
 "nbformat_minor": 0,
 "worksheets": [
  {
   "cells": [
    {
     "cell_type": "markdown",
     "metadata": {},
     "source": [
      "For profiling I used TAU (https://tau.uoregon.edu/),\n",
      "since I wanted to try it out.\n",
      "TAU can report how much time was spent on each function,\n",
      "and I used this to report only the time taken on each call to count_sort (or qsort).\n",
      "\n",
      "Python modules used in analysis:"
     ]
    },
    {
     "cell_type": "code",
     "collapsed": false,
     "input": [
      "%matplotlib inline\n",
      "from IPython.core.display import HTML\n",
      "\n",
      "from collections import defaultdict\n",
      "\n",
      "import matplotlib.pyplot as plt\n",
      "import pandas as pd\n",
      "import seaborn as sns\n",
      "\n",
      "from analysis_scripts import prepare_panel"
     ],
     "language": "python",
     "metadata": {},
     "outputs": [],
     "prompt_number": 85
    },
    {
     "cell_type": "heading",
     "level": 1,
     "metadata": {},
     "source": [
      "A"
     ]
    },
    {
     "cell_type": "heading",
     "level": 2,
     "metadata": {},
     "source": [
      "i-loop"
     ]
    },
    {
     "cell_type": "markdown",
     "metadata": {},
     "source": [
      "In the i-loop case $i, j, \\text{count}$ can be private.\n",
      "\n",
      "$a$ and $\\text{temp}$ should be shared,\n",
      "since $a$ is read-only but can be big (and so have a substantial overhead if it is private)\n",
      "and $\\text{temp}$ is written by all threads,\n",
      "but only at an specific position for each thread (so there aren't race conditions).\n",
      "\n",
      "$n$ is a constant in this context,\n",
      "and can either be private or shared.\n",
      "I chose to make it shared."
     ]
    },
    {
     "cell_type": "code",
     "collapsed": false,
     "input": [
      "!pygmentize -l c -f html -O full -o ./iloop.html ../src/omp_iloop.c\n",
      "HTML(open('iloop.html', 'r').read())"
     ],
     "language": "python",
     "metadata": {},
     "outputs": [
      {
       "html": [
        "<!DOCTYPE html PUBLIC \"-//W3C//DTD HTML 4.01//EN\"\n",
        "   \"http://www.w3.org/TR/html4/strict.dtd\">\n",
        "\n",
        "<html>\n",
        "<head>\n",
        "  <title></title>\n",
        "  <meta http-equiv=\"content-type\" content=\"text/html; charset=latin1\">\n",
        "  <style type=\"text/css\">\n",
        "td.linenos { background-color: #f0f0f0; padding-right: 10px; }\n",
        "span.lineno { background-color: #f0f0f0; padding: 0 5px 0 5px; }\n",
        "pre { line-height: 125%; }\n",
        "body .hll { background-color: #ffffcc }\n",
        "body  { background: #f8f8f8; }\n",
        "body .c { color: #408080; font-style: italic } /* Comment */\n",
        "body .err { border: 1px solid #FF0000 } /* Error */\n",
        "body .k { color: #008000; font-weight: bold } /* Keyword */\n",
        "body .o { color: #666666 } /* Operator */\n",
        "body .cm { color: #408080; font-style: italic } /* Comment.Multiline */\n",
        "body .cp { color: #BC7A00 } /* Comment.Preproc */\n",
        "body .c1 { color: #408080; font-style: italic } /* Comment.Single */\n",
        "body .cs { color: #408080; font-style: italic } /* Comment.Special */\n",
        "body .gd { color: #A00000 } /* Generic.Deleted */\n",
        "body .ge { font-style: italic } /* Generic.Emph */\n",
        "body .gr { color: #FF0000 } /* Generic.Error */\n",
        "body .gh { color: #000080; font-weight: bold } /* Generic.Heading */\n",
        "body .gi { color: #00A000 } /* Generic.Inserted */\n",
        "body .go { color: #888888 } /* Generic.Output */\n",
        "body .gp { color: #000080; font-weight: bold } /* Generic.Prompt */\n",
        "body .gs { font-weight: bold } /* Generic.Strong */\n",
        "body .gu { color: #800080; font-weight: bold } /* Generic.Subheading */\n",
        "body .gt { color: #0044DD } /* Generic.Traceback */\n",
        "body .kc { color: #008000; font-weight: bold } /* Keyword.Constant */\n",
        "body .kd { color: #008000; font-weight: bold } /* Keyword.Declaration */\n",
        "body .kn { color: #008000; font-weight: bold } /* Keyword.Namespace */\n",
        "body .kp { color: #008000 } /* Keyword.Pseudo */\n",
        "body .kr { color: #008000; font-weight: bold } /* Keyword.Reserved */\n",
        "body .kt { color: #B00040 } /* Keyword.Type */\n",
        "body .m { color: #666666 } /* Literal.Number */\n",
        "body .s { color: #BA2121 } /* Literal.String */\n",
        "body .na { color: #7D9029 } /* Name.Attribute */\n",
        "body .nb { color: #008000 } /* Name.Builtin */\n",
        "body .nc { color: #0000FF; font-weight: bold } /* Name.Class */\n",
        "body .no { color: #880000 } /* Name.Constant */\n",
        "body .nd { color: #AA22FF } /* Name.Decorator */\n",
        "body .ni { color: #999999; font-weight: bold } /* Name.Entity */\n",
        "body .ne { color: #D2413A; font-weight: bold } /* Name.Exception */\n",
        "body .nf { color: #0000FF } /* Name.Function */\n",
        "body .nl { color: #A0A000 } /* Name.Label */\n",
        "body .nn { color: #0000FF; font-weight: bold } /* Name.Namespace */\n",
        "body .nt { color: #008000; font-weight: bold } /* Name.Tag */\n",
        "body .nv { color: #19177C } /* Name.Variable */\n",
        "body .ow { color: #AA22FF; font-weight: bold } /* Operator.Word */\n",
        "body .w { color: #bbbbbb } /* Text.Whitespace */\n",
        "body .mf { color: #666666 } /* Literal.Number.Float */\n",
        "body .mh { color: #666666 } /* Literal.Number.Hex */\n",
        "body .mi { color: #666666 } /* Literal.Number.Integer */\n",
        "body .mo { color: #666666 } /* Literal.Number.Oct */\n",
        "body .sb { color: #BA2121 } /* Literal.String.Backtick */\n",
        "body .sc { color: #BA2121 } /* Literal.String.Char */\n",
        "body .sd { color: #BA2121; font-style: italic } /* Literal.String.Doc */\n",
        "body .s2 { color: #BA2121 } /* Literal.String.Double */\n",
        "body .se { color: #BB6622; font-weight: bold } /* Literal.String.Escape */\n",
        "body .sh { color: #BA2121 } /* Literal.String.Heredoc */\n",
        "body .si { color: #BB6688; font-weight: bold } /* Literal.String.Interpol */\n",
        "body .sx { color: #008000 } /* Literal.String.Other */\n",
        "body .sr { color: #BB6688 } /* Literal.String.Regex */\n",
        "body .s1 { color: #BA2121 } /* Literal.String.Single */\n",
        "body .ss { color: #19177C } /* Literal.String.Symbol */\n",
        "body .bp { color: #008000 } /* Name.Builtin.Pseudo */\n",
        "body .vc { color: #19177C } /* Name.Variable.Class */\n",
        "body .vg { color: #19177C } /* Name.Variable.Global */\n",
        "body .vi { color: #19177C } /* Name.Variable.Instance */\n",
        "body .il { color: #666666 } /* Literal.Number.Integer.Long */\n",
        "\n",
        "  </style>\n",
        "</head>\n",
        "<body>\n",
        "<h2></h2>\n",
        "\n",
        "<div class=\"highlight\"><pre><span class=\"cp\">#include &lt;stdio.h&gt;</span>\n",
        "<span class=\"cp\">#include &lt;stdlib.h&gt;</span>\n",
        "<span class=\"cp\">#include &lt;string.h&gt;</span>\n",
        "\n",
        "<span class=\"cp\">#ifndef VECTOR_SIZE</span>\n",
        "<span class=\"cp\">#define VECTOR_SIZE 100</span>\n",
        "<span class=\"cp\">#endif</span>\n",
        "\n",
        "<span class=\"kt\">void</span> <span class=\"nf\">count_sort</span><span class=\"p\">(</span><span class=\"kt\">int</span> <span class=\"n\">a</span><span class=\"p\">[],</span> <span class=\"kt\">int</span> <span class=\"n\">n</span><span class=\"p\">)</span> <span class=\"p\">{</span>\n",
        "  <span class=\"kt\">int</span> <span class=\"n\">i</span><span class=\"p\">,</span> <span class=\"n\">j</span><span class=\"p\">,</span> <span class=\"n\">count</span><span class=\"p\">;</span>\n",
        "  <span class=\"kt\">int</span> <span class=\"o\">*</span><span class=\"n\">temp</span> <span class=\"o\">=</span> <span class=\"n\">malloc</span><span class=\"p\">(</span><span class=\"n\">n</span><span class=\"o\">*</span><span class=\"k\">sizeof</span><span class=\"p\">(</span><span class=\"kt\">int</span><span class=\"p\">));</span>\n",
        "\n",
        "  <span class=\"err\">#</span><span class=\"n\">pragma</span> <span class=\"n\">omp</span> <span class=\"n\">parallel</span> <span class=\"k\">for</span> <span class=\"k\">default</span><span class=\"p\">(</span><span class=\"n\">none</span><span class=\"p\">)</span> <span class=\"n\">private</span><span class=\"p\">(</span><span class=\"n\">i</span><span class=\"p\">,</span> <span class=\"n\">j</span><span class=\"p\">,</span> <span class=\"n\">count</span><span class=\"p\">)</span> <span class=\"n\">shared</span><span class=\"p\">(</span><span class=\"n\">a</span><span class=\"p\">,</span> <span class=\"n\">temp</span><span class=\"p\">,</span> <span class=\"n\">n</span><span class=\"p\">)</span>\n",
        "  <span class=\"k\">for</span> <span class=\"p\">(</span><span class=\"n\">i</span> <span class=\"o\">=</span> <span class=\"mi\">0</span><span class=\"p\">;</span> <span class=\"n\">i</span> <span class=\"o\">&lt;</span> <span class=\"n\">n</span><span class=\"p\">;</span> <span class=\"n\">i</span><span class=\"o\">++</span><span class=\"p\">)</span> <span class=\"p\">{</span>\n",
        "    <span class=\"n\">count</span> <span class=\"o\">=</span> <span class=\"mi\">0</span><span class=\"p\">;</span>\n",
        "    <span class=\"k\">for</span> <span class=\"p\">(</span><span class=\"n\">j</span> <span class=\"o\">=</span> <span class=\"mi\">0</span><span class=\"p\">;</span> <span class=\"n\">j</span> <span class=\"o\">&lt;</span> <span class=\"n\">n</span><span class=\"p\">;</span> <span class=\"n\">j</span><span class=\"o\">++</span><span class=\"p\">)</span> <span class=\"p\">{</span>\n",
        "      <span class=\"k\">if</span> <span class=\"p\">(</span><span class=\"n\">a</span><span class=\"p\">[</span><span class=\"n\">j</span><span class=\"p\">]</span> <span class=\"o\">&lt;</span> <span class=\"n\">a</span><span class=\"p\">[</span><span class=\"n\">i</span><span class=\"p\">])</span>\n",
        "        <span class=\"n\">count</span><span class=\"o\">++</span><span class=\"p\">;</span>\n",
        "      <span class=\"k\">else</span> <span class=\"k\">if</span> <span class=\"p\">(</span><span class=\"n\">a</span><span class=\"p\">[</span><span class=\"n\">j</span><span class=\"p\">]</span> <span class=\"o\">==</span> <span class=\"n\">a</span><span class=\"p\">[</span><span class=\"n\">i</span><span class=\"p\">]</span> <span class=\"o\">&amp;&amp;</span> <span class=\"n\">j</span> <span class=\"o\">&lt;</span> <span class=\"n\">i</span><span class=\"p\">)</span>\n",
        "        <span class=\"n\">count</span><span class=\"o\">++</span><span class=\"p\">;</span>\n",
        "    <span class=\"p\">}</span>\n",
        "    <span class=\"n\">temp</span><span class=\"p\">[</span><span class=\"n\">count</span><span class=\"p\">]</span> <span class=\"o\">=</span> <span class=\"n\">a</span><span class=\"p\">[</span><span class=\"n\">i</span><span class=\"p\">];</span>\n",
        "  <span class=\"p\">}</span>\n",
        "\n",
        "  <span class=\"n\">memcpy</span><span class=\"p\">(</span><span class=\"n\">a</span><span class=\"p\">,</span> <span class=\"n\">temp</span><span class=\"p\">,</span> <span class=\"n\">n</span><span class=\"o\">*</span><span class=\"k\">sizeof</span><span class=\"p\">(</span><span class=\"kt\">int</span><span class=\"p\">));</span>\n",
        "  <span class=\"n\">free</span><span class=\"p\">(</span><span class=\"n\">temp</span><span class=\"p\">);</span>\n",
        "<span class=\"p\">}</span> <span class=\"cm\">/* Count sort */</span>\n",
        "\n",
        "\n",
        "<span class=\"kt\">int</span> <span class=\"nf\">init_vector</span><span class=\"p\">(</span><span class=\"kt\">int</span> <span class=\"n\">vect</span><span class=\"p\">[])</span> <span class=\"p\">{</span>\n",
        "    <span class=\"k\">for</span> <span class=\"p\">(</span><span class=\"kt\">int</span> <span class=\"n\">i</span> <span class=\"o\">=</span> <span class=\"mi\">0</span><span class=\"p\">;</span> <span class=\"n\">i</span> <span class=\"o\">&lt;</span> <span class=\"n\">VECTOR_SIZE</span><span class=\"p\">;</span> <span class=\"o\">++</span><span class=\"n\">i</span> <span class=\"p\">)</span> <span class=\"p\">{</span>\n",
        "      <span class=\"n\">vect</span><span class=\"p\">[</span><span class=\"n\">i</span><span class=\"p\">]</span> <span class=\"o\">=</span> <span class=\"n\">rand</span><span class=\"p\">()</span> <span class=\"o\">%</span> <span class=\"mi\">100</span><span class=\"p\">;</span>\n",
        "    <span class=\"p\">}</span>\n",
        "    <span class=\"k\">return</span> <span class=\"mi\">0</span><span class=\"p\">;</span>\n",
        "<span class=\"p\">}</span>\n",
        "\n",
        "\n",
        "<span class=\"kt\">int</span> <span class=\"nf\">main</span><span class=\"p\">(</span><span class=\"kt\">int</span> <span class=\"n\">argc</span><span class=\"p\">,</span> <span class=\"kt\">char</span><span class=\"o\">**</span> <span class=\"n\">argv</span><span class=\"p\">)</span> <span class=\"p\">{</span>\n",
        "  <span class=\"kt\">int</span> <span class=\"n\">vector</span><span class=\"p\">[</span><span class=\"n\">VECTOR_SIZE</span><span class=\"p\">];</span>\n",
        "\n",
        "  <span class=\"n\">init_vector</span><span class=\"p\">(</span><span class=\"n\">vector</span><span class=\"p\">);</span>\n",
        "\n",
        "  <span class=\"n\">count_sort</span><span class=\"p\">(</span><span class=\"n\">vector</span><span class=\"p\">,</span> <span class=\"n\">VECTOR_SIZE</span><span class=\"p\">);</span>\n",
        "\n",
        "  <span class=\"k\">return</span> <span class=\"mi\">0</span><span class=\"p\">;</span>\n",
        "<span class=\"p\">}</span>\n",
        "</pre></div>\n",
        "</body>\n",
        "</html>\n"
       ],
       "metadata": {},
       "output_type": "pyout",
       "prompt_number": 86,
       "text": [
        "<IPython.core.display.HTML at 0x2b7608d5b190>"
       ]
      }
     ],
     "prompt_number": 86
    },
    {
     "cell_type": "heading",
     "level": 2,
     "metadata": {},
     "source": [
      "j-loop"
     ]
    },
    {
     "cell_type": "markdown",
     "metadata": {},
     "source": [
      "In the j-loop case $j$ should be private.\n",
      "$\\text{count}$ needs to be shared,\n",
      "since every thread might potentially update it.\n",
      "This also means threads need to wait if another thread is already updating $\\text{count}$.\n",
      "\n",
      "$a$ is read-only but can be big (and so have a substantial overhead if it is private),\n",
      "so I made it shared.\n",
      "\n",
      "$i$ and $n$ can be either private or shared,\n",
      "since they are constant in this context.\n",
      "I chose to make it shared."
     ]
    },
    {
     "cell_type": "code",
     "collapsed": false,
     "input": [
      "!pygmentize -l c -f html -O full -o ./jloop.html ../src/omp_jloop.c\n",
      "HTML(open('jloop.html', 'r').read())"
     ],
     "language": "python",
     "metadata": {},
     "outputs": [
      {
       "html": [
        "<!DOCTYPE html PUBLIC \"-//W3C//DTD HTML 4.01//EN\"\n",
        "   \"http://www.w3.org/TR/html4/strict.dtd\">\n",
        "\n",
        "<html>\n",
        "<head>\n",
        "  <title></title>\n",
        "  <meta http-equiv=\"content-type\" content=\"text/html; charset=latin1\">\n",
        "  <style type=\"text/css\">\n",
        "td.linenos { background-color: #f0f0f0; padding-right: 10px; }\n",
        "span.lineno { background-color: #f0f0f0; padding: 0 5px 0 5px; }\n",
        "pre { line-height: 125%; }\n",
        "body .hll { background-color: #ffffcc }\n",
        "body  { background: #f8f8f8; }\n",
        "body .c { color: #408080; font-style: italic } /* Comment */\n",
        "body .err { border: 1px solid #FF0000 } /* Error */\n",
        "body .k { color: #008000; font-weight: bold } /* Keyword */\n",
        "body .o { color: #666666 } /* Operator */\n",
        "body .cm { color: #408080; font-style: italic } /* Comment.Multiline */\n",
        "body .cp { color: #BC7A00 } /* Comment.Preproc */\n",
        "body .c1 { color: #408080; font-style: italic } /* Comment.Single */\n",
        "body .cs { color: #408080; font-style: italic } /* Comment.Special */\n",
        "body .gd { color: #A00000 } /* Generic.Deleted */\n",
        "body .ge { font-style: italic } /* Generic.Emph */\n",
        "body .gr { color: #FF0000 } /* Generic.Error */\n",
        "body .gh { color: #000080; font-weight: bold } /* Generic.Heading */\n",
        "body .gi { color: #00A000 } /* Generic.Inserted */\n",
        "body .go { color: #888888 } /* Generic.Output */\n",
        "body .gp { color: #000080; font-weight: bold } /* Generic.Prompt */\n",
        "body .gs { font-weight: bold } /* Generic.Strong */\n",
        "body .gu { color: #800080; font-weight: bold } /* Generic.Subheading */\n",
        "body .gt { color: #0044DD } /* Generic.Traceback */\n",
        "body .kc { color: #008000; font-weight: bold } /* Keyword.Constant */\n",
        "body .kd { color: #008000; font-weight: bold } /* Keyword.Declaration */\n",
        "body .kn { color: #008000; font-weight: bold } /* Keyword.Namespace */\n",
        "body .kp { color: #008000 } /* Keyword.Pseudo */\n",
        "body .kr { color: #008000; font-weight: bold } /* Keyword.Reserved */\n",
        "body .kt { color: #B00040 } /* Keyword.Type */\n",
        "body .m { color: #666666 } /* Literal.Number */\n",
        "body .s { color: #BA2121 } /* Literal.String */\n",
        "body .na { color: #7D9029 } /* Name.Attribute */\n",
        "body .nb { color: #008000 } /* Name.Builtin */\n",
        "body .nc { color: #0000FF; font-weight: bold } /* Name.Class */\n",
        "body .no { color: #880000 } /* Name.Constant */\n",
        "body .nd { color: #AA22FF } /* Name.Decorator */\n",
        "body .ni { color: #999999; font-weight: bold } /* Name.Entity */\n",
        "body .ne { color: #D2413A; font-weight: bold } /* Name.Exception */\n",
        "body .nf { color: #0000FF } /* Name.Function */\n",
        "body .nl { color: #A0A000 } /* Name.Label */\n",
        "body .nn { color: #0000FF; font-weight: bold } /* Name.Namespace */\n",
        "body .nt { color: #008000; font-weight: bold } /* Name.Tag */\n",
        "body .nv { color: #19177C } /* Name.Variable */\n",
        "body .ow { color: #AA22FF; font-weight: bold } /* Operator.Word */\n",
        "body .w { color: #bbbbbb } /* Text.Whitespace */\n",
        "body .mf { color: #666666 } /* Literal.Number.Float */\n",
        "body .mh { color: #666666 } /* Literal.Number.Hex */\n",
        "body .mi { color: #666666 } /* Literal.Number.Integer */\n",
        "body .mo { color: #666666 } /* Literal.Number.Oct */\n",
        "body .sb { color: #BA2121 } /* Literal.String.Backtick */\n",
        "body .sc { color: #BA2121 } /* Literal.String.Char */\n",
        "body .sd { color: #BA2121; font-style: italic } /* Literal.String.Doc */\n",
        "body .s2 { color: #BA2121 } /* Literal.String.Double */\n",
        "body .se { color: #BB6622; font-weight: bold } /* Literal.String.Escape */\n",
        "body .sh { color: #BA2121 } /* Literal.String.Heredoc */\n",
        "body .si { color: #BB6688; font-weight: bold } /* Literal.String.Interpol */\n",
        "body .sx { color: #008000 } /* Literal.String.Other */\n",
        "body .sr { color: #BB6688 } /* Literal.String.Regex */\n",
        "body .s1 { color: #BA2121 } /* Literal.String.Single */\n",
        "body .ss { color: #19177C } /* Literal.String.Symbol */\n",
        "body .bp { color: #008000 } /* Name.Builtin.Pseudo */\n",
        "body .vc { color: #19177C } /* Name.Variable.Class */\n",
        "body .vg { color: #19177C } /* Name.Variable.Global */\n",
        "body .vi { color: #19177C } /* Name.Variable.Instance */\n",
        "body .il { color: #666666 } /* Literal.Number.Integer.Long */\n",
        "\n",
        "  </style>\n",
        "</head>\n",
        "<body>\n",
        "<h2></h2>\n",
        "\n",
        "<div class=\"highlight\"><pre><span class=\"cp\">#include &lt;stdio.h&gt;</span>\n",
        "<span class=\"cp\">#include &lt;stdlib.h&gt;</span>\n",
        "<span class=\"cp\">#include &lt;string.h&gt;</span>\n",
        "\n",
        "<span class=\"cp\">#ifndef VECTOR_SIZE</span>\n",
        "<span class=\"cp\">#define VECTOR_SIZE 100</span>\n",
        "<span class=\"cp\">#endif</span>\n",
        "\n",
        "<span class=\"kt\">void</span> <span class=\"nf\">count_sort</span><span class=\"p\">(</span><span class=\"kt\">int</span> <span class=\"n\">a</span><span class=\"p\">[],</span> <span class=\"kt\">int</span> <span class=\"n\">n</span><span class=\"p\">)</span> <span class=\"p\">{</span>\n",
        "  <span class=\"kt\">int</span> <span class=\"n\">i</span><span class=\"p\">,</span> <span class=\"n\">j</span><span class=\"p\">,</span> <span class=\"n\">count</span><span class=\"p\">;</span>\n",
        "  <span class=\"kt\">int</span> <span class=\"o\">*</span><span class=\"n\">temp</span> <span class=\"o\">=</span> <span class=\"n\">malloc</span><span class=\"p\">(</span><span class=\"n\">n</span><span class=\"o\">*</span><span class=\"k\">sizeof</span><span class=\"p\">(</span><span class=\"kt\">int</span><span class=\"p\">));</span>\n",
        "\n",
        "  <span class=\"k\">for</span> <span class=\"p\">(</span><span class=\"n\">i</span> <span class=\"o\">=</span> <span class=\"mi\">0</span><span class=\"p\">;</span> <span class=\"n\">i</span> <span class=\"o\">&lt;</span> <span class=\"n\">n</span><span class=\"p\">;</span> <span class=\"n\">i</span><span class=\"o\">++</span><span class=\"p\">)</span> <span class=\"p\">{</span>\n",
        "    <span class=\"n\">count</span> <span class=\"o\">=</span> <span class=\"mi\">0</span><span class=\"p\">;</span>\n",
        "    <span class=\"err\">#</span><span class=\"n\">pragma</span> <span class=\"n\">omp</span> <span class=\"n\">parallel</span> <span class=\"k\">for</span> <span class=\"k\">default</span><span class=\"p\">(</span><span class=\"n\">none</span><span class=\"p\">)</span> <span class=\"n\">private</span><span class=\"p\">(</span><span class=\"n\">j</span><span class=\"p\">)</span> <span class=\"n\">shared</span><span class=\"p\">(</span><span class=\"n\">count</span><span class=\"p\">,</span> <span class=\"n\">i</span><span class=\"p\">,</span> <span class=\"n\">n</span><span class=\"p\">,</span> <span class=\"n\">a</span><span class=\"p\">)</span>\n",
        "    <span class=\"k\">for</span> <span class=\"p\">(</span><span class=\"n\">j</span> <span class=\"o\">=</span> <span class=\"mi\">0</span><span class=\"p\">;</span> <span class=\"n\">j</span> <span class=\"o\">&lt;</span> <span class=\"n\">n</span><span class=\"p\">;</span> <span class=\"n\">j</span><span class=\"o\">++</span><span class=\"p\">)</span> <span class=\"p\">{</span>\n",
        "      <span class=\"k\">if</span> <span class=\"p\">(</span><span class=\"n\">a</span><span class=\"p\">[</span><span class=\"n\">j</span><span class=\"p\">]</span> <span class=\"o\">&lt;</span> <span class=\"n\">a</span><span class=\"p\">[</span><span class=\"n\">i</span><span class=\"p\">])</span>\n",
        "        <span class=\"n\">count</span><span class=\"o\">++</span><span class=\"p\">;</span>\n",
        "      <span class=\"k\">else</span> <span class=\"k\">if</span> <span class=\"p\">(</span><span class=\"n\">a</span><span class=\"p\">[</span><span class=\"n\">j</span><span class=\"p\">]</span> <span class=\"o\">==</span> <span class=\"n\">a</span><span class=\"p\">[</span><span class=\"n\">i</span><span class=\"p\">]</span> <span class=\"o\">&amp;&amp;</span> <span class=\"n\">j</span> <span class=\"o\">&lt;</span> <span class=\"n\">i</span><span class=\"p\">)</span>\n",
        "        <span class=\"n\">count</span><span class=\"o\">++</span><span class=\"p\">;</span>\n",
        "    <span class=\"p\">}</span>\n",
        "    <span class=\"n\">temp</span><span class=\"p\">[</span><span class=\"n\">count</span><span class=\"p\">]</span> <span class=\"o\">=</span> <span class=\"n\">a</span><span class=\"p\">[</span><span class=\"n\">i</span><span class=\"p\">];</span>\n",
        "  <span class=\"p\">}</span>\n",
        "\n",
        "  <span class=\"n\">memcpy</span><span class=\"p\">(</span><span class=\"n\">a</span><span class=\"p\">,</span> <span class=\"n\">temp</span><span class=\"p\">,</span> <span class=\"n\">n</span><span class=\"o\">*</span><span class=\"k\">sizeof</span><span class=\"p\">(</span><span class=\"kt\">int</span><span class=\"p\">));</span>\n",
        "  <span class=\"n\">free</span><span class=\"p\">(</span><span class=\"n\">temp</span><span class=\"p\">);</span>\n",
        "<span class=\"p\">}</span> <span class=\"cm\">/* Count sort */</span>\n",
        "\n",
        "\n",
        "<span class=\"kt\">int</span> <span class=\"nf\">init_vector</span><span class=\"p\">(</span><span class=\"kt\">int</span> <span class=\"n\">vect</span><span class=\"p\">[])</span> <span class=\"p\">{</span>\n",
        "    <span class=\"k\">for</span> <span class=\"p\">(</span><span class=\"kt\">int</span> <span class=\"n\">i</span> <span class=\"o\">=</span> <span class=\"mi\">0</span><span class=\"p\">;</span> <span class=\"n\">i</span> <span class=\"o\">&lt;</span> <span class=\"n\">VECTOR_SIZE</span><span class=\"p\">;</span> <span class=\"o\">++</span><span class=\"n\">i</span> <span class=\"p\">)</span> <span class=\"p\">{</span>\n",
        "      <span class=\"n\">vect</span><span class=\"p\">[</span><span class=\"n\">i</span><span class=\"p\">]</span> <span class=\"o\">=</span> <span class=\"n\">rand</span><span class=\"p\">()</span> <span class=\"o\">%</span> <span class=\"mi\">100</span><span class=\"p\">;</span>\n",
        "    <span class=\"p\">}</span>\n",
        "    <span class=\"k\">return</span> <span class=\"mi\">0</span><span class=\"p\">;</span>\n",
        "<span class=\"p\">}</span>\n",
        "\n",
        "\n",
        "<span class=\"kt\">int</span> <span class=\"nf\">main</span><span class=\"p\">(</span><span class=\"kt\">int</span> <span class=\"n\">argc</span><span class=\"p\">,</span> <span class=\"kt\">char</span><span class=\"o\">**</span> <span class=\"n\">argv</span><span class=\"p\">)</span> <span class=\"p\">{</span>\n",
        "  <span class=\"kt\">int</span> <span class=\"n\">vector</span><span class=\"p\">[</span><span class=\"n\">VECTOR_SIZE</span><span class=\"p\">];</span>\n",
        "\n",
        "  <span class=\"n\">init_vector</span><span class=\"p\">(</span><span class=\"n\">vector</span><span class=\"p\">);</span>\n",
        "\n",
        "  <span class=\"n\">count_sort</span><span class=\"p\">(</span><span class=\"n\">vector</span><span class=\"p\">,</span> <span class=\"n\">VECTOR_SIZE</span><span class=\"p\">);</span>\n",
        "\n",
        "  <span class=\"k\">return</span> <span class=\"mi\">0</span><span class=\"p\">;</span>\n",
        "<span class=\"p\">}</span>\n",
        "</pre></div>\n",
        "</body>\n",
        "</html>\n"
       ],
       "metadata": {},
       "output_type": "pyout",
       "prompt_number": 87,
       "text": [
        "<IPython.core.display.HTML at 0x2b7608d5b910>"
       ]
      }
     ],
     "prompt_number": 87
    },
    {
     "cell_type": "heading",
     "level": 1,
     "metadata": {},
     "source": [
      "B"
     ]
    },
    {
     "cell_type": "markdown",
     "metadata": {},
     "source": [
      "I decided to use $n = 10, 1000, 1000, 10000, 1000000$,\n",
      "and $1, 2, 4, 8, 10, 16, 20$ threads."
     ]
    },
    {
     "cell_type": "code",
     "collapsed": false,
     "input": [
      "VECTOR_SIZE = [10, 100, 1000, 10000, 100000]\n",
      "THREADS = [1, 2, 4, 8, 10, 16, 20]"
     ],
     "language": "python",
     "metadata": {},
     "outputs": [],
     "prompt_number": 3
    },
    {
     "cell_type": "heading",
     "level": 2,
     "metadata": {},
     "source": [
      "qsort"
     ]
    },
    {
     "cell_type": "markdown",
     "metadata": {},
     "source": [
      "This is my implementation using qsort.\n",
      "\n",
      "To keep it consistent with i-loop and j-loop OpenMP implementation (and so share the analysis code),\n",
      "I implemented the qsort call inside another function, $\\text{qsort_lib}$."
     ]
    },
    {
     "cell_type": "code",
     "collapsed": false,
     "input": [
      "!pygmentize -l c -f html -O full -o ./qsort.html ../src/qsort.c\n",
      "HTML(open('qsort.html', 'r').read())"
     ],
     "language": "python",
     "metadata": {},
     "outputs": [
      {
       "html": [
        "<!DOCTYPE html PUBLIC \"-//W3C//DTD HTML 4.01//EN\"\n",
        "   \"http://www.w3.org/TR/html4/strict.dtd\">\n",
        "\n",
        "<html>\n",
        "<head>\n",
        "  <title></title>\n",
        "  <meta http-equiv=\"content-type\" content=\"text/html; charset=latin1\">\n",
        "  <style type=\"text/css\">\n",
        "td.linenos { background-color: #f0f0f0; padding-right: 10px; }\n",
        "span.lineno { background-color: #f0f0f0; padding: 0 5px 0 5px; }\n",
        "pre { line-height: 125%; }\n",
        "body .hll { background-color: #ffffcc }\n",
        "body  { background: #f8f8f8; }\n",
        "body .c { color: #408080; font-style: italic } /* Comment */\n",
        "body .err { border: 1px solid #FF0000 } /* Error */\n",
        "body .k { color: #008000; font-weight: bold } /* Keyword */\n",
        "body .o { color: #666666 } /* Operator */\n",
        "body .cm { color: #408080; font-style: italic } /* Comment.Multiline */\n",
        "body .cp { color: #BC7A00 } /* Comment.Preproc */\n",
        "body .c1 { color: #408080; font-style: italic } /* Comment.Single */\n",
        "body .cs { color: #408080; font-style: italic } /* Comment.Special */\n",
        "body .gd { color: #A00000 } /* Generic.Deleted */\n",
        "body .ge { font-style: italic } /* Generic.Emph */\n",
        "body .gr { color: #FF0000 } /* Generic.Error */\n",
        "body .gh { color: #000080; font-weight: bold } /* Generic.Heading */\n",
        "body .gi { color: #00A000 } /* Generic.Inserted */\n",
        "body .go { color: #888888 } /* Generic.Output */\n",
        "body .gp { color: #000080; font-weight: bold } /* Generic.Prompt */\n",
        "body .gs { font-weight: bold } /* Generic.Strong */\n",
        "body .gu { color: #800080; font-weight: bold } /* Generic.Subheading */\n",
        "body .gt { color: #0044DD } /* Generic.Traceback */\n",
        "body .kc { color: #008000; font-weight: bold } /* Keyword.Constant */\n",
        "body .kd { color: #008000; font-weight: bold } /* Keyword.Declaration */\n",
        "body .kn { color: #008000; font-weight: bold } /* Keyword.Namespace */\n",
        "body .kp { color: #008000 } /* Keyword.Pseudo */\n",
        "body .kr { color: #008000; font-weight: bold } /* Keyword.Reserved */\n",
        "body .kt { color: #B00040 } /* Keyword.Type */\n",
        "body .m { color: #666666 } /* Literal.Number */\n",
        "body .s { color: #BA2121 } /* Literal.String */\n",
        "body .na { color: #7D9029 } /* Name.Attribute */\n",
        "body .nb { color: #008000 } /* Name.Builtin */\n",
        "body .nc { color: #0000FF; font-weight: bold } /* Name.Class */\n",
        "body .no { color: #880000 } /* Name.Constant */\n",
        "body .nd { color: #AA22FF } /* Name.Decorator */\n",
        "body .ni { color: #999999; font-weight: bold } /* Name.Entity */\n",
        "body .ne { color: #D2413A; font-weight: bold } /* Name.Exception */\n",
        "body .nf { color: #0000FF } /* Name.Function */\n",
        "body .nl { color: #A0A000 } /* Name.Label */\n",
        "body .nn { color: #0000FF; font-weight: bold } /* Name.Namespace */\n",
        "body .nt { color: #008000; font-weight: bold } /* Name.Tag */\n",
        "body .nv { color: #19177C } /* Name.Variable */\n",
        "body .ow { color: #AA22FF; font-weight: bold } /* Operator.Word */\n",
        "body .w { color: #bbbbbb } /* Text.Whitespace */\n",
        "body .mf { color: #666666 } /* Literal.Number.Float */\n",
        "body .mh { color: #666666 } /* Literal.Number.Hex */\n",
        "body .mi { color: #666666 } /* Literal.Number.Integer */\n",
        "body .mo { color: #666666 } /* Literal.Number.Oct */\n",
        "body .sb { color: #BA2121 } /* Literal.String.Backtick */\n",
        "body .sc { color: #BA2121 } /* Literal.String.Char */\n",
        "body .sd { color: #BA2121; font-style: italic } /* Literal.String.Doc */\n",
        "body .s2 { color: #BA2121 } /* Literal.String.Double */\n",
        "body .se { color: #BB6622; font-weight: bold } /* Literal.String.Escape */\n",
        "body .sh { color: #BA2121 } /* Literal.String.Heredoc */\n",
        "body .si { color: #BB6688; font-weight: bold } /* Literal.String.Interpol */\n",
        "body .sx { color: #008000 } /* Literal.String.Other */\n",
        "body .sr { color: #BB6688 } /* Literal.String.Regex */\n",
        "body .s1 { color: #BA2121 } /* Literal.String.Single */\n",
        "body .ss { color: #19177C } /* Literal.String.Symbol */\n",
        "body .bp { color: #008000 } /* Name.Builtin.Pseudo */\n",
        "body .vc { color: #19177C } /* Name.Variable.Class */\n",
        "body .vg { color: #19177C } /* Name.Variable.Global */\n",
        "body .vi { color: #19177C } /* Name.Variable.Instance */\n",
        "body .il { color: #666666 } /* Literal.Number.Integer.Long */\n",
        "\n",
        "  </style>\n",
        "</head>\n",
        "<body>\n",
        "<h2></h2>\n",
        "\n",
        "<div class=\"highlight\"><pre><span class=\"cp\">#include &lt;stdio.h&gt;</span>\n",
        "<span class=\"cp\">#include &lt;stdlib.h&gt;</span>\n",
        "<span class=\"cp\">#include &lt;string.h&gt;</span>\n",
        "\n",
        "<span class=\"cp\">#ifndef VECTOR_SIZE</span>\n",
        "<span class=\"cp\">#define VECTOR_SIZE 100</span>\n",
        "<span class=\"cp\">#endif</span>\n",
        "\n",
        "\n",
        "<span class=\"kt\">int</span> <span class=\"nf\">cmpfunc</span> <span class=\"p\">(</span><span class=\"k\">const</span> <span class=\"kt\">void</span> <span class=\"o\">*</span> <span class=\"n\">a</span><span class=\"p\">,</span> <span class=\"k\">const</span> <span class=\"kt\">void</span> <span class=\"o\">*</span> <span class=\"n\">b</span><span class=\"p\">)</span>\n",
        "<span class=\"p\">{</span>\n",
        "   <span class=\"k\">return</span> <span class=\"p\">(</span> <span class=\"o\">*</span><span class=\"p\">(</span><span class=\"kt\">int</span><span class=\"o\">*</span><span class=\"p\">)</span><span class=\"n\">a</span> <span class=\"o\">-</span> <span class=\"o\">*</span><span class=\"p\">(</span><span class=\"kt\">int</span><span class=\"o\">*</span><span class=\"p\">)</span><span class=\"n\">b</span> <span class=\"p\">);</span>\n",
        "<span class=\"p\">}</span>\n",
        "\n",
        "\n",
        "<span class=\"kt\">void</span> <span class=\"nf\">qsort_lib</span><span class=\"p\">(</span><span class=\"kt\">int</span> <span class=\"n\">a</span><span class=\"p\">[],</span> <span class=\"kt\">int</span> <span class=\"n\">n</span><span class=\"p\">)</span> <span class=\"p\">{</span>\n",
        "\n",
        "  <span class=\"n\">qsort</span><span class=\"p\">(</span><span class=\"n\">a</span><span class=\"p\">,</span> <span class=\"n\">n</span><span class=\"p\">,</span> <span class=\"k\">sizeof</span><span class=\"p\">(</span><span class=\"kt\">int</span><span class=\"p\">),</span> <span class=\"n\">cmpfunc</span><span class=\"p\">);</span>\n",
        "\n",
        "<span class=\"p\">}</span> <span class=\"cm\">/* stdlib qsort */</span>\n",
        "\n",
        "\n",
        "<span class=\"kt\">int</span> <span class=\"nf\">init_vector</span><span class=\"p\">(</span><span class=\"kt\">int</span> <span class=\"n\">vect</span><span class=\"p\">[])</span> <span class=\"p\">{</span>\n",
        "    <span class=\"k\">for</span> <span class=\"p\">(</span><span class=\"kt\">int</span> <span class=\"n\">i</span> <span class=\"o\">=</span> <span class=\"mi\">0</span><span class=\"p\">;</span> <span class=\"n\">i</span> <span class=\"o\">&lt;</span> <span class=\"n\">VECTOR_SIZE</span><span class=\"p\">;</span> <span class=\"o\">++</span><span class=\"n\">i</span> <span class=\"p\">)</span> <span class=\"p\">{</span>\n",
        "      <span class=\"n\">vect</span><span class=\"p\">[</span><span class=\"n\">i</span><span class=\"p\">]</span> <span class=\"o\">=</span> <span class=\"n\">rand</span><span class=\"p\">()</span> <span class=\"o\">%</span> <span class=\"mi\">100</span><span class=\"p\">;</span>\n",
        "    <span class=\"p\">}</span>\n",
        "    <span class=\"k\">return</span> <span class=\"mi\">0</span><span class=\"p\">;</span>\n",
        "<span class=\"p\">}</span>\n",
        "\n",
        "\n",
        "<span class=\"kt\">int</span> <span class=\"nf\">main</span><span class=\"p\">(</span><span class=\"kt\">int</span> <span class=\"n\">argc</span><span class=\"p\">,</span> <span class=\"kt\">char</span><span class=\"o\">**</span> <span class=\"n\">argv</span><span class=\"p\">)</span> <span class=\"p\">{</span>\n",
        "  <span class=\"kt\">int</span> <span class=\"n\">vector</span><span class=\"p\">[</span><span class=\"n\">VECTOR_SIZE</span><span class=\"p\">];</span>\n",
        "\n",
        "  <span class=\"n\">init_vector</span><span class=\"p\">(</span><span class=\"n\">vector</span><span class=\"p\">);</span>\n",
        "\n",
        "  <span class=\"n\">qsort_lib</span><span class=\"p\">(</span><span class=\"n\">vector</span><span class=\"p\">,</span> <span class=\"n\">VECTOR_SIZE</span><span class=\"p\">);</span>\n",
        "\n",
        "  <span class=\"k\">return</span> <span class=\"mi\">0</span><span class=\"p\">;</span>\n",
        "<span class=\"p\">}</span>\n",
        "</pre></div>\n",
        "</body>\n",
        "</html>\n"
       ],
       "metadata": {},
       "output_type": "pyout",
       "prompt_number": 88,
       "text": [
        "<IPython.core.display.HTML at 0x2b7608d5b2d0>"
       ]
      }
     ],
     "prompt_number": 88
    },
    {
     "cell_type": "heading",
     "level": 3,
     "metadata": {},
     "source": [
      "Preparing the executables and profiling"
     ]
    },
    {
     "cell_type": "markdown",
     "metadata": {},
     "source": [
      "These commands create the executables,\n",
      "submit it to run on the HPCC job system and finally extract the raw TAU info into a text file.\n",
      "They are all implemented in the Makefile."
     ]
    },
    {
     "cell_type": "code",
     "collapsed": false,
     "input": [
      "#!cd .. && make exec/qsort-GNU\n",
      "#!cd .. && make workdir/qsort.pbs\n",
      "!cd .. && make TAU_PROFILES_QSORT"
     ],
     "language": "python",
     "metadata": {},
     "outputs": [
      {
       "output_type": "stream",
       "stream": "stdout",
       "text": [
        "make: Nothing to be done for `TAU_PROFILES_QSORT'.\r\n"
       ]
      }
     ],
     "prompt_number": 55
    },
    {
     "cell_type": "code",
     "collapsed": false,
     "input": [],
     "language": "python",
     "metadata": {},
     "outputs": []
    },
    {
     "cell_type": "code",
     "collapsed": false,
     "input": [
      "data = prepare_panel('qsort', threads=[1])\n",
      "pn_qsort = pd.Panel4D(data)\n",
      "# dimensions: pn[vector size, threads, function name, metric]\n",
      "pn_qsort.ix[:,:,'qsort_lib','Inclusive usec/call']"
     ],
     "language": "python",
     "metadata": {},
     "outputs": [
      {
       "html": [
        "<div style=\"max-height:1000px;max-width:1500px;overflow:auto;\">\n",
        "<table border=\"1\" class=\"dataframe\">\n",
        "  <thead>\n",
        "    <tr style=\"text-align: right;\">\n",
        "      <th></th>\n",
        "      <th>10</th>\n",
        "      <th>100</th>\n",
        "      <th>1000</th>\n",
        "      <th>10000</th>\n",
        "      <th>100000</th>\n",
        "    </tr>\n",
        "  </thead>\n",
        "  <tbody>\n",
        "    <tr>\n",
        "      <th>1</th>\n",
        "      <td> 12</td>\n",
        "      <td> 147</td>\n",
        "      <td> 2149</td>\n",
        "      <td> 25509</td>\n",
        "      <td> 165715</td>\n",
        "    </tr>\n",
        "  </tbody>\n",
        "</table>\n",
        "</div>"
       ],
       "metadata": {},
       "output_type": "pyout",
       "prompt_number": 90,
       "text": [
        "  10     100    1000   10000   100000\n",
        "1     12    147   2149  25509  165715"
       ]
      }
     ],
     "prompt_number": 90
    },
    {
     "cell_type": "code",
     "collapsed": false,
     "input": [
      "pn_qsort.ix[:,:,'qsort_lib','Inclusive usec/call'].T.plot(marker='o', logy=True, logx=True)\n",
      "plt.xlabel('Number of threads')\n",
      "plt.ylabel('Microseconds')"
     ],
     "language": "python",
     "metadata": {},
     "outputs": [
      {
       "metadata": {},
       "output_type": "pyout",
       "prompt_number": 118,
       "text": [
        "<matplotlib.text.Text at 0x2b760ad0f7d0>"
       ]
      },
      {
       "metadata": {},
       "output_type": "display_data",
       "png": "[encoded data removed]",
       "text": [
        "<matplotlib.figure.Figure at 0x2b760ae8e550>"
       ]
      }
     ],
     "prompt_number": 118
    },
    {
     "cell_type": "heading",
     "level": 2,
     "metadata": {},
     "source": [
      "i-loop"
     ]
    },
    {
     "cell_type": "code",
     "collapsed": false,
     "input": [
      "#!cd .. && make exec/omp_iloop-GNU\n",
      "#!cd .. && make workdir/omp_iloop.pbs\n",
      "!cd .. && make TAU_PROFILES_ILOOP"
     ],
     "language": "python",
     "metadata": {},
     "outputs": [
      {
       "output_type": "stream",
       "stream": "stdout",
       "text": [
        "make: Nothing to be done for `TAU_PROFILES_ILOOP'.\r\n"
       ]
      }
     ],
     "prompt_number": 41
    },
    {
     "cell_type": "code",
     "collapsed": false,
     "input": [
      "data = prepare_panel('omp_iloop')\n",
      "pn_iloop = pd.Panel4D(data)"
     ],
     "language": "python",
     "metadata": {},
     "outputs": [],
     "prompt_number": 92
    },
    {
     "cell_type": "code",
     "collapsed": false,
     "input": [
      "# dimensions: pn[vector size, threads, function name, metric]\n",
      "pn_iloop.ix[:,:,'count_sort','Inclusive usec/call']"
     ],
     "language": "python",
     "metadata": {},
     "outputs": [
      {
       "html": [
        "<div style=\"max-height:1000px;max-width:1500px;overflow:auto;\">\n",
        "<table border=\"1\" class=\"dataframe\">\n",
        "  <thead>\n",
        "    <tr style=\"text-align: right;\">\n",
        "      <th></th>\n",
        "      <th>10</th>\n",
        "      <th>100</th>\n",
        "      <th>1000</th>\n",
        "      <th>10000</th>\n",
        "      <th>100000</th>\n",
        "    </tr>\n",
        "  </thead>\n",
        "  <tbody>\n",
        "    <tr>\n",
        "      <th>1 </th>\n",
        "      <td>     8</td>\n",
        "      <td>    86</td>\n",
        "      <td> 6848</td>\n",
        "      <td> 672442</td>\n",
        "      <td> 66656988</td>\n",
        "    </tr>\n",
        "    <tr>\n",
        "      <th>2 </th>\n",
        "      <td>    51</td>\n",
        "      <td>    88</td>\n",
        "      <td> 4024</td>\n",
        "      <td> 342705</td>\n",
        "      <td> 33943170</td>\n",
        "    </tr>\n",
        "    <tr>\n",
        "      <th>4 </th>\n",
        "      <td>   184</td>\n",
        "      <td>   158</td>\n",
        "      <td> 1953</td>\n",
        "      <td> 173700</td>\n",
        "      <td> 17391834</td>\n",
        "    </tr>\n",
        "    <tr>\n",
        "      <th>8 </th>\n",
        "      <td>   221</td>\n",
        "      <td>   221</td>\n",
        "      <td> 1220</td>\n",
        "      <td>  98197</td>\n",
        "      <td>  9676679</td>\n",
        "    </tr>\n",
        "    <tr>\n",
        "      <th>10</th>\n",
        "      <td>   245</td>\n",
        "      <td>   276</td>\n",
        "      <td> 1086</td>\n",
        "      <td>  78385</td>\n",
        "      <td>  6965354</td>\n",
        "    </tr>\n",
        "    <tr>\n",
        "      <th>16</th>\n",
        "      <td>   309</td>\n",
        "      <td>   327</td>\n",
        "      <td>  833</td>\n",
        "      <td>  54264</td>\n",
        "      <td>  4888889</td>\n",
        "    </tr>\n",
        "    <tr>\n",
        "      <th>20</th>\n",
        "      <td> 34747</td>\n",
        "      <td> 34826</td>\n",
        "      <td>  769</td>\n",
        "      <td>  45590</td>\n",
        "      <td>  3644225</td>\n",
        "    </tr>\n",
        "  </tbody>\n",
        "</table>\n",
        "</div>"
       ],
       "metadata": {},
       "output_type": "pyout",
       "prompt_number": 93,
       "text": [
        "   10     100    1000    10000     100000\n",
        "1       8     86   6848  672442  66656988\n",
        "2      51     88   4024  342705  33943170\n",
        "4     184    158   1953  173700  17391834\n",
        "8     221    221   1220   98197   9676679\n",
        "10    245    276   1086   78385   6965354\n",
        "16    309    327    833   54264   4888889\n",
        "20  34747  34826    769   45590   3644225"
       ]
      }
     ],
     "prompt_number": 93
    },
    {
     "cell_type": "code",
     "collapsed": false,
     "input": [
      "pn_iloop.ix[:,:,'count_sort','Inclusive usec/call'].plot(marker='o', logx=True, logy=True)\n",
      "plt.xlabel('Number of threads')\n",
      "plt.ylabel('Microseconds')"
     ],
     "language": "python",
     "metadata": {},
     "outputs": [
      {
       "metadata": {},
       "output_type": "pyout",
       "prompt_number": 125,
       "text": [
        "<matplotlib.text.Text at 0x2b760bd4fdd0>"
       ]
      },
      {
       "metadata": {},
       "output_type": "display_data",
       "png": "[encoded data removed]",
       "text": [
        "<matplotlib.figure.Figure at 0x2b760bd2c690>"
       ]
      }
     ],
     "prompt_number": 125
    },
    {
     "cell_type": "heading",
     "level": 3,
     "metadata": {},
     "source": [
      "Speedup"
     ]
    },
    {
     "cell_type": "code",
     "collapsed": false,
     "input": [
      "speedup_iloop = pn_iloop.ix[:,1,'count_sort','Inclusive usec/call'] / pn_iloop.ix[:,:,'count_sort','Inclusive usec/call']\n",
      "speedup_iloop"
     ],
     "language": "python",
     "metadata": {},
     "outputs": [
      {
       "html": [
        "<div style=\"max-height:1000px;max-width:1500px;overflow:auto;\">\n",
        "<table border=\"1\" class=\"dataframe\">\n",
        "  <thead>\n",
        "    <tr style=\"text-align: right;\">\n",
        "      <th></th>\n",
        "      <th>10</th>\n",
        "      <th>100</th>\n",
        "      <th>1000</th>\n",
        "      <th>10000</th>\n",
        "      <th>100000</th>\n",
        "    </tr>\n",
        "  </thead>\n",
        "  <tbody>\n",
        "    <tr>\n",
        "      <th>1 </th>\n",
        "      <td>            1</td>\n",
        "      <td>           1</td>\n",
        "      <td>        1</td>\n",
        "      <td>        1</td>\n",
        "      <td>        1</td>\n",
        "    </tr>\n",
        "    <tr>\n",
        "      <th>2 </th>\n",
        "      <td>    0.1568627</td>\n",
        "      <td>   0.9772727</td>\n",
        "      <td> 1.701789</td>\n",
        "      <td>  1.96216</td>\n",
        "      <td> 1.963782</td>\n",
        "    </tr>\n",
        "    <tr>\n",
        "      <th>4 </th>\n",
        "      <td>   0.04347826</td>\n",
        "      <td>   0.5443038</td>\n",
        "      <td>   3.5064</td>\n",
        "      <td> 3.871284</td>\n",
        "      <td>  3.83266</td>\n",
        "    </tr>\n",
        "    <tr>\n",
        "      <th>8 </th>\n",
        "      <td>    0.0361991</td>\n",
        "      <td>   0.3891403</td>\n",
        "      <td> 5.613115</td>\n",
        "      <td> 6.847887</td>\n",
        "      <td> 6.888416</td>\n",
        "    </tr>\n",
        "    <tr>\n",
        "      <th>10</th>\n",
        "      <td>   0.03265306</td>\n",
        "      <td>   0.3115942</td>\n",
        "      <td> 6.305709</td>\n",
        "      <td> 8.578708</td>\n",
        "      <td> 9.569792</td>\n",
        "    </tr>\n",
        "    <tr>\n",
        "      <th>16</th>\n",
        "      <td>   0.02588997</td>\n",
        "      <td>   0.2629969</td>\n",
        "      <td> 8.220888</td>\n",
        "      <td> 12.39205</td>\n",
        "      <td> 13.63438</td>\n",
        "    </tr>\n",
        "    <tr>\n",
        "      <th>20</th>\n",
        "      <td> 0.0002302357</td>\n",
        "      <td> 0.002469419</td>\n",
        "      <td> 8.905072</td>\n",
        "      <td> 14.74977</td>\n",
        "      <td> 18.29113</td>\n",
        "    </tr>\n",
        "  </tbody>\n",
        "</table>\n",
        "</div>"
       ],
       "metadata": {},
       "output_type": "pyout",
       "prompt_number": 95,
       "text": [
        "          10           100       1000      10000     100000\n",
        "1              1            1         1         1         1\n",
        "2      0.1568627    0.9772727  1.701789   1.96216  1.963782\n",
        "4     0.04347826    0.5443038    3.5064  3.871284   3.83266\n",
        "8      0.0361991    0.3891403  5.613115  6.847887  6.888416\n",
        "10    0.03265306    0.3115942  6.305709  8.578708  9.569792\n",
        "16    0.02588997    0.2629969  8.220888  12.39205  13.63438\n",
        "20  0.0002302357  0.002469419  8.905072  14.74977  18.29113"
       ]
      }
     ],
     "prompt_number": 95
    },
    {
     "cell_type": "code",
     "collapsed": false,
     "input": [
      "speedup_iloop.plot()\n",
      "plt.plot(THREADS, THREADS, '--', label='Linear speedup')\n",
      "plt.legend(loc='best')\n",
      "plt.xlabel('Number of threads')\n",
      "plt.ylabel('Speedup')\n",
      "plt.title(\"$i$-loop parallel for\")"
     ],
     "language": "python",
     "metadata": {},
     "outputs": [
      {
       "metadata": {},
       "output_type": "pyout",
       "prompt_number": 96,
       "text": [
        "<matplotlib.text.Text at 0x2b7609024510>"
       ]
      },
      {
       "metadata": {},
       "output_type": "display_data",
       "png": "[encoded data removed]",
       "text": [
        "<matplotlib.figure.Figure at 0x2b7608f38c90>"
       ]
      }
     ],
     "prompt_number": 96
    },
    {
     "cell_type": "heading",
     "level": 2,
     "metadata": {},
     "source": [
      "j-loop"
     ]
    },
    {
     "cell_type": "code",
     "collapsed": false,
     "input": [
      "#!cd .. && make exec/omp_jloop-GNU\n",
      "#!cd .. && make workdir/omp_jloop.pbs\n",
      "!cd .. && make TAU_PROFILES_JLOOP"
     ],
     "language": "python",
     "metadata": {},
     "outputs": [
      {
       "output_type": "stream",
       "stream": "stdout",
       "text": [
        "make: Nothing to be done for `TAU_PROFILES_JLOOP'.\r\n"
       ]
      }
     ],
     "prompt_number": 97
    },
    {
     "cell_type": "code",
     "collapsed": false,
     "input": [
      "data = prepare_panel('omp_jloop')\n",
      "pn_jloop = pd.Panel4D(data)"
     ],
     "language": "python",
     "metadata": {},
     "outputs": [],
     "prompt_number": 98
    },
    {
     "cell_type": "code",
     "collapsed": false,
     "input": [
      "# dimensions: pn[vector size, threads, function name, metric]\n",
      "pn_jloop.ix[:,:,'count_sort','Inclusive usec/call']"
     ],
     "language": "python",
     "metadata": {},
     "outputs": [
      {
       "html": [
        "<div style=\"max-height:1000px;max-width:1500px;overflow:auto;\">\n",
        "<table border=\"1\" class=\"dataframe\">\n",
        "  <thead>\n",
        "    <tr style=\"text-align: right;\">\n",
        "      <th></th>\n",
        "      <th>10</th>\n",
        "      <th>100</th>\n",
        "      <th>1000</th>\n",
        "      <th>10000</th>\n",
        "      <th>100000</th>\n",
        "    </tr>\n",
        "  </thead>\n",
        "  <tbody>\n",
        "    <tr>\n",
        "      <th>1 </th>\n",
        "      <td>  14</td>\n",
        "      <td>     89</td>\n",
        "      <td>  7045</td>\n",
        "      <td>  658315</td>\n",
        "      <td>  66863486</td>\n",
        "    </tr>\n",
        "    <tr>\n",
        "      <th>2 </th>\n",
        "      <td>  95</td>\n",
        "      <td>    437</td>\n",
        "      <td> 11575</td>\n",
        "      <td>  663478</td>\n",
        "      <td> 103398272</td>\n",
        "    </tr>\n",
        "    <tr>\n",
        "      <th>4 </th>\n",
        "      <td> 158</td>\n",
        "      <td>    516</td>\n",
        "      <td> 16862</td>\n",
        "      <td> 1308516</td>\n",
        "      <td> 152685130</td>\n",
        "    </tr>\n",
        "    <tr>\n",
        "      <th>8 </th>\n",
        "      <td> 255</td>\n",
        "      <td>    728</td>\n",
        "      <td> 16512</td>\n",
        "      <td> 1551742</td>\n",
        "      <td> 101959000</td>\n",
        "    </tr>\n",
        "    <tr>\n",
        "      <th>10</th>\n",
        "      <td> 297</td>\n",
        "      <td>    798</td>\n",
        "      <td> 22860</td>\n",
        "      <td> 1480709</td>\n",
        "      <td> 132550371</td>\n",
        "    </tr>\n",
        "    <tr>\n",
        "      <th>16</th>\n",
        "      <td> 383</td>\n",
        "      <td>   1079</td>\n",
        "      <td> 23006</td>\n",
        "      <td> 1413372</td>\n",
        "      <td> 134742461</td>\n",
        "    </tr>\n",
        "    <tr>\n",
        "      <th>20</th>\n",
        "      <td> 457</td>\n",
        "      <td> 117537</td>\n",
        "      <td> 26345</td>\n",
        "      <td> 5533326</td>\n",
        "      <td> 138720191</td>\n",
        "    </tr>\n",
        "  </tbody>\n",
        "</table>\n",
        "</div>"
       ],
       "metadata": {},
       "output_type": "pyout",
       "prompt_number": 99,
       "text": [
        "   10      100    1000     10000      100000\n",
        "1      14      89   7045   658315   66863486\n",
        "2      95     437  11575   663478  103398272\n",
        "4     158     516  16862  1308516  152685130\n",
        "8     255     728  16512  1551742  101959000\n",
        "10    297     798  22860  1480709  132550371\n",
        "16    383    1079  23006  1413372  134742461\n",
        "20    457  117537  26345  5533326  138720191"
       ]
      }
     ],
     "prompt_number": 99
    },
    {
     "cell_type": "code",
     "collapsed": false,
     "input": [
      "pn_jloop.ix[:,:,'count_sort','Inclusive usec/call'].plot(marker='o', logx=True, logy=True)\n",
      "plt.xlabel('Number of threads')\n",
      "plt.ylabel('Microseconds')"
     ],
     "language": "python",
     "metadata": {},
     "outputs": [
      {
       "metadata": {},
       "output_type": "pyout",
       "prompt_number": 126,
       "text": [
        "<matplotlib.text.Text at 0x2b760bf0ba10>"
       ]
      },
      {
       "metadata": {},
       "output_type": "display_data",
       "png": "[encoded data removed]",
       "text": [
        "<matplotlib.figure.Figure at 0x2b7608e61990>"
       ]
      }
     ],
     "prompt_number": 126
    },
    {
     "cell_type": "heading",
     "level": 3,
     "metadata": {},
     "source": [
      "Speedup"
     ]
    },
    {
     "cell_type": "code",
     "collapsed": false,
     "input": [
      "speedup_jloop = pn_jloop.ix[:,1,'count_sort','Inclusive usec/call'] / pn_jloop.ix[:,:,'count_sort','Inclusive usec/call']\n",
      "speedup_jloop"
     ],
     "language": "python",
     "metadata": {},
     "outputs": [
      {
       "html": [
        "<div style=\"max-height:1000px;max-width:1500px;overflow:auto;\">\n",
        "<table border=\"1\" class=\"dataframe\">\n",
        "  <thead>\n",
        "    <tr style=\"text-align: right;\">\n",
        "      <th></th>\n",
        "      <th>10</th>\n",
        "      <th>100</th>\n",
        "      <th>1000</th>\n",
        "      <th>10000</th>\n",
        "      <th>100000</th>\n",
        "    </tr>\n",
        "  </thead>\n",
        "  <tbody>\n",
        "    <tr>\n",
        "      <th>1 </th>\n",
        "      <td>          1</td>\n",
        "      <td>            1</td>\n",
        "      <td>         1</td>\n",
        "      <td>         1</td>\n",
        "      <td>         1</td>\n",
        "    </tr>\n",
        "    <tr>\n",
        "      <th>2 </th>\n",
        "      <td>  0.1473684</td>\n",
        "      <td>    0.2036613</td>\n",
        "      <td> 0.6086393</td>\n",
        "      <td> 0.9922183</td>\n",
        "      <td> 0.6466596</td>\n",
        "    </tr>\n",
        "    <tr>\n",
        "      <th>4 </th>\n",
        "      <td> 0.08860759</td>\n",
        "      <td>    0.1724806</td>\n",
        "      <td> 0.4178033</td>\n",
        "      <td> 0.5031005</td>\n",
        "      <td> 0.4379175</td>\n",
        "    </tr>\n",
        "    <tr>\n",
        "      <th>8 </th>\n",
        "      <td> 0.05490196</td>\n",
        "      <td>    0.1222527</td>\n",
        "      <td> 0.4266594</td>\n",
        "      <td> 0.4242426</td>\n",
        "      <td>  0.655788</td>\n",
        "    </tr>\n",
        "    <tr>\n",
        "      <th>10</th>\n",
        "      <td> 0.04713805</td>\n",
        "      <td>    0.1115288</td>\n",
        "      <td> 0.3081802</td>\n",
        "      <td> 0.4445944</td>\n",
        "      <td> 0.5044383</td>\n",
        "    </tr>\n",
        "    <tr>\n",
        "      <th>16</th>\n",
        "      <td> 0.03655352</td>\n",
        "      <td>   0.08248378</td>\n",
        "      <td> 0.3062245</td>\n",
        "      <td> 0.4657762</td>\n",
        "      <td> 0.4962317</td>\n",
        "    </tr>\n",
        "    <tr>\n",
        "      <th>20</th>\n",
        "      <td> 0.03063457</td>\n",
        "      <td> 0.0007572084</td>\n",
        "      <td> 0.2674132</td>\n",
        "      <td> 0.1189727</td>\n",
        "      <td> 0.4820026</td>\n",
        "    </tr>\n",
        "  </tbody>\n",
        "</table>\n",
        "</div>"
       ],
       "metadata": {},
       "output_type": "pyout",
       "prompt_number": 100,
       "text": [
        "        10            100        1000       10000      100000\n",
        "1            1             1          1          1          1\n",
        "2    0.1473684     0.2036613  0.6086393  0.9922183  0.6466596\n",
        "4   0.08860759     0.1724806  0.4178033  0.5031005  0.4379175\n",
        "8   0.05490196     0.1222527  0.4266594  0.4242426   0.655788\n",
        "10  0.04713805     0.1115288  0.3081802  0.4445944  0.5044383\n",
        "16  0.03655352    0.08248378  0.3062245  0.4657762  0.4962317\n",
        "20  0.03063457  0.0007572084  0.2674132  0.1189727  0.4820026"
       ]
      }
     ],
     "prompt_number": 100
    },
    {
     "cell_type": "code",
     "collapsed": false,
     "input": [
      "speedup_jloop.plot()\n",
      "plt.legend(loc='best')\n",
      "plt.xlabel('Number of threads')\n",
      "plt.ylabel('Speedup')\n",
      "plt.title(\"$j$-loop parallel for\")"
     ],
     "language": "python",
     "metadata": {},
     "outputs": [
      {
       "metadata": {},
       "output_type": "pyout",
       "prompt_number": 101,
       "text": [
        "<matplotlib.text.Text at 0x2b760910ee50>"
       ]
      },
      {
       "metadata": {},
       "output_type": "display_data",
       "png": "[encoded data removed]",
       "text": [
        "<matplotlib.figure.Figure at 0x2b7608fb9c50>"
       ]
      }
     ],
     "prompt_number": 101
    },
    {
     "cell_type": "heading",
     "level": 1,
     "metadata": {},
     "source": [
      "C"
     ]
    },
    {
     "cell_type": "code",
     "collapsed": false,
     "input": [],
     "language": "python",
     "metadata": {},
     "outputs": []
    },
    {
     "cell_type": "heading",
     "level": 1,
     "metadata": {},
     "source": [
      "D"
     ]
    },
    {
     "cell_type": "code",
     "collapsed": false,
     "input": [],
     "language": "python",
     "metadata": {},
     "outputs": []
    }
   ],
   "metadata": {}
  }
 ]
}