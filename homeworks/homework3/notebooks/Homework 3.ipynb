{
 "metadata": {
  "name": "",
  "signature": "sha256:18a6b2b38527aa29b6106470defaa7ca60aa81ebfead82181db8e3b20129bb7a"
 },
 "nbformat": 3,
 "nbformat_minor": 0,
 "worksheets": [
  {
   "cells": [
    {
     "cell_type": "markdown",
     "metadata": {},
     "source": [
      "For profiling I used TAU (https://tau.uoregon.edu/),\n",
      "since I wanted to try it out.\n",
      "TAU can report how much time was spent on each function,\n",
      "and I used this to report only the time taken on each call to count_sort (or qsort).\n",
      "\n",
      "For statistical significance each timing should be repeated at least 10 times and so take mean and standard deviation in consideration.\n",
      "I had part of the analysis prepared for this,\n",
      "but not all simulations concluded in time and I reverted to the single case.\n",
      "\n",
      "Python modules used in analysis:"
     ]
    },
    {
     "cell_type": "code",
     "collapsed": false,
     "input": [
      "%matplotlib inline\n",
      "from IPython.core.display import HTML\n",
      "\n",
      "from collections import defaultdict\n",
      "\n",
      "import matplotlib.pyplot as plt\n",
      "import pandas as pd\n",
      "import seaborn as sns\n",
      "\n",
      "from analysis_scripts import prepare_panel"
     ],
     "language": "python",
     "metadata": {},
     "outputs": [],
     "prompt_number": 1
    },
    {
     "cell_type": "heading",
     "level": 1,
     "metadata": {},
     "source": [
      "A"
     ]
    },
    {
     "cell_type": "heading",
     "level": 2,
     "metadata": {},
     "source": [
      "i-loop"
     ]
    },
    {
     "cell_type": "markdown",
     "metadata": {},
     "source": [
      "In the i-loop case $i, j, \\text{count}$ can be private.\n",
      "\n",
      "$a$ and $\\text{temp}$ should be shared,\n",
      "since $a$ is read-only but can be big (and so have a substantial overhead if it is private)\n",
      "and $\\text{temp}$ is written by all threads,\n",
      "but only at an specific position for each thread (so there aren't race conditions).\n",
      "\n",
      "$n$ is a constant in this context,\n",
      "but it needs to be shared or each thread is going to allocate a new variable,\n",
      "and since it is not initialized there will be errors."
     ]
    },
    {
     "cell_type": "code",
     "collapsed": false,
     "input": [
      "!pygmentize -l c -f html -O full -o ./iloop.html ../src/omp_iloop.c\n",
      "HTML(open('iloop.html', 'r').read())"
     ],
     "language": "python",
     "metadata": {},
     "outputs": [
      {
       "html": [
        "<!DOCTYPE html PUBLIC \"-//W3C//DTD HTML 4.01//EN\"\n",
        "   \"http://www.w3.org/TR/html4/strict.dtd\">\n",
        "\n",
        "<html>\n",
        "<head>\n",
        "  <title></title>\n",
        "  <meta http-equiv=\"content-type\" content=\"text/html; charset=latin1\">\n",
        "  <style type=\"text/css\">\n",
        "td.linenos { background-color: #f0f0f0; padding-right: 10px; }\n",
        "span.lineno { background-color: #f0f0f0; padding: 0 5px 0 5px; }\n",
        "pre { line-height: 125%; }\n",
        "body .hll { background-color: #ffffcc }\n",
        "body  { background: #f8f8f8; }\n",
        "body .c { color: #408080; font-style: italic } /* Comment */\n",
        "body .err { border: 1px solid #FF0000 } /* Error */\n",
        "body .k { color: #008000; font-weight: bold } /* Keyword */\n",
        "body .o { color: #666666 } /* Operator */\n",
        "body .cm { color: #408080; font-style: italic } /* Comment.Multiline */\n",
        "body .cp { color: #BC7A00 } /* Comment.Preproc */\n",
        "body .c1 { color: #408080; font-style: italic } /* Comment.Single */\n",
        "body .cs { color: #408080; font-style: italic } /* Comment.Special */\n",
        "body .gd { color: #A00000 } /* Generic.Deleted */\n",
        "body .ge { font-style: italic } /* Generic.Emph */\n",
        "body .gr { color: #FF0000 } /* Generic.Error */\n",
        "body .gh { color: #000080; font-weight: bold } /* Generic.Heading */\n",
        "body .gi { color: #00A000 } /* Generic.Inserted */\n",
        "body .go { color: #888888 } /* Generic.Output */\n",
        "body .gp { color: #000080; font-weight: bold } /* Generic.Prompt */\n",
        "body .gs { font-weight: bold } /* Generic.Strong */\n",
        "body .gu { color: #800080; font-weight: bold } /* Generic.Subheading */\n",
        "body .gt { color: #0044DD } /* Generic.Traceback */\n",
        "body .kc { color: #008000; font-weight: bold } /* Keyword.Constant */\n",
        "body .kd { color: #008000; font-weight: bold } /* Keyword.Declaration */\n",
        "body .kn { color: #008000; font-weight: bold } /* Keyword.Namespace */\n",
        "body .kp { color: #008000 } /* Keyword.Pseudo */\n",
        "body .kr { color: #008000; font-weight: bold } /* Keyword.Reserved */\n",
        "body .kt { color: #B00040 } /* Keyword.Type */\n",
        "body .m { color: #666666 } /* Literal.Number */\n",
        "body .s { color: #BA2121 } /* Literal.String */\n",
        "body .na { color: #7D9029 } /* Name.Attribute */\n",
        "body .nb { color: #008000 } /* Name.Builtin */\n",
        "body .nc { color: #0000FF; font-weight: bold } /* Name.Class */\n",
        "body .no { color: #880000 } /* Name.Constant */\n",
        "body .nd { color: #AA22FF } /* Name.Decorator */\n",
        "body .ni { color: #999999; font-weight: bold } /* Name.Entity */\n",
        "body .ne { color: #D2413A; font-weight: bold } /* Name.Exception */\n",
        "body .nf { color: #0000FF } /* Name.Function */\n",
        "body .nl { color: #A0A000 } /* Name.Label */\n",
        "body .nn { color: #0000FF; font-weight: bold } /* Name.Namespace */\n",
        "body .nt { color: #008000; font-weight: bold } /* Name.Tag */\n",
        "body .nv { color: #19177C } /* Name.Variable */\n",
        "body .ow { color: #AA22FF; font-weight: bold } /* Operator.Word */\n",
        "body .w { color: #bbbbbb } /* Text.Whitespace */\n",
        "body .mf { color: #666666 } /* Literal.Number.Float */\n",
        "body .mh { color: #666666 } /* Literal.Number.Hex */\n",
        "body .mi { color: #666666 } /* Literal.Number.Integer */\n",
        "body .mo { color: #666666 } /* Literal.Number.Oct */\n",
        "body .sb { color: #BA2121 } /* Literal.String.Backtick */\n",
        "body .sc { color: #BA2121 } /* Literal.String.Char */\n",
        "body .sd { color: #BA2121; font-style: italic } /* Literal.String.Doc */\n",
        "body .s2 { color: #BA2121 } /* Literal.String.Double */\n",
        "body .se { color: #BB6622; font-weight: bold } /* Literal.String.Escape */\n",
        "body .sh { color: #BA2121 } /* Literal.String.Heredoc */\n",
        "body .si { color: #BB6688; font-weight: bold } /* Literal.String.Interpol */\n",
        "body .sx { color: #008000 } /* Literal.String.Other */\n",
        "body .sr { color: #BB6688 } /* Literal.String.Regex */\n",
        "body .s1 { color: #BA2121 } /* Literal.String.Single */\n",
        "body .ss { color: #19177C } /* Literal.String.Symbol */\n",
        "body .bp { color: #008000 } /* Name.Builtin.Pseudo */\n",
        "body .vc { color: #19177C } /* Name.Variable.Class */\n",
        "body .vg { color: #19177C } /* Name.Variable.Global */\n",
        "body .vi { color: #19177C } /* Name.Variable.Instance */\n",
        "body .il { color: #666666 } /* Literal.Number.Integer.Long */\n",
        "\n",
        "  </style>\n",
        "</head>\n",
        "<body>\n",
        "<h2></h2>\n",
        "\n",
        "<div class=\"highlight\"><pre><span class=\"cp\">#include &lt;stdio.h&gt;</span>\n",
        "<span class=\"cp\">#include &lt;stdlib.h&gt;</span>\n",
        "<span class=\"cp\">#include &lt;string.h&gt;</span>\n",
        "\n",
        "<span class=\"cp\">#ifdef _OPENMP</span>\n",
        "<span class=\"cp\">#include &lt;omp.h&gt;</span>\n",
        "<span class=\"cp\">#endif</span>\n",
        "\n",
        "<span class=\"cp\">#ifndef VECTOR_SIZE</span>\n",
        "<span class=\"cp\">#define VECTOR_SIZE 100</span>\n",
        "<span class=\"cp\">#endif</span>\n",
        "\n",
        "\n",
        "<span class=\"kt\">void</span> <span class=\"nf\">count_sort</span><span class=\"p\">(</span><span class=\"kt\">int</span> <span class=\"n\">a</span><span class=\"p\">[],</span> <span class=\"kt\">int</span> <span class=\"n\">n</span><span class=\"p\">)</span> <span class=\"p\">{</span>\n",
        "  <span class=\"kt\">int</span> <span class=\"n\">i</span><span class=\"p\">,</span> <span class=\"n\">j</span><span class=\"p\">,</span> <span class=\"n\">count</span><span class=\"p\">;</span>\n",
        "  <span class=\"kt\">int</span> <span class=\"o\">*</span><span class=\"n\">temp</span> <span class=\"o\">=</span> <span class=\"n\">malloc</span><span class=\"p\">(</span><span class=\"n\">n</span><span class=\"o\">*</span><span class=\"k\">sizeof</span><span class=\"p\">(</span><span class=\"kt\">int</span><span class=\"p\">));</span>\n",
        "\n",
        "  <span class=\"err\">#</span><span class=\"n\">pragma</span> <span class=\"n\">omp</span> <span class=\"n\">parallel</span> <span class=\"k\">for</span> <span class=\"k\">default</span><span class=\"p\">(</span><span class=\"n\">none</span><span class=\"p\">)</span> <span class=\"n\">private</span><span class=\"p\">(</span><span class=\"n\">i</span><span class=\"p\">,</span> <span class=\"n\">j</span><span class=\"p\">,</span> <span class=\"n\">count</span><span class=\"p\">)</span> <span class=\"n\">shared</span><span class=\"p\">(</span><span class=\"n\">a</span><span class=\"p\">,</span> <span class=\"n\">temp</span><span class=\"p\">,</span> <span class=\"n\">n</span><span class=\"p\">)</span>\n",
        "  <span class=\"k\">for</span> <span class=\"p\">(</span><span class=\"n\">i</span> <span class=\"o\">=</span> <span class=\"mi\">0</span><span class=\"p\">;</span> <span class=\"n\">i</span> <span class=\"o\">&lt;</span> <span class=\"n\">n</span><span class=\"p\">;</span> <span class=\"n\">i</span><span class=\"o\">++</span><span class=\"p\">)</span> <span class=\"p\">{</span>\n",
        "    <span class=\"n\">count</span> <span class=\"o\">=</span> <span class=\"mi\">0</span><span class=\"p\">;</span>\n",
        "    <span class=\"k\">for</span> <span class=\"p\">(</span><span class=\"n\">j</span> <span class=\"o\">=</span> <span class=\"mi\">0</span><span class=\"p\">;</span> <span class=\"n\">j</span> <span class=\"o\">&lt;</span> <span class=\"n\">n</span><span class=\"p\">;</span> <span class=\"n\">j</span><span class=\"o\">++</span><span class=\"p\">)</span> <span class=\"p\">{</span>\n",
        "      <span class=\"k\">if</span> <span class=\"p\">(</span><span class=\"n\">a</span><span class=\"p\">[</span><span class=\"n\">j</span><span class=\"p\">]</span> <span class=\"o\">&lt;</span> <span class=\"n\">a</span><span class=\"p\">[</span><span class=\"n\">i</span><span class=\"p\">])</span>\n",
        "        <span class=\"n\">count</span><span class=\"o\">++</span><span class=\"p\">;</span>\n",
        "      <span class=\"k\">else</span> <span class=\"k\">if</span> <span class=\"p\">(</span><span class=\"n\">a</span><span class=\"p\">[</span><span class=\"n\">j</span><span class=\"p\">]</span> <span class=\"o\">==</span> <span class=\"n\">a</span><span class=\"p\">[</span><span class=\"n\">i</span><span class=\"p\">]</span> <span class=\"o\">&amp;&amp;</span> <span class=\"n\">j</span> <span class=\"o\">&lt;</span> <span class=\"n\">i</span><span class=\"p\">)</span>\n",
        "        <span class=\"n\">count</span><span class=\"o\">++</span><span class=\"p\">;</span>\n",
        "    <span class=\"p\">}</span>\n",
        "    <span class=\"n\">temp</span><span class=\"p\">[</span><span class=\"n\">count</span><span class=\"p\">]</span> <span class=\"o\">=</span> <span class=\"n\">a</span><span class=\"p\">[</span><span class=\"n\">i</span><span class=\"p\">];</span>\n",
        "  <span class=\"p\">}</span>\n",
        "\n",
        "  <span class=\"err\">#</span><span class=\"n\">ifndef</span> <span class=\"n\">_OPENMP</span>\n",
        "  <span class=\"n\">memcpy</span><span class=\"p\">(</span><span class=\"n\">a</span><span class=\"p\">,</span> <span class=\"n\">temp</span><span class=\"p\">,</span> <span class=\"n\">n</span><span class=\"o\">*</span><span class=\"k\">sizeof</span><span class=\"p\">(</span><span class=\"kt\">int</span><span class=\"p\">));</span>\n",
        "  <span class=\"err\">#</span><span class=\"k\">else</span>\n",
        "\n",
        "  <span class=\"err\">#</span><span class=\"n\">pragma</span> <span class=\"n\">omp</span> <span class=\"n\">parallel</span>\n",
        "  <span class=\"p\">{</span>\n",
        "    <span class=\"kt\">int</span> <span class=\"n\">thread_count</span> <span class=\"o\">=</span> <span class=\"n\">omp_get_num_threads</span><span class=\"p\">();</span>\n",
        "    <span class=\"kt\">int</span> <span class=\"n\">local_n</span> <span class=\"o\">=</span> <span class=\"n\">n</span> <span class=\"o\">/</span> <span class=\"n\">thread_count</span><span class=\"p\">;</span>\n",
        "\n",
        "    <span class=\"err\">#</span><span class=\"n\">pragma</span> <span class=\"n\">omp</span> <span class=\"n\">parallel</span> <span class=\"k\">for</span> <span class=\"k\">default</span><span class=\"p\">(</span><span class=\"n\">none</span><span class=\"p\">)</span> <span class=\"n\">private</span><span class=\"p\">(</span><span class=\"n\">i</span><span class=\"p\">)</span> <span class=\"n\">shared</span><span class=\"p\">(</span><span class=\"n\">n</span><span class=\"p\">,</span> <span class=\"n\">a</span><span class=\"p\">,</span> <span class=\"n\">temp</span><span class=\"p\">,</span> <span class=\"n\">local_n</span><span class=\"p\">,</span> <span class=\"n\">thread_count</span><span class=\"p\">)</span>\n",
        "    <span class=\"k\">for</span> <span class=\"p\">(</span><span class=\"kt\">int</span> <span class=\"n\">i</span> <span class=\"o\">=</span> <span class=\"mi\">0</span><span class=\"p\">;</span> <span class=\"n\">i</span> <span class=\"o\">&lt;</span> <span class=\"n\">thread_count</span><span class=\"p\">;</span> <span class=\"n\">i</span><span class=\"o\">++</span><span class=\"p\">)</span> <span class=\"p\">{</span>\n",
        "      <span class=\"kt\">int</span> <span class=\"n\">start</span> <span class=\"o\">=</span> <span class=\"n\">i</span> <span class=\"o\">*</span> <span class=\"n\">local_n</span><span class=\"p\">;</span>\n",
        "      <span class=\"kt\">int</span> <span class=\"n\">nelem</span> <span class=\"o\">=</span> <span class=\"n\">local_n</span><span class=\"p\">;</span>\n",
        "      <span class=\"k\">if</span> <span class=\"p\">(</span><span class=\"n\">i</span> <span class=\"o\">==</span> <span class=\"n\">thread_count</span> <span class=\"o\">-</span> <span class=\"mi\">1</span><span class=\"p\">)</span> <span class=\"p\">{</span>\n",
        "        <span class=\"n\">nelem</span> <span class=\"o\">=</span> <span class=\"n\">n</span> <span class=\"o\">-</span> <span class=\"n\">start</span><span class=\"p\">;</span>\n",
        "      <span class=\"p\">}</span>\n",
        "      <span class=\"n\">memcpy</span><span class=\"p\">(</span><span class=\"n\">a</span> <span class=\"o\">+</span> <span class=\"n\">start</span><span class=\"p\">,</span> <span class=\"n\">temp</span> <span class=\"o\">+</span> <span class=\"n\">start</span><span class=\"p\">,</span> <span class=\"n\">nelem</span> <span class=\"o\">*</span> <span class=\"k\">sizeof</span><span class=\"p\">(</span><span class=\"kt\">int</span><span class=\"p\">));</span>\n",
        "    <span class=\"p\">}</span>\n",
        "  <span class=\"p\">}</span>\n",
        "\n",
        "  <span class=\"err\">#</span><span class=\"n\">endif</span>\n",
        "  <span class=\"n\">free</span><span class=\"p\">(</span><span class=\"n\">temp</span><span class=\"p\">);</span>\n",
        "<span class=\"p\">}</span> <span class=\"cm\">/* Count sort */</span>\n",
        "\n",
        "\n",
        "<span class=\"kt\">int</span> <span class=\"nf\">init_vector</span><span class=\"p\">(</span><span class=\"kt\">int</span> <span class=\"n\">vect</span><span class=\"p\">[])</span> <span class=\"p\">{</span>\n",
        "    <span class=\"k\">for</span> <span class=\"p\">(</span><span class=\"kt\">int</span> <span class=\"n\">i</span> <span class=\"o\">=</span> <span class=\"mi\">0</span><span class=\"p\">;</span> <span class=\"n\">i</span> <span class=\"o\">&lt;</span> <span class=\"n\">VECTOR_SIZE</span><span class=\"p\">;</span> <span class=\"o\">++</span><span class=\"n\">i</span> <span class=\"p\">)</span> <span class=\"p\">{</span>\n",
        "      <span class=\"n\">vect</span><span class=\"p\">[</span><span class=\"n\">i</span><span class=\"p\">]</span> <span class=\"o\">=</span> <span class=\"n\">rand</span><span class=\"p\">()</span> <span class=\"o\">%</span> <span class=\"mi\">100</span><span class=\"p\">;</span>\n",
        "    <span class=\"p\">}</span>\n",
        "    <span class=\"k\">return</span> <span class=\"mi\">0</span><span class=\"p\">;</span>\n",
        "<span class=\"p\">}</span>\n",
        "\n",
        "\n",
        "<span class=\"kt\">int</span> <span class=\"nf\">main</span><span class=\"p\">(</span><span class=\"kt\">int</span> <span class=\"n\">argc</span><span class=\"p\">,</span> <span class=\"kt\">char</span><span class=\"o\">**</span> <span class=\"n\">argv</span><span class=\"p\">)</span> <span class=\"p\">{</span>\n",
        "  <span class=\"kt\">int</span> <span class=\"n\">vector</span><span class=\"p\">[</span><span class=\"n\">VECTOR_SIZE</span><span class=\"p\">];</span>\n",
        "\n",
        "  <span class=\"n\">init_vector</span><span class=\"p\">(</span><span class=\"n\">vector</span><span class=\"p\">);</span>\n",
        "\n",
        "  <span class=\"n\">count_sort</span><span class=\"p\">(</span><span class=\"n\">vector</span><span class=\"p\">,</span> <span class=\"n\">VECTOR_SIZE</span><span class=\"p\">);</span>\n",
        "\n",
        "  <span class=\"k\">for</span><span class=\"p\">(</span><span class=\"kt\">int</span> <span class=\"n\">i</span> <span class=\"o\">=</span> <span class=\"mi\">1</span><span class=\"p\">;</span> <span class=\"n\">i</span> <span class=\"o\">&lt;</span> <span class=\"n\">VECTOR_SIZE</span><span class=\"p\">;</span> <span class=\"n\">i</span><span class=\"o\">++</span><span class=\"p\">)</span> <span class=\"p\">{</span>\n",
        "    <span class=\"k\">if</span> <span class=\"p\">(</span><span class=\"n\">vector</span><span class=\"p\">[</span><span class=\"n\">i</span><span class=\"p\">]</span> <span class=\"o\">&lt;</span> <span class=\"n\">vector</span><span class=\"p\">[</span><span class=\"n\">i</span> <span class=\"o\">-</span> <span class=\"mi\">1</span><span class=\"p\">])</span> <span class=\"p\">{</span>\n",
        "      <span class=\"k\">return</span> <span class=\"mi\">1</span><span class=\"p\">;</span>\n",
        "    <span class=\"p\">}</span>\n",
        "  <span class=\"p\">}</span>\n",
        "\n",
        "  <span class=\"k\">return</span> <span class=\"mi\">0</span><span class=\"p\">;</span>\n",
        "<span class=\"p\">}</span>\n",
        "</pre></div>\n",
        "</body>\n",
        "</html>\n"
       ],
       "metadata": {},
       "output_type": "pyout",
       "prompt_number": 30,
       "text": [
        "<IPython.core.display.HTML at 0x2ac92ef26c10>"
       ]
      }
     ],
     "prompt_number": 30
    },
    {
     "cell_type": "heading",
     "level": 2,
     "metadata": {},
     "source": [
      "j-loop"
     ]
    },
    {
     "cell_type": "markdown",
     "metadata": {},
     "source": [
      "In the j-loop case $j$ should be private.\n",
      "$\\text{count}$ needs to be shared,\n",
      "since every thread might potentially update it.\n",
      "This also means threads need to wait if another thread is already updating $\\text{count}$.\n",
      "\n",
      "$a$ is read-only but can be big (and so have a substantial overhead if it is private),\n",
      "so I made it shared.\n",
      "\n",
      "$i$ and $n$ are constant in this context,\n",
      "but they needs to be shared or each thread is going to allocate a new variable,\n",
      "and since it is not initialized there will be errors."
     ]
    },
    {
     "cell_type": "code",
     "collapsed": false,
     "input": [
      "!pygmentize -l c -f html -O full -o ./jloop.html ../src/omp_jloop.c\n",
      "HTML(open('jloop.html', 'r').read())"
     ],
     "language": "python",
     "metadata": {},
     "outputs": [
      {
       "html": [
        "<!DOCTYPE html PUBLIC \"-//W3C//DTD HTML 4.01//EN\"\n",
        "   \"http://www.w3.org/TR/html4/strict.dtd\">\n",
        "\n",
        "<html>\n",
        "<head>\n",
        "  <title></title>\n",
        "  <meta http-equiv=\"content-type\" content=\"text/html; charset=latin1\">\n",
        "  <style type=\"text/css\">\n",
        "td.linenos { background-color: #f0f0f0; padding-right: 10px; }\n",
        "span.lineno { background-color: #f0f0f0; padding: 0 5px 0 5px; }\n",
        "pre { line-height: 125%; }\n",
        "body .hll { background-color: #ffffcc }\n",
        "body  { background: #f8f8f8; }\n",
        "body .c { color: #408080; font-style: italic } /* Comment */\n",
        "body .err { border: 1px solid #FF0000 } /* Error */\n",
        "body .k { color: #008000; font-weight: bold } /* Keyword */\n",
        "body .o { color: #666666 } /* Operator */\n",
        "body .cm { color: #408080; font-style: italic } /* Comment.Multiline */\n",
        "body .cp { color: #BC7A00 } /* Comment.Preproc */\n",
        "body .c1 { color: #408080; font-style: italic } /* Comment.Single */\n",
        "body .cs { color: #408080; font-style: italic } /* Comment.Special */\n",
        "body .gd { color: #A00000 } /* Generic.Deleted */\n",
        "body .ge { font-style: italic } /* Generic.Emph */\n",
        "body .gr { color: #FF0000 } /* Generic.Error */\n",
        "body .gh { color: #000080; font-weight: bold } /* Generic.Heading */\n",
        "body .gi { color: #00A000 } /* Generic.Inserted */\n",
        "body .go { color: #888888 } /* Generic.Output */\n",
        "body .gp { color: #000080; font-weight: bold } /* Generic.Prompt */\n",
        "body .gs { font-weight: bold } /* Generic.Strong */\n",
        "body .gu { color: #800080; font-weight: bold } /* Generic.Subheading */\n",
        "body .gt { color: #0044DD } /* Generic.Traceback */\n",
        "body .kc { color: #008000; font-weight: bold } /* Keyword.Constant */\n",
        "body .kd { color: #008000; font-weight: bold } /* Keyword.Declaration */\n",
        "body .kn { color: #008000; font-weight: bold } /* Keyword.Namespace */\n",
        "body .kp { color: #008000 } /* Keyword.Pseudo */\n",
        "body .kr { color: #008000; font-weight: bold } /* Keyword.Reserved */\n",
        "body .kt { color: #B00040 } /* Keyword.Type */\n",
        "body .m { color: #666666 } /* Literal.Number */\n",
        "body .s { color: #BA2121 } /* Literal.String */\n",
        "body .na { color: #7D9029 } /* Name.Attribute */\n",
        "body .nb { color: #008000 } /* Name.Builtin */\n",
        "body .nc { color: #0000FF; font-weight: bold } /* Name.Class */\n",
        "body .no { color: #880000 } /* Name.Constant */\n",
        "body .nd { color: #AA22FF } /* Name.Decorator */\n",
        "body .ni { color: #999999; font-weight: bold } /* Name.Entity */\n",
        "body .ne { color: #D2413A; font-weight: bold } /* Name.Exception */\n",
        "body .nf { color: #0000FF } /* Name.Function */\n",
        "body .nl { color: #A0A000 } /* Name.Label */\n",
        "body .nn { color: #0000FF; font-weight: bold } /* Name.Namespace */\n",
        "body .nt { color: #008000; font-weight: bold } /* Name.Tag */\n",
        "body .nv { color: #19177C } /* Name.Variable */\n",
        "body .ow { color: #AA22FF; font-weight: bold } /* Operator.Word */\n",
        "body .w { color: #bbbbbb } /* Text.Whitespace */\n",
        "body .mf { color: #666666 } /* Literal.Number.Float */\n",
        "body .mh { color: #666666 } /* Literal.Number.Hex */\n",
        "body .mi { color: #666666 } /* Literal.Number.Integer */\n",
        "body .mo { color: #666666 } /* Literal.Number.Oct */\n",
        "body .sb { color: #BA2121 } /* Literal.String.Backtick */\n",
        "body .sc { color: #BA2121 } /* Literal.String.Char */\n",
        "body .sd { color: #BA2121; font-style: italic } /* Literal.String.Doc */\n",
        "body .s2 { color: #BA2121 } /* Literal.String.Double */\n",
        "body .se { color: #BB6622; font-weight: bold } /* Literal.String.Escape */\n",
        "body .sh { color: #BA2121 } /* Literal.String.Heredoc */\n",
        "body .si { color: #BB6688; font-weight: bold } /* Literal.String.Interpol */\n",
        "body .sx { color: #008000 } /* Literal.String.Other */\n",
        "body .sr { color: #BB6688 } /* Literal.String.Regex */\n",
        "body .s1 { color: #BA2121 } /* Literal.String.Single */\n",
        "body .ss { color: #19177C } /* Literal.String.Symbol */\n",
        "body .bp { color: #008000 } /* Name.Builtin.Pseudo */\n",
        "body .vc { color: #19177C } /* Name.Variable.Class */\n",
        "body .vg { color: #19177C } /* Name.Variable.Global */\n",
        "body .vi { color: #19177C } /* Name.Variable.Instance */\n",
        "body .il { color: #666666 } /* Literal.Number.Integer.Long */\n",
        "\n",
        "  </style>\n",
        "</head>\n",
        "<body>\n",
        "<h2></h2>\n",
        "\n",
        "<div class=\"highlight\"><pre><span class=\"cp\">#include &lt;stdio.h&gt;</span>\n",
        "<span class=\"cp\">#include &lt;stdlib.h&gt;</span>\n",
        "<span class=\"cp\">#include &lt;string.h&gt;</span>\n",
        "\n",
        "<span class=\"cp\">#ifndef VECTOR_SIZE</span>\n",
        "<span class=\"cp\">#define VECTOR_SIZE 100</span>\n",
        "<span class=\"cp\">#endif</span>\n",
        "\n",
        "<span class=\"cp\">#ifdef _OPENMP</span>\n",
        "<span class=\"cp\">#include &lt;omp.h&gt;</span>\n",
        "<span class=\"cp\">#endif</span>\n",
        "\n",
        "<span class=\"kt\">void</span> <span class=\"nf\">count_sort</span><span class=\"p\">(</span><span class=\"kt\">int</span> <span class=\"n\">a</span><span class=\"p\">[],</span> <span class=\"kt\">int</span> <span class=\"n\">n</span><span class=\"p\">)</span> <span class=\"p\">{</span>\n",
        "  <span class=\"kt\">int</span> <span class=\"n\">i</span><span class=\"p\">,</span> <span class=\"n\">j</span><span class=\"p\">,</span> <span class=\"n\">count</span><span class=\"p\">;</span>\n",
        "  <span class=\"kt\">int</span> <span class=\"o\">*</span><span class=\"n\">temp</span> <span class=\"o\">=</span> <span class=\"n\">malloc</span><span class=\"p\">(</span><span class=\"n\">n</span><span class=\"o\">*</span><span class=\"k\">sizeof</span><span class=\"p\">(</span><span class=\"kt\">int</span><span class=\"p\">));</span>\n",
        "\n",
        "  <span class=\"k\">for</span> <span class=\"p\">(</span><span class=\"n\">i</span> <span class=\"o\">=</span> <span class=\"mi\">0</span><span class=\"p\">;</span> <span class=\"n\">i</span> <span class=\"o\">&lt;</span> <span class=\"n\">n</span><span class=\"p\">;</span> <span class=\"n\">i</span><span class=\"o\">++</span><span class=\"p\">)</span> <span class=\"p\">{</span>\n",
        "    <span class=\"n\">count</span> <span class=\"o\">=</span> <span class=\"mi\">0</span><span class=\"p\">;</span>\n",
        "    <span class=\"err\">#</span><span class=\"n\">pragma</span> <span class=\"n\">omp</span> <span class=\"n\">parallel</span> <span class=\"k\">for</span> <span class=\"k\">default</span><span class=\"p\">(</span><span class=\"n\">none</span><span class=\"p\">)</span> <span class=\"n\">private</span><span class=\"p\">(</span><span class=\"n\">j</span><span class=\"p\">)</span> <span class=\"n\">shared</span><span class=\"p\">(</span><span class=\"n\">count</span><span class=\"p\">,</span> <span class=\"n\">i</span><span class=\"p\">,</span> <span class=\"n\">n</span><span class=\"p\">,</span> <span class=\"n\">a</span><span class=\"p\">)</span>\n",
        "    <span class=\"k\">for</span> <span class=\"p\">(</span><span class=\"n\">j</span> <span class=\"o\">=</span> <span class=\"mi\">0</span><span class=\"p\">;</span> <span class=\"n\">j</span> <span class=\"o\">&lt;</span> <span class=\"n\">n</span><span class=\"p\">;</span> <span class=\"n\">j</span><span class=\"o\">++</span><span class=\"p\">)</span> <span class=\"p\">{</span>\n",
        "      <span class=\"k\">if</span> <span class=\"p\">(</span><span class=\"n\">a</span><span class=\"p\">[</span><span class=\"n\">j</span><span class=\"p\">]</span> <span class=\"o\">&lt;</span> <span class=\"n\">a</span><span class=\"p\">[</span><span class=\"n\">i</span><span class=\"p\">])</span>\n",
        "        <span class=\"n\">count</span><span class=\"o\">++</span><span class=\"p\">;</span>\n",
        "      <span class=\"k\">else</span> <span class=\"k\">if</span> <span class=\"p\">(</span><span class=\"n\">a</span><span class=\"p\">[</span><span class=\"n\">j</span><span class=\"p\">]</span> <span class=\"o\">==</span> <span class=\"n\">a</span><span class=\"p\">[</span><span class=\"n\">i</span><span class=\"p\">]</span> <span class=\"o\">&amp;&amp;</span> <span class=\"n\">j</span> <span class=\"o\">&lt;</span> <span class=\"n\">i</span><span class=\"p\">)</span>\n",
        "        <span class=\"n\">count</span><span class=\"o\">++</span><span class=\"p\">;</span>\n",
        "    <span class=\"p\">}</span>\n",
        "    <span class=\"n\">temp</span><span class=\"p\">[</span><span class=\"n\">count</span><span class=\"p\">]</span> <span class=\"o\">=</span> <span class=\"n\">a</span><span class=\"p\">[</span><span class=\"n\">i</span><span class=\"p\">];</span>\n",
        "  <span class=\"p\">}</span>\n",
        "\n",
        "  <span class=\"err\">#</span><span class=\"n\">ifndef</span> <span class=\"n\">_OPENMP</span>\n",
        "  <span class=\"n\">memcpy</span><span class=\"p\">(</span><span class=\"n\">a</span><span class=\"p\">,</span> <span class=\"n\">temp</span><span class=\"p\">,</span> <span class=\"n\">n</span><span class=\"o\">*</span><span class=\"k\">sizeof</span><span class=\"p\">(</span><span class=\"kt\">int</span><span class=\"p\">));</span>\n",
        "  <span class=\"err\">#</span><span class=\"k\">else</span>\n",
        "\n",
        "  <span class=\"err\">#</span><span class=\"n\">pragma</span> <span class=\"n\">omp</span> <span class=\"n\">parallel</span>\n",
        "  <span class=\"p\">{</span>\n",
        "    <span class=\"kt\">int</span> <span class=\"n\">thread_count</span> <span class=\"o\">=</span> <span class=\"n\">omp_get_num_threads</span><span class=\"p\">();</span>\n",
        "    <span class=\"kt\">int</span> <span class=\"n\">local_n</span> <span class=\"o\">=</span> <span class=\"n\">n</span> <span class=\"o\">/</span> <span class=\"n\">thread_count</span><span class=\"p\">;</span>\n",
        "\n",
        "    <span class=\"err\">#</span><span class=\"n\">pragma</span> <span class=\"n\">omp</span> <span class=\"n\">parallel</span> <span class=\"k\">for</span> <span class=\"k\">default</span><span class=\"p\">(</span><span class=\"n\">none</span><span class=\"p\">)</span> <span class=\"n\">private</span><span class=\"p\">(</span><span class=\"n\">i</span><span class=\"p\">)</span> <span class=\"n\">shared</span><span class=\"p\">(</span><span class=\"n\">n</span><span class=\"p\">,</span> <span class=\"n\">a</span><span class=\"p\">,</span> <span class=\"n\">temp</span><span class=\"p\">,</span> <span class=\"n\">local_n</span><span class=\"p\">,</span> <span class=\"n\">thread_count</span><span class=\"p\">)</span>\n",
        "    <span class=\"k\">for</span> <span class=\"p\">(</span><span class=\"kt\">int</span> <span class=\"n\">i</span> <span class=\"o\">=</span> <span class=\"mi\">0</span><span class=\"p\">;</span> <span class=\"n\">i</span> <span class=\"o\">&lt;</span> <span class=\"n\">thread_count</span><span class=\"p\">;</span> <span class=\"n\">i</span><span class=\"o\">++</span><span class=\"p\">)</span> <span class=\"p\">{</span>\n",
        "      <span class=\"kt\">int</span> <span class=\"n\">start</span> <span class=\"o\">=</span> <span class=\"n\">i</span> <span class=\"o\">*</span> <span class=\"n\">local_n</span><span class=\"p\">;</span>\n",
        "      <span class=\"kt\">int</span> <span class=\"n\">nelem</span> <span class=\"o\">=</span> <span class=\"n\">local_n</span><span class=\"p\">;</span>\n",
        "      <span class=\"k\">if</span> <span class=\"p\">(</span><span class=\"n\">i</span> <span class=\"o\">==</span> <span class=\"n\">thread_count</span> <span class=\"o\">-</span> <span class=\"mi\">1</span><span class=\"p\">)</span> <span class=\"p\">{</span>\n",
        "        <span class=\"n\">nelem</span> <span class=\"o\">=</span> <span class=\"n\">n</span> <span class=\"o\">-</span> <span class=\"n\">start</span><span class=\"p\">;</span>\n",
        "      <span class=\"p\">}</span>\n",
        "      <span class=\"n\">memcpy</span><span class=\"p\">(</span><span class=\"n\">a</span> <span class=\"o\">+</span> <span class=\"n\">start</span><span class=\"p\">,</span> <span class=\"n\">temp</span> <span class=\"o\">+</span> <span class=\"n\">start</span><span class=\"p\">,</span> <span class=\"n\">nelem</span> <span class=\"o\">*</span> <span class=\"k\">sizeof</span><span class=\"p\">(</span><span class=\"kt\">int</span><span class=\"p\">));</span>\n",
        "    <span class=\"p\">}</span>\n",
        "  <span class=\"p\">}</span>\n",
        "\n",
        "  <span class=\"err\">#</span><span class=\"n\">endif</span>\n",
        "  <span class=\"n\">free</span><span class=\"p\">(</span><span class=\"n\">temp</span><span class=\"p\">);</span>\n",
        "<span class=\"p\">}</span> <span class=\"cm\">/* Count sort */</span>\n",
        "\n",
        "\n",
        "<span class=\"kt\">int</span> <span class=\"nf\">init_vector</span><span class=\"p\">(</span><span class=\"kt\">int</span> <span class=\"n\">vect</span><span class=\"p\">[])</span> <span class=\"p\">{</span>\n",
        "    <span class=\"k\">for</span> <span class=\"p\">(</span><span class=\"kt\">int</span> <span class=\"n\">i</span> <span class=\"o\">=</span> <span class=\"mi\">0</span><span class=\"p\">;</span> <span class=\"n\">i</span> <span class=\"o\">&lt;</span> <span class=\"n\">VECTOR_SIZE</span><span class=\"p\">;</span> <span class=\"o\">++</span><span class=\"n\">i</span> <span class=\"p\">)</span> <span class=\"p\">{</span>\n",
        "      <span class=\"n\">vect</span><span class=\"p\">[</span><span class=\"n\">i</span><span class=\"p\">]</span> <span class=\"o\">=</span> <span class=\"n\">rand</span><span class=\"p\">()</span> <span class=\"o\">%</span> <span class=\"mi\">100</span><span class=\"p\">;</span>\n",
        "    <span class=\"p\">}</span>\n",
        "    <span class=\"k\">return</span> <span class=\"mi\">0</span><span class=\"p\">;</span>\n",
        "<span class=\"p\">}</span>\n",
        "\n",
        "\n",
        "<span class=\"kt\">int</span> <span class=\"nf\">main</span><span class=\"p\">(</span><span class=\"kt\">int</span> <span class=\"n\">argc</span><span class=\"p\">,</span> <span class=\"kt\">char</span><span class=\"o\">**</span> <span class=\"n\">argv</span><span class=\"p\">)</span> <span class=\"p\">{</span>\n",
        "  <span class=\"kt\">int</span> <span class=\"n\">vector</span><span class=\"p\">[</span><span class=\"n\">VECTOR_SIZE</span><span class=\"p\">];</span>\n",
        "\n",
        "  <span class=\"n\">init_vector</span><span class=\"p\">(</span><span class=\"n\">vector</span><span class=\"p\">);</span>\n",
        "\n",
        "  <span class=\"n\">count_sort</span><span class=\"p\">(</span><span class=\"n\">vector</span><span class=\"p\">,</span> <span class=\"n\">VECTOR_SIZE</span><span class=\"p\">);</span>\n",
        "\n",
        "  <span class=\"k\">for</span><span class=\"p\">(</span><span class=\"kt\">int</span> <span class=\"n\">i</span> <span class=\"o\">=</span> <span class=\"mi\">1</span><span class=\"p\">;</span> <span class=\"n\">i</span> <span class=\"o\">&lt;</span> <span class=\"n\">VECTOR_SIZE</span><span class=\"p\">;</span> <span class=\"n\">i</span><span class=\"o\">++</span><span class=\"p\">)</span> <span class=\"p\">{</span>\n",
        "    <span class=\"k\">if</span> <span class=\"p\">(</span><span class=\"n\">vector</span><span class=\"p\">[</span><span class=\"n\">i</span><span class=\"p\">]</span> <span class=\"o\">&lt;</span> <span class=\"n\">vector</span><span class=\"p\">[</span><span class=\"n\">i</span> <span class=\"o\">-</span> <span class=\"mi\">1</span><span class=\"p\">])</span> <span class=\"p\">{</span>\n",
        "      <span class=\"k\">return</span> <span class=\"mi\">1</span><span class=\"p\">;</span>\n",
        "    <span class=\"p\">}</span>\n",
        "  <span class=\"p\">}</span>\n",
        "\n",
        "  <span class=\"k\">return</span> <span class=\"mi\">0</span><span class=\"p\">;</span>\n",
        "<span class=\"p\">}</span>\n",
        "</pre></div>\n",
        "</body>\n",
        "</html>\n"
       ],
       "metadata": {},
       "output_type": "pyout",
       "prompt_number": 3,
       "text": [
        "<IPython.core.display.HTML at 0x2ac92e495a50>"
       ]
      }
     ],
     "prompt_number": 3
    },
    {
     "cell_type": "heading",
     "level": 1,
     "metadata": {},
     "source": [
      "B"
     ]
    },
    {
     "cell_type": "markdown",
     "metadata": {},
     "source": [
      "I decided to use $n = 10, 1000, 1000, 10000, 1000000$,\n",
      "and $1, 2, 4, 8, 10, 16, 20$ threads.\n",
      "\n",
      "For the Xeon Phi I used $1, 2, 4, 8, 16, 32, 64, 128, 240$ threads"
     ]
    },
    {
     "cell_type": "code",
     "collapsed": false,
     "input": [
      "VECTOR_SIZE = [10, 100, 1000, 10000, 100000]\n",
      "THREADS = [1, 2, 4, 8, 10, 16, 20]\n",
      "PHI_THREADS = [1, 2, 4, 8, 16, 32, 64, 128, 240]"
     ],
     "language": "python",
     "metadata": {},
     "outputs": [],
     "prompt_number": 4
    },
    {
     "cell_type": "heading",
     "level": 2,
     "metadata": {},
     "source": [
      "qsort"
     ]
    },
    {
     "cell_type": "markdown",
     "metadata": {},
     "source": [
      "This is my implementation using qsort.\n",
      "\n",
      "To keep it consistent with i-loop and j-loop OpenMP implementation (and so share the analysis code),\n",
      "I implemented the qsort call inside another function, $\\text{qsort_lib}$."
     ]
    },
    {
     "cell_type": "code",
     "collapsed": false,
     "input": [
      "!pygmentize -l c -f html -O full -o ./qsort.html ../src/qsort.c\n",
      "HTML(open('qsort.html', 'r').read())"
     ],
     "language": "python",
     "metadata": {},
     "outputs": [
      {
       "html": [
        "<!DOCTYPE html PUBLIC \"-//W3C//DTD HTML 4.01//EN\"\n",
        "   \"http://www.w3.org/TR/html4/strict.dtd\">\n",
        "\n",
        "<html>\n",
        "<head>\n",
        "  <title></title>\n",
        "  <meta http-equiv=\"content-type\" content=\"text/html; charset=latin1\">\n",
        "  <style type=\"text/css\">\n",
        "td.linenos { background-color: #f0f0f0; padding-right: 10px; }\n",
        "span.lineno { background-color: #f0f0f0; padding: 0 5px 0 5px; }\n",
        "pre { line-height: 125%; }\n",
        "body .hll { background-color: #ffffcc }\n",
        "body  { background: #f8f8f8; }\n",
        "body .c { color: #408080; font-style: italic } /* Comment */\n",
        "body .err { border: 1px solid #FF0000 } /* Error */\n",
        "body .k { color: #008000; font-weight: bold } /* Keyword */\n",
        "body .o { color: #666666 } /* Operator */\n",
        "body .cm { color: #408080; font-style: italic } /* Comment.Multiline */\n",
        "body .cp { color: #BC7A00 } /* Comment.Preproc */\n",
        "body .c1 { color: #408080; font-style: italic } /* Comment.Single */\n",
        "body .cs { color: #408080; font-style: italic } /* Comment.Special */\n",
        "body .gd { color: #A00000 } /* Generic.Deleted */\n",
        "body .ge { font-style: italic } /* Generic.Emph */\n",
        "body .gr { color: #FF0000 } /* Generic.Error */\n",
        "body .gh { color: #000080; font-weight: bold } /* Generic.Heading */\n",
        "body .gi { color: #00A000 } /* Generic.Inserted */\n",
        "body .go { color: #888888 } /* Generic.Output */\n",
        "body .gp { color: #000080; font-weight: bold } /* Generic.Prompt */\n",
        "body .gs { font-weight: bold } /* Generic.Strong */\n",
        "body .gu { color: #800080; font-weight: bold } /* Generic.Subheading */\n",
        "body .gt { color: #0044DD } /* Generic.Traceback */\n",
        "body .kc { color: #008000; font-weight: bold } /* Keyword.Constant */\n",
        "body .kd { color: #008000; font-weight: bold } /* Keyword.Declaration */\n",
        "body .kn { color: #008000; font-weight: bold } /* Keyword.Namespace */\n",
        "body .kp { color: #008000 } /* Keyword.Pseudo */\n",
        "body .kr { color: #008000; font-weight: bold } /* Keyword.Reserved */\n",
        "body .kt { color: #B00040 } /* Keyword.Type */\n",
        "body .m { color: #666666 } /* Literal.Number */\n",
        "body .s { color: #BA2121 } /* Literal.String */\n",
        "body .na { color: #7D9029 } /* Name.Attribute */\n",
        "body .nb { color: #008000 } /* Name.Builtin */\n",
        "body .nc { color: #0000FF; font-weight: bold } /* Name.Class */\n",
        "body .no { color: #880000 } /* Name.Constant */\n",
        "body .nd { color: #AA22FF } /* Name.Decorator */\n",
        "body .ni { color: #999999; font-weight: bold } /* Name.Entity */\n",
        "body .ne { color: #D2413A; font-weight: bold } /* Name.Exception */\n",
        "body .nf { color: #0000FF } /* Name.Function */\n",
        "body .nl { color: #A0A000 } /* Name.Label */\n",
        "body .nn { color: #0000FF; font-weight: bold } /* Name.Namespace */\n",
        "body .nt { color: #008000; font-weight: bold } /* Name.Tag */\n",
        "body .nv { color: #19177C } /* Name.Variable */\n",
        "body .ow { color: #AA22FF; font-weight: bold } /* Operator.Word */\n",
        "body .w { color: #bbbbbb } /* Text.Whitespace */\n",
        "body .mf { color: #666666 } /* Literal.Number.Float */\n",
        "body .mh { color: #666666 } /* Literal.Number.Hex */\n",
        "body .mi { color: #666666 } /* Literal.Number.Integer */\n",
        "body .mo { color: #666666 } /* Literal.Number.Oct */\n",
        "body .sb { color: #BA2121 } /* Literal.String.Backtick */\n",
        "body .sc { color: #BA2121 } /* Literal.String.Char */\n",
        "body .sd { color: #BA2121; font-style: italic } /* Literal.String.Doc */\n",
        "body .s2 { color: #BA2121 } /* Literal.String.Double */\n",
        "body .se { color: #BB6622; font-weight: bold } /* Literal.String.Escape */\n",
        "body .sh { color: #BA2121 } /* Literal.String.Heredoc */\n",
        "body .si { color: #BB6688; font-weight: bold } /* Literal.String.Interpol */\n",
        "body .sx { color: #008000 } /* Literal.String.Other */\n",
        "body .sr { color: #BB6688 } /* Literal.String.Regex */\n",
        "body .s1 { color: #BA2121 } /* Literal.String.Single */\n",
        "body .ss { color: #19177C } /* Literal.String.Symbol */\n",
        "body .bp { color: #008000 } /* Name.Builtin.Pseudo */\n",
        "body .vc { color: #19177C } /* Name.Variable.Class */\n",
        "body .vg { color: #19177C } /* Name.Variable.Global */\n",
        "body .vi { color: #19177C } /* Name.Variable.Instance */\n",
        "body .il { color: #666666 } /* Literal.Number.Integer.Long */\n",
        "\n",
        "  </style>\n",
        "</head>\n",
        "<body>\n",
        "<h2></h2>\n",
        "\n",
        "<div class=\"highlight\"><pre><span class=\"cp\">#include &lt;stdio.h&gt;</span>\n",
        "<span class=\"cp\">#include &lt;stdlib.h&gt;</span>\n",
        "<span class=\"cp\">#include &lt;string.h&gt;</span>\n",
        "\n",
        "<span class=\"cp\">#ifndef VECTOR_SIZE</span>\n",
        "<span class=\"cp\">#define VECTOR_SIZE 100</span>\n",
        "<span class=\"cp\">#endif</span>\n",
        "\n",
        "\n",
        "<span class=\"kt\">int</span> <span class=\"nf\">cmpfunc</span> <span class=\"p\">(</span><span class=\"k\">const</span> <span class=\"kt\">void</span> <span class=\"o\">*</span> <span class=\"n\">a</span><span class=\"p\">,</span> <span class=\"k\">const</span> <span class=\"kt\">void</span> <span class=\"o\">*</span> <span class=\"n\">b</span><span class=\"p\">)</span>\n",
        "<span class=\"p\">{</span>\n",
        "   <span class=\"k\">return</span> <span class=\"p\">(</span> <span class=\"o\">*</span><span class=\"p\">(</span><span class=\"kt\">int</span><span class=\"o\">*</span><span class=\"p\">)</span><span class=\"n\">a</span> <span class=\"o\">-</span> <span class=\"o\">*</span><span class=\"p\">(</span><span class=\"kt\">int</span><span class=\"o\">*</span><span class=\"p\">)</span><span class=\"n\">b</span> <span class=\"p\">);</span>\n",
        "<span class=\"p\">}</span>\n",
        "\n",
        "\n",
        "<span class=\"kt\">void</span> <span class=\"nf\">qsort_lib</span><span class=\"p\">(</span><span class=\"kt\">int</span> <span class=\"n\">a</span><span class=\"p\">[],</span> <span class=\"kt\">int</span> <span class=\"n\">n</span><span class=\"p\">)</span> <span class=\"p\">{</span>\n",
        "\n",
        "  <span class=\"n\">qsort</span><span class=\"p\">(</span><span class=\"n\">a</span><span class=\"p\">,</span> <span class=\"n\">n</span><span class=\"p\">,</span> <span class=\"k\">sizeof</span><span class=\"p\">(</span><span class=\"kt\">int</span><span class=\"p\">),</span> <span class=\"n\">cmpfunc</span><span class=\"p\">);</span>\n",
        "\n",
        "<span class=\"p\">}</span> <span class=\"cm\">/* stdlib qsort */</span>\n",
        "\n",
        "\n",
        "<span class=\"kt\">int</span> <span class=\"nf\">init_vector</span><span class=\"p\">(</span><span class=\"kt\">int</span> <span class=\"n\">vect</span><span class=\"p\">[])</span> <span class=\"p\">{</span>\n",
        "    <span class=\"k\">for</span> <span class=\"p\">(</span><span class=\"kt\">int</span> <span class=\"n\">i</span> <span class=\"o\">=</span> <span class=\"mi\">0</span><span class=\"p\">;</span> <span class=\"n\">i</span> <span class=\"o\">&lt;</span> <span class=\"n\">VECTOR_SIZE</span><span class=\"p\">;</span> <span class=\"o\">++</span><span class=\"n\">i</span> <span class=\"p\">)</span> <span class=\"p\">{</span>\n",
        "      <span class=\"n\">vect</span><span class=\"p\">[</span><span class=\"n\">i</span><span class=\"p\">]</span> <span class=\"o\">=</span> <span class=\"n\">rand</span><span class=\"p\">()</span> <span class=\"o\">%</span> <span class=\"mi\">100</span><span class=\"p\">;</span>\n",
        "    <span class=\"p\">}</span>\n",
        "    <span class=\"k\">return</span> <span class=\"mi\">0</span><span class=\"p\">;</span>\n",
        "<span class=\"p\">}</span>\n",
        "\n",
        "\n",
        "<span class=\"kt\">int</span> <span class=\"nf\">main</span><span class=\"p\">(</span><span class=\"kt\">int</span> <span class=\"n\">argc</span><span class=\"p\">,</span> <span class=\"kt\">char</span><span class=\"o\">**</span> <span class=\"n\">argv</span><span class=\"p\">)</span> <span class=\"p\">{</span>\n",
        "  <span class=\"kt\">int</span> <span class=\"n\">vector</span><span class=\"p\">[</span><span class=\"n\">VECTOR_SIZE</span><span class=\"p\">];</span>\n",
        "\n",
        "  <span class=\"n\">init_vector</span><span class=\"p\">(</span><span class=\"n\">vector</span><span class=\"p\">);</span>\n",
        "\n",
        "  <span class=\"n\">qsort_lib</span><span class=\"p\">(</span><span class=\"n\">vector</span><span class=\"p\">,</span> <span class=\"n\">VECTOR_SIZE</span><span class=\"p\">);</span>\n",
        "\n",
        "  <span class=\"k\">for</span><span class=\"p\">(</span><span class=\"kt\">int</span> <span class=\"n\">i</span> <span class=\"o\">=</span> <span class=\"mi\">1</span><span class=\"p\">;</span> <span class=\"n\">i</span> <span class=\"o\">&lt;</span> <span class=\"n\">VECTOR_SIZE</span><span class=\"p\">;</span> <span class=\"n\">i</span><span class=\"o\">++</span><span class=\"p\">)</span> <span class=\"p\">{</span>\n",
        "    <span class=\"k\">if</span> <span class=\"p\">(</span><span class=\"n\">vector</span><span class=\"p\">[</span><span class=\"n\">i</span><span class=\"p\">]</span> <span class=\"o\">&lt;</span> <span class=\"n\">vector</span><span class=\"p\">[</span><span class=\"n\">i</span> <span class=\"o\">-</span> <span class=\"mi\">1</span><span class=\"p\">])</span> <span class=\"p\">{</span>\n",
        "      <span class=\"k\">return</span> <span class=\"mi\">1</span><span class=\"p\">;</span>\n",
        "    <span class=\"p\">}</span>\n",
        "  <span class=\"p\">}</span>\n",
        "\n",
        "  <span class=\"k\">return</span> <span class=\"mi\">0</span><span class=\"p\">;</span>\n",
        "<span class=\"p\">}</span>\n",
        "</pre></div>\n",
        "</body>\n",
        "</html>\n"
       ],
       "metadata": {},
       "output_type": "pyout",
       "prompt_number": 5,
       "text": [
        "<IPython.core.display.HTML at 0x2ac92e4cc0d0>"
       ]
      }
     ],
     "prompt_number": 5
    },
    {
     "cell_type": "heading",
     "level": 3,
     "metadata": {},
     "source": [
      "Preparing the executables and profiling"
     ]
    },
    {
     "cell_type": "markdown",
     "metadata": {},
     "source": [
      "These commands create the executables,\n",
      "submit it to run on the HPCC job system and finally extract the raw TAU info into a text file.\n",
      "They are all implemented in the Makefile."
     ]
    },
    {
     "cell_type": "code",
     "collapsed": false,
     "input": [
      "!cd .. && make exec/qsort-GNU\n",
      "!cd .. && make workdir/qsort.pbs\n",
      "!cd .. && make TAU_PROFILES_QSORT"
     ],
     "language": "python",
     "metadata": {},
     "outputs": [
      {
       "output_type": "stream",
       "stream": "stdout",
       "text": [
        "make: Nothing to be done for `exec/qsort-GNU'.\r\n"
       ]
      },
      {
       "output_type": "stream",
       "stream": "stdout",
       "text": [
        "make: Nothing to be done for `workdir/qsort.pbs'.\r\n"
       ]
      },
      {
       "output_type": "stream",
       "stream": "stdout",
       "text": [
        "make: Nothing to be done for `TAU_PROFILES_QSORT'.\r\n"
       ]
      }
     ],
     "prompt_number": 6
    },
    {
     "cell_type": "code",
     "collapsed": false,
     "input": [
      "data = prepare_panel('qsort', threads=[1])\n",
      "pn_qsort = pd.Panel4D(data)\n",
      "# dimensions: pn[vector size, threads, function name, metric]\n",
      "pn_qsort.ix[:,:,'qsort_lib','Inclusive usec/call']"
     ],
     "language": "python",
     "metadata": {},
     "outputs": [
      {
       "html": [
        "<div style=\"max-height:1000px;max-width:1500px;overflow:auto;\">\n",
        "<table border=\"1\" class=\"dataframe\">\n",
        "  <thead>\n",
        "    <tr style=\"text-align: right;\">\n",
        "      <th></th>\n",
        "      <th>10</th>\n",
        "      <th>100</th>\n",
        "      <th>1000</th>\n",
        "      <th>10000</th>\n",
        "      <th>100000</th>\n",
        "    </tr>\n",
        "  </thead>\n",
        "  <tbody>\n",
        "    <tr>\n",
        "      <th>1</th>\n",
        "      <td> 16</td>\n",
        "      <td> 122</td>\n",
        "      <td> 2025</td>\n",
        "      <td> 25396</td>\n",
        "      <td> 142965</td>\n",
        "    </tr>\n",
        "  </tbody>\n",
        "</table>\n",
        "</div>"
       ],
       "metadata": {},
       "output_type": "pyout",
       "prompt_number": 7,
       "text": [
        "  10     100    1000   10000   100000\n",
        "1     16    122   2025  25396  142965"
       ]
      }
     ],
     "prompt_number": 7
    },
    {
     "cell_type": "code",
     "collapsed": false,
     "input": [
      "pn_qsort.ix[:,:,'qsort_lib','Inclusive usec/call'].T.plot(marker='o', logy=True, logx=True)\n",
      "plt.xlabel('Number of threads')\n",
      "plt.ylabel('Microseconds')"
     ],
     "language": "python",
     "metadata": {},
     "outputs": [
      {
       "metadata": {},
       "output_type": "pyout",
       "prompt_number": 9,
       "text": [
        "<matplotlib.text.Text at 0x2ac92e948dd0>"
       ]
      },
      {
       "metadata": {},
       "output_type": "display_data",
       "png": "[encoded data removed]",
       "text": [
        "<matplotlib.figure.Figure at 0x2ac92e9a4f90>"
       ]
      }
     ],
     "prompt_number": 9
    },
    {
     "cell_type": "heading",
     "level": 2,
     "metadata": {},
     "source": [
      "i-loop"
     ]
    },
    {
     "cell_type": "code",
     "collapsed": false,
     "input": [
      "!cd .. && make exec/omp_iloop-GNU\n",
      "!cd .. && make workdir/omp_iloop.pbs\n",
      "!cd .. && make TAU_PROFILES_ILOOP"
     ],
     "language": "python",
     "metadata": {},
     "outputs": [
      {
       "output_type": "stream",
       "stream": "stdout",
       "text": [
        "make: Nothing to be done for `exec/omp_iloop-GNU'.\r\n"
       ]
      },
      {
       "output_type": "stream",
       "stream": "stdout",
       "text": [
        "make: Nothing to be done for `workdir/omp_iloop.pbs'.\r\n"
       ]
      },
      {
       "output_type": "stream",
       "stream": "stdout",
       "text": [
        "make: Nothing to be done for `TAU_PROFILES_ILOOP'.\r\n"
       ]
      }
     ],
     "prompt_number": 12
    },
    {
     "cell_type": "code",
     "collapsed": false,
     "input": [
      "data = prepare_panel('omp_iloop')\n",
      "pn_iloop = pd.Panel4D(data)\n",
      "# dimensions: pn[vector size, threads, function name, metric]\n",
      "pn_iloop.ix[:,:,'count_sort','Inclusive usec/call']"
     ],
     "language": "python",
     "metadata": {},
     "outputs": [
      {
       "html": [
        "<div style=\"max-height:1000px;max-width:1500px;overflow:auto;\">\n",
        "<table border=\"1\" class=\"dataframe\">\n",
        "  <thead>\n",
        "    <tr style=\"text-align: right;\">\n",
        "      <th></th>\n",
        "      <th>10</th>\n",
        "      <th>100</th>\n",
        "      <th>1000</th>\n",
        "      <th>10000</th>\n",
        "      <th>100000</th>\n",
        "    </tr>\n",
        "  </thead>\n",
        "  <tbody>\n",
        "    <tr>\n",
        "      <th>1 </th>\n",
        "      <td>    13</td>\n",
        "      <td>    81</td>\n",
        "      <td> 6571</td>\n",
        "      <td> 666366</td>\n",
        "      <td> 64873847</td>\n",
        "    </tr>\n",
        "    <tr>\n",
        "      <th>2 </th>\n",
        "      <td>   129</td>\n",
        "      <td>   172</td>\n",
        "      <td> 3449</td>\n",
        "      <td> 333217</td>\n",
        "      <td> 33027419</td>\n",
        "    </tr>\n",
        "    <tr>\n",
        "      <th>4 </th>\n",
        "      <td>   218</td>\n",
        "      <td>   280</td>\n",
        "      <td> 2050</td>\n",
        "      <td> 179163</td>\n",
        "      <td> 17085422</td>\n",
        "    </tr>\n",
        "    <tr>\n",
        "      <th>8 </th>\n",
        "      <td>   409</td>\n",
        "      <td>   482</td>\n",
        "      <td> 1416</td>\n",
        "      <td>  96269</td>\n",
        "      <td>  9071035</td>\n",
        "    </tr>\n",
        "    <tr>\n",
        "      <th>10</th>\n",
        "      <td>   510</td>\n",
        "      <td>   526</td>\n",
        "      <td> 1244</td>\n",
        "      <td>  74052</td>\n",
        "      <td>  7690740</td>\n",
        "    </tr>\n",
        "    <tr>\n",
        "      <th>16</th>\n",
        "      <td>   855</td>\n",
        "      <td>   804</td>\n",
        "      <td> 1328</td>\n",
        "      <td>  47208</td>\n",
        "      <td>  4524382</td>\n",
        "    </tr>\n",
        "    <tr>\n",
        "      <th>20</th>\n",
        "      <td> 60889</td>\n",
        "      <td> 61554</td>\n",
        "      <td> 2103</td>\n",
        "      <td> 115002</td>\n",
        "      <td>  3783039</td>\n",
        "    </tr>\n",
        "  </tbody>\n",
        "</table>\n",
        "</div>"
       ],
       "metadata": {},
       "output_type": "pyout",
       "prompt_number": 13,
       "text": [
        "   10     100    1000    10000     100000\n",
        "1      13     81   6571  666366  64873847\n",
        "2     129    172   3449  333217  33027419\n",
        "4     218    280   2050  179163  17085422\n",
        "8     409    482   1416   96269   9071035\n",
        "10    510    526   1244   74052   7690740\n",
        "16    855    804   1328   47208   4524382\n",
        "20  60889  61554   2103  115002   3783039"
       ]
      }
     ],
     "prompt_number": 13
    },
    {
     "cell_type": "code",
     "collapsed": false,
     "input": [
      "pn_iloop.ix[:,:,'count_sort','Inclusive usec/call'].plot(marker='o', logx=True, logy=True)\n",
      "plt.xlabel('Number of threads')\n",
      "plt.ylabel('Microseconds')"
     ],
     "language": "python",
     "metadata": {},
     "outputs": [
      {
       "metadata": {},
       "output_type": "pyout",
       "prompt_number": 14,
       "text": [
        "<matplotlib.text.Text at 0x2ac92e8904d0>"
       ]
      },
      {
       "metadata": {},
       "output_type": "display_data",
       "png": "[encoded data removed]",
       "text": [
        "<matplotlib.figure.Figure at 0x2ac92e97be10>"
       ]
      }
     ],
     "prompt_number": 14
    },
    {
     "cell_type": "heading",
     "level": 3,
     "metadata": {},
     "source": [
      "Speedup"
     ]
    },
    {
     "cell_type": "heading",
     "level": 4,
     "metadata": {},
     "source": [
      "Using threads = 1 as base case"
     ]
    },
    {
     "cell_type": "code",
     "collapsed": false,
     "input": [
      "speedup_iloop = pn_iloop.ix[:,1,'count_sort','Inclusive usec/call'] / pn_iloop.ix[:,:,'count_sort','Inclusive usec/call']\n",
      "speedup_iloop"
     ],
     "language": "python",
     "metadata": {},
     "outputs": [
      {
       "html": [
        "<div style=\"max-height:1000px;max-width:1500px;overflow:auto;\">\n",
        "<table border=\"1\" class=\"dataframe\">\n",
        "  <thead>\n",
        "    <tr style=\"text-align: right;\">\n",
        "      <th></th>\n",
        "      <th>10</th>\n",
        "      <th>100</th>\n",
        "      <th>1000</th>\n",
        "      <th>10000</th>\n",
        "      <th>100000</th>\n",
        "    </tr>\n",
        "  </thead>\n",
        "  <tbody>\n",
        "    <tr>\n",
        "      <th>1 </th>\n",
        "      <td>            1</td>\n",
        "      <td>           1</td>\n",
        "      <td>        1</td>\n",
        "      <td>        1</td>\n",
        "      <td>        1</td>\n",
        "    </tr>\n",
        "    <tr>\n",
        "      <th>2 </th>\n",
        "      <td>    0.1007752</td>\n",
        "      <td>   0.4709302</td>\n",
        "      <td>  1.90519</td>\n",
        "      <td> 1.999796</td>\n",
        "      <td> 1.964242</td>\n",
        "    </tr>\n",
        "    <tr>\n",
        "      <th>4 </th>\n",
        "      <td>   0.05963303</td>\n",
        "      <td>   0.2892857</td>\n",
        "      <td> 3.205366</td>\n",
        "      <td> 3.719328</td>\n",
        "      <td> 3.797029</td>\n",
        "    </tr>\n",
        "    <tr>\n",
        "      <th>8 </th>\n",
        "      <td>   0.03178484</td>\n",
        "      <td>   0.1680498</td>\n",
        "      <td> 4.640537</td>\n",
        "      <td> 6.921917</td>\n",
        "      <td> 7.151758</td>\n",
        "    </tr>\n",
        "    <tr>\n",
        "      <th>10</th>\n",
        "      <td>    0.0254902</td>\n",
        "      <td>   0.1539924</td>\n",
        "      <td> 5.282154</td>\n",
        "      <td> 8.998623</td>\n",
        "      <td> 8.435319</td>\n",
        "    </tr>\n",
        "    <tr>\n",
        "      <th>16</th>\n",
        "      <td>   0.01520468</td>\n",
        "      <td>   0.1007463</td>\n",
        "      <td> 4.948042</td>\n",
        "      <td> 14.11553</td>\n",
        "      <td> 14.33872</td>\n",
        "    </tr>\n",
        "    <tr>\n",
        "      <th>20</th>\n",
        "      <td> 0.0002135033</td>\n",
        "      <td> 0.001315918</td>\n",
        "      <td> 3.124584</td>\n",
        "      <td> 5.794386</td>\n",
        "      <td> 17.14861</td>\n",
        "    </tr>\n",
        "  </tbody>\n",
        "</table>\n",
        "</div>"
       ],
       "metadata": {},
       "output_type": "pyout",
       "prompt_number": 15,
       "text": [
        "          10           100       1000      10000     100000\n",
        "1              1            1         1         1         1\n",
        "2      0.1007752    0.4709302   1.90519  1.999796  1.964242\n",
        "4     0.05963303    0.2892857  3.205366  3.719328  3.797029\n",
        "8     0.03178484    0.1680498  4.640537  6.921917  7.151758\n",
        "10     0.0254902    0.1539924  5.282154  8.998623  8.435319\n",
        "16    0.01520468    0.1007463  4.948042  14.11553  14.33872\n",
        "20  0.0002135033  0.001315918  3.124584  5.794386  17.14861"
       ]
      }
     ],
     "prompt_number": 15
    },
    {
     "cell_type": "code",
     "collapsed": false,
     "input": [
      "speedup_iloop.plot()\n",
      "plt.plot(THREADS, THREADS, '--', label='Linear speedup')\n",
      "plt.legend(loc='best')\n",
      "plt.xlabel('Number of threads')\n",
      "plt.ylabel('Speedup')\n",
      "plt.title(\"$i$-loop parallel for\")"
     ],
     "language": "python",
     "metadata": {},
     "outputs": [
      {
       "metadata": {},
       "output_type": "pyout",
       "prompt_number": 16,
       "text": [
        "<matplotlib.text.Text at 0x2ac92ed29ed0>"
       ]
      },
      {
       "metadata": {},
       "output_type": "display_data",
       "png": "[encoded data removed]",
       "text": [
        "<matplotlib.figure.Figure at 0x2ac92ee96210>"
       ]
      }
     ],
     "prompt_number": 16
    },
    {
     "cell_type": "markdown",
     "metadata": {},
     "source": [
      "As expected, for small vector sizes synchronization and small workloads make the function actually slower than the sequential case.\n",
      "\n",
      "For bigger vector sizes there is a significant speedup, specially in the $n=100000$ case.\n",
      "\n",
      "Probably for $t=20, v=10000$ there was a competition for resources in other processes running on the node (and that's why more repetition and means/standard deviation is needed)."
     ]
    },
    {
     "cell_type": "heading",
     "level": 4,
     "metadata": {},
     "source": [
      "Using qsort as base case"
     ]
    },
    {
     "cell_type": "code",
     "collapsed": false,
     "input": [
      "speedup_iloop_qsort = pn_qsort.ix[:,1,'qsort_lib','Inclusive usec/call'] / pn_iloop.ix[:,:,'count_sort','Inclusive usec/call']\n",
      "speedup_iloop_qsort"
     ],
     "language": "python",
     "metadata": {},
     "outputs": [
      {
       "html": [
        "<div style=\"max-height:1000px;max-width:1500px;overflow:auto;\">\n",
        "<table border=\"1\" class=\"dataframe\">\n",
        "  <thead>\n",
        "    <tr style=\"text-align: right;\">\n",
        "      <th></th>\n",
        "      <th>10</th>\n",
        "      <th>100</th>\n",
        "      <th>1000</th>\n",
        "      <th>10000</th>\n",
        "      <th>100000</th>\n",
        "    </tr>\n",
        "  </thead>\n",
        "  <tbody>\n",
        "    <tr>\n",
        "      <th>1 </th>\n",
        "      <td>     1.230769</td>\n",
        "      <td>  1.506173</td>\n",
        "      <td> 0.3081723</td>\n",
        "      <td> 0.03811119</td>\n",
        "      <td> 0.002203739</td>\n",
        "    </tr>\n",
        "    <tr>\n",
        "      <th>2 </th>\n",
        "      <td>     0.124031</td>\n",
        "      <td> 0.7093023</td>\n",
        "      <td> 0.5871267</td>\n",
        "      <td>  0.0762146</td>\n",
        "      <td> 0.004328676</td>\n",
        "    </tr>\n",
        "    <tr>\n",
        "      <th>4 </th>\n",
        "      <td>    0.0733945</td>\n",
        "      <td> 0.4357143</td>\n",
        "      <td> 0.9878049</td>\n",
        "      <td>   0.141748</td>\n",
        "      <td>  0.00836766</td>\n",
        "    </tr>\n",
        "    <tr>\n",
        "      <th>8 </th>\n",
        "      <td>    0.0391198</td>\n",
        "      <td>  0.253112</td>\n",
        "      <td>  1.430085</td>\n",
        "      <td>  0.2638025</td>\n",
        "      <td>  0.01576061</td>\n",
        "    </tr>\n",
        "    <tr>\n",
        "      <th>10</th>\n",
        "      <td>   0.03137255</td>\n",
        "      <td> 0.2319392</td>\n",
        "      <td>  1.627814</td>\n",
        "      <td>  0.3429482</td>\n",
        "      <td>  0.01858924</td>\n",
        "    </tr>\n",
        "    <tr>\n",
        "      <th>16</th>\n",
        "      <td>   0.01871345</td>\n",
        "      <td> 0.1517413</td>\n",
        "      <td>  1.524849</td>\n",
        "      <td>  0.5379597</td>\n",
        "      <td>  0.03159879</td>\n",
        "    </tr>\n",
        "    <tr>\n",
        "      <th>20</th>\n",
        "      <td> 0.0002627732</td>\n",
        "      <td>  0.001982</td>\n",
        "      <td> 0.9629101</td>\n",
        "      <td>  0.2208309</td>\n",
        "      <td>  0.03779105</td>\n",
        "    </tr>\n",
        "  </tbody>\n",
        "</table>\n",
        "</div>"
       ],
       "metadata": {},
       "output_type": "pyout",
       "prompt_number": 17,
       "text": [
        "          10         100        1000        10000        100000\n",
        "1       1.230769   1.506173  0.3081723  0.03811119  0.002203739\n",
        "2       0.124031  0.7093023  0.5871267   0.0762146  0.004328676\n",
        "4      0.0733945  0.4357143  0.9878049    0.141748   0.00836766\n",
        "8      0.0391198   0.253112   1.430085   0.2638025   0.01576061\n",
        "10    0.03137255  0.2319392   1.627814   0.3429482   0.01858924\n",
        "16    0.01871345  0.1517413   1.524849   0.5379597   0.03159879\n",
        "20  0.0002627732   0.001982  0.9629101   0.2208309   0.03779105"
       ]
      }
     ],
     "prompt_number": 17
    },
    {
     "cell_type": "code",
     "collapsed": false,
     "input": [
      "speedup_iloop_qsort.plot()\n",
      "plt.legend(loc='best')\n",
      "plt.xlabel('Number of threads')\n",
      "plt.ylabel('Speedup')\n",
      "plt.title(\"$i$-loop parallel for\")"
     ],
     "language": "python",
     "metadata": {},
     "outputs": [
      {
       "metadata": {},
       "output_type": "pyout",
       "prompt_number": 18,
       "text": [
        "<matplotlib.text.Text at 0x2ac92ef6a390>"
       ]
      },
      {
       "metadata": {},
       "output_type": "display_data",
       "png": "[encoded data removed]",
       "text": [
        "<matplotlib.figure.Figure at 0x2ac92ef26210>"
       ]
      }
     ],
     "prompt_number": 18
    },
    {
     "cell_type": "markdown",
     "metadata": {},
     "source": [
      "Using qsort as base case we can see how a better algorithm is more important on the long run.\n",
      "Since qsort is $O(n\\times log n)$ in the average case,\n",
      "the parallel optimization of a $O(n^2)$ algorithm is still slower.\n",
      "\n",
      "Despite that,\n",
      "for small vector sizes count_sort was actually faster on the sequential case."
     ]
    },
    {
     "cell_type": "heading",
     "level": 2,
     "metadata": {},
     "source": [
      "j-loop"
     ]
    },
    {
     "cell_type": "code",
     "collapsed": false,
     "input": [
      "!cd .. && make exec/omp_jloop-GNU\n",
      "!cd .. && make workdir/omp_jloop.pbs\n",
      "!cd .. && make TAU_PROFILES_JLOOP"
     ],
     "language": "python",
     "metadata": {},
     "outputs": [
      {
       "output_type": "stream",
       "stream": "stdout",
       "text": [
        "make: Nothing to be done for `TAU_PROFILES_JLOOP'.\r\n"
       ]
      }
     ],
     "prompt_number": 24
    },
    {
     "cell_type": "code",
     "collapsed": false,
     "input": [
      "data = prepare_panel('omp_jloop')\n",
      "pn_jloop = pd.Panel4D(data)\n",
      "# dimensions: pn[vector size, threads, function name, metric]\n",
      "pn_jloop.ix[:,:,'count_sort','Inclusive usec/call']"
     ],
     "language": "python",
     "metadata": {},
     "outputs": [
      {
       "html": [
        "<div style=\"max-height:1000px;max-width:1500px;overflow:auto;\">\n",
        "<table border=\"1\" class=\"dataframe\">\n",
        "  <thead>\n",
        "    <tr style=\"text-align: right;\">\n",
        "      <th></th>\n",
        "      <th>10</th>\n",
        "      <th>100</th>\n",
        "      <th>1000</th>\n",
        "      <th>10000</th>\n",
        "      <th>100000</th>\n",
        "    </tr>\n",
        "  </thead>\n",
        "  <tbody>\n",
        "    <tr>\n",
        "      <th>1 </th>\n",
        "      <td>  14</td>\n",
        "      <td>     89</td>\n",
        "      <td>  7045</td>\n",
        "      <td>  658315</td>\n",
        "      <td>  66863486</td>\n",
        "    </tr>\n",
        "    <tr>\n",
        "      <th>2 </th>\n",
        "      <td>  95</td>\n",
        "      <td>    437</td>\n",
        "      <td> 11575</td>\n",
        "      <td>  663478</td>\n",
        "      <td> 103398272</td>\n",
        "    </tr>\n",
        "    <tr>\n",
        "      <th>4 </th>\n",
        "      <td> 158</td>\n",
        "      <td>    516</td>\n",
        "      <td> 16862</td>\n",
        "      <td> 1308516</td>\n",
        "      <td> 152685130</td>\n",
        "    </tr>\n",
        "    <tr>\n",
        "      <th>8 </th>\n",
        "      <td> 255</td>\n",
        "      <td>    728</td>\n",
        "      <td> 16512</td>\n",
        "      <td> 1551742</td>\n",
        "      <td> 101959000</td>\n",
        "    </tr>\n",
        "    <tr>\n",
        "      <th>10</th>\n",
        "      <td> 297</td>\n",
        "      <td>    798</td>\n",
        "      <td> 22860</td>\n",
        "      <td> 1480709</td>\n",
        "      <td> 132550371</td>\n",
        "    </tr>\n",
        "    <tr>\n",
        "      <th>16</th>\n",
        "      <td> 383</td>\n",
        "      <td>   1079</td>\n",
        "      <td> 23006</td>\n",
        "      <td> 1413372</td>\n",
        "      <td> 134742461</td>\n",
        "    </tr>\n",
        "    <tr>\n",
        "      <th>20</th>\n",
        "      <td> 457</td>\n",
        "      <td> 117537</td>\n",
        "      <td> 26345</td>\n",
        "      <td> 5533326</td>\n",
        "      <td> 138720191</td>\n",
        "    </tr>\n",
        "  </tbody>\n",
        "</table>\n",
        "</div>"
       ],
       "metadata": {},
       "output_type": "pyout",
       "prompt_number": 26,
       "text": [
        "   10      100    1000     10000      100000\n",
        "1      14      89   7045   658315   66863486\n",
        "2      95     437  11575   663478  103398272\n",
        "4     158     516  16862  1308516  152685130\n",
        "8     255     728  16512  1551742  101959000\n",
        "10    297     798  22860  1480709  132550371\n",
        "16    383    1079  23006  1413372  134742461\n",
        "20    457  117537  26345  5533326  138720191"
       ]
      }
     ],
     "prompt_number": 26
    },
    {
     "cell_type": "code",
     "collapsed": false,
     "input": [
      "pn_jloop.ix[:,:,'count_sort','Inclusive usec/call'].plot(marker='o', logx=True, logy=True)\n",
      "plt.xlabel('Number of threads')\n",
      "plt.ylabel('Microseconds')"
     ],
     "language": "python",
     "metadata": {},
     "outputs": [
      {
       "metadata": {},
       "output_type": "pyout",
       "prompt_number": 27,
       "text": [
        "<matplotlib.text.Text at 0x2ac92f04c390>"
       ]
      },
      {
       "metadata": {},
       "output_type": "display_data",
       "png": "[encoded data removed]",
       "text": [
        "<matplotlib.figure.Figure at 0x2ac92ee96f90>"
       ]
      }
     ],
     "prompt_number": 27
    },
    {
     "cell_type": "heading",
     "level": 3,
     "metadata": {},
     "source": [
      "Speedup"
     ]
    },
    {
     "cell_type": "heading",
     "level": 4,
     "metadata": {},
     "source": [
      "Using threads = 1 as base case"
     ]
    },
    {
     "cell_type": "code",
     "collapsed": false,
     "input": [
      "speedup_jloop = pn_jloop.ix[:,1,'count_sort','Inclusive usec/call'] / pn_jloop.ix[:,:,'count_sort','Inclusive usec/call']\n",
      "speedup_jloop"
     ],
     "language": "python",
     "metadata": {},
     "outputs": [
      {
       "html": [
        "<div style=\"max-height:1000px;max-width:1500px;overflow:auto;\">\n",
        "<table border=\"1\" class=\"dataframe\">\n",
        "  <thead>\n",
        "    <tr style=\"text-align: right;\">\n",
        "      <th></th>\n",
        "      <th>10</th>\n",
        "      <th>100</th>\n",
        "      <th>1000</th>\n",
        "      <th>10000</th>\n",
        "      <th>100000</th>\n",
        "    </tr>\n",
        "  </thead>\n",
        "  <tbody>\n",
        "    <tr>\n",
        "      <th>1 </th>\n",
        "      <td>          1</td>\n",
        "      <td>            1</td>\n",
        "      <td>         1</td>\n",
        "      <td>         1</td>\n",
        "      <td>         1</td>\n",
        "    </tr>\n",
        "    <tr>\n",
        "      <th>2 </th>\n",
        "      <td>  0.1473684</td>\n",
        "      <td>    0.2036613</td>\n",
        "      <td> 0.6086393</td>\n",
        "      <td> 0.9922183</td>\n",
        "      <td> 0.6466596</td>\n",
        "    </tr>\n",
        "    <tr>\n",
        "      <th>4 </th>\n",
        "      <td> 0.08860759</td>\n",
        "      <td>    0.1724806</td>\n",
        "      <td> 0.4178033</td>\n",
        "      <td> 0.5031005</td>\n",
        "      <td> 0.4379175</td>\n",
        "    </tr>\n",
        "    <tr>\n",
        "      <th>8 </th>\n",
        "      <td> 0.05490196</td>\n",
        "      <td>    0.1222527</td>\n",
        "      <td> 0.4266594</td>\n",
        "      <td> 0.4242426</td>\n",
        "      <td>  0.655788</td>\n",
        "    </tr>\n",
        "    <tr>\n",
        "      <th>10</th>\n",
        "      <td> 0.04713805</td>\n",
        "      <td>    0.1115288</td>\n",
        "      <td> 0.3081802</td>\n",
        "      <td> 0.4445944</td>\n",
        "      <td> 0.5044383</td>\n",
        "    </tr>\n",
        "    <tr>\n",
        "      <th>16</th>\n",
        "      <td> 0.03655352</td>\n",
        "      <td>   0.08248378</td>\n",
        "      <td> 0.3062245</td>\n",
        "      <td> 0.4657762</td>\n",
        "      <td> 0.4962317</td>\n",
        "    </tr>\n",
        "    <tr>\n",
        "      <th>20</th>\n",
        "      <td> 0.03063457</td>\n",
        "      <td> 0.0007572084</td>\n",
        "      <td> 0.2674132</td>\n",
        "      <td> 0.1189727</td>\n",
        "      <td> 0.4820026</td>\n",
        "    </tr>\n",
        "  </tbody>\n",
        "</table>\n",
        "</div>"
       ],
       "metadata": {},
       "output_type": "pyout",
       "prompt_number": 28,
       "text": [
        "        10            100        1000       10000      100000\n",
        "1            1             1          1          1          1\n",
        "2    0.1473684     0.2036613  0.6086393  0.9922183  0.6466596\n",
        "4   0.08860759     0.1724806  0.4178033  0.5031005  0.4379175\n",
        "8   0.05490196     0.1222527  0.4266594  0.4242426   0.655788\n",
        "10  0.04713805     0.1115288  0.3081802  0.4445944  0.5044383\n",
        "16  0.03655352    0.08248378  0.3062245  0.4657762  0.4962317\n",
        "20  0.03063457  0.0007572084  0.2674132  0.1189727  0.4820026"
       ]
      }
     ],
     "prompt_number": 28
    },
    {
     "cell_type": "code",
     "collapsed": false,
     "input": [
      "speedup_jloop.plot()\n",
      "plt.legend(loc='best')\n",
      "plt.xlabel('Number of threads')\n",
      "plt.ylabel('Speedup')\n",
      "plt.title(\"$j$-loop parallel for\")"
     ],
     "language": "python",
     "metadata": {},
     "outputs": [
      {
       "metadata": {},
       "output_type": "pyout",
       "prompt_number": 29,
       "text": [
        "<matplotlib.text.Text at 0x2ac92f04c150>"
       ]
      },
      {
       "metadata": {},
       "output_type": "display_data",
       "png": "[encoded data removed]",
       "text": [
        "<matplotlib.figure.Figure at 0x2ac92f093090>"
       ]
      }
     ],
     "prompt_number": 29
    },
    {
     "cell_type": "markdown",
     "metadata": {},
     "source": [
      "For the j-loop case adding more threads just made the function slower,\n",
      "and this is expected because $\\text{count}$ needs to be synchronized and other threads need to wait to update it."
     ]
    },
    {
     "cell_type": "heading",
     "level": 4,
     "metadata": {},
     "source": [
      "Using qsort as base case"
     ]
    },
    {
     "cell_type": "code",
     "collapsed": false,
     "input": [
      "speedup_jloop_qsort = pn_qsort.ix[:,1,'qsort_lib','Inclusive usec/call'] / pn_jloop.ix[:,:,'count_sort','Inclusive usec/call']\n",
      "speedup_jloop_qsort"
     ],
     "language": "python",
     "metadata": {},
     "outputs": [
      {
       "html": [
        "<div style=\"max-height:1000px;max-width:1500px;overflow:auto;\">\n",
        "<table border=\"1\" class=\"dataframe\">\n",
        "  <thead>\n",
        "    <tr style=\"text-align: right;\">\n",
        "      <th></th>\n",
        "      <th>10</th>\n",
        "      <th>100</th>\n",
        "      <th>1000</th>\n",
        "      <th>10000</th>\n",
        "      <th>100000</th>\n",
        "    </tr>\n",
        "  </thead>\n",
        "  <tbody>\n",
        "    <tr>\n",
        "      <th>1 </th>\n",
        "      <td>  0.8571429</td>\n",
        "      <td>  1.576471</td>\n",
        "      <td>  0.3314759</td>\n",
        "      <td> 0.03836686</td>\n",
        "      <td> 0.002292281</td>\n",
        "    </tr>\n",
        "    <tr>\n",
        "      <th>2 </th>\n",
        "      <td> 0.08510638</td>\n",
        "      <td> 0.3059361</td>\n",
        "      <td>  0.1791616</td>\n",
        "      <td> 0.02760308</td>\n",
        "      <td> 0.002624113</td>\n",
        "    </tr>\n",
        "    <tr>\n",
        "      <th>4 </th>\n",
        "      <td> 0.09022556</td>\n",
        "      <td> 0.2696177</td>\n",
        "      <td> 0.09060223</td>\n",
        "      <td> 0.01911403</td>\n",
        "      <td>  0.00076936</td>\n",
        "    </tr>\n",
        "    <tr>\n",
        "      <th>8 </th>\n",
        "      <td> 0.04562738</td>\n",
        "      <td> 0.1654321</td>\n",
        "      <td>  0.1081519</td>\n",
        "      <td>  0.0137191</td>\n",
        "      <td>  0.00086816</td>\n",
        "    </tr>\n",
        "    <tr>\n",
        "      <th>10</th>\n",
        "      <td> 0.04669261</td>\n",
        "      <td> 0.1398747</td>\n",
        "      <td>  0.2314163</td>\n",
        "      <td> 0.01711848</td>\n",
        "      <td> 0.002791292</td>\n",
        "    </tr>\n",
        "    <tr>\n",
        "      <th>16</th>\n",
        "      <td> 0.03252033</td>\n",
        "      <td> 0.1392931</td>\n",
        "      <td> 0.09790054</td>\n",
        "      <td> 0.01741024</td>\n",
        "      <td> 0.001071169</td>\n",
        "    </tr>\n",
        "    <tr>\n",
        "      <th>20</th>\n",
        "      <td> 0.01355932</td>\n",
        "      <td> 0.1247672</td>\n",
        "      <td> 0.04817563</td>\n",
        "      <td> 0.01558582</td>\n",
        "      <td> 0.001039703</td>\n",
        "    </tr>\n",
        "  </tbody>\n",
        "</table>\n",
        "</div>"
       ],
       "metadata": {},
       "output_type": "pyout",
       "prompt_number": 37,
       "text": [
        "        10         100         1000        10000        100000\n",
        "1    0.8571429   1.576471   0.3314759  0.03836686  0.002292281\n",
        "2   0.08510638  0.3059361   0.1791616  0.02760308  0.002624113\n",
        "4   0.09022556  0.2696177  0.09060223  0.01911403   0.00076936\n",
        "8   0.04562738  0.1654321   0.1081519   0.0137191   0.00086816\n",
        "10  0.04669261  0.1398747   0.2314163  0.01711848  0.002791292\n",
        "16  0.03252033  0.1392931  0.09790054  0.01741024  0.001071169\n",
        "20  0.01355932  0.1247672  0.04817563  0.01558582  0.001039703"
       ]
      }
     ],
     "prompt_number": 37
    },
    {
     "cell_type": "code",
     "collapsed": false,
     "input": [
      "speedup_jloop_qsort.plot()\n",
      "plt.legend(loc='best')\n",
      "plt.xlabel('Number of threads')\n",
      "plt.ylabel('Speedup')\n",
      "plt.title(\"$i$-loop parallel for\")"
     ],
     "language": "python",
     "metadata": {},
     "outputs": [
      {
       "metadata": {},
       "output_type": "pyout",
       "prompt_number": 39,
       "text": [
        "<matplotlib.text.Text at 0x2abaa011b510>"
       ]
      },
      {
       "metadata": {},
       "output_type": "display_data",
       "png": "[encoded data removed]",
       "text": [
        "<matplotlib.figure.Figure at 0x2abaa0076b10>"
       ]
      }
     ],
     "prompt_number": 39
    },
    {
     "cell_type": "markdown",
     "metadata": {},
     "source": [
      "For the j-loop case adding more threads just made the function slower,\n",
      "and this is expected because $\\text{count}$ needs to be synchronized and other threads need to wait to update it."
     ]
    },
    {
     "cell_type": "heading",
     "level": 1,
     "metadata": {},
     "source": [
      "C"
     ]
    },
    {
     "cell_type": "heading",
     "level": 2,
     "metadata": {},
     "source": [
      "qsort"
     ]
    },
    {
     "cell_type": "markdown",
     "metadata": {},
     "source": [
      "For the Xeon Phi implementation of qsort I had to declare cmpfunc as 'runnable' on a MIC architecture.\n",
      "The only modification besides that is the #pragma offload over the qsort call."
     ]
    },
    {
     "cell_type": "code",
     "collapsed": false,
     "input": [
      "!pygmentize -l c -f html -O full -o ./mic_qsort.html ../src/mic_qsort.c\n",
      "HTML(open('mic_qsort.html', 'r').read())"
     ],
     "language": "python",
     "metadata": {},
     "outputs": [
      {
       "html": [
        "<!DOCTYPE html PUBLIC \"-//W3C//DTD HTML 4.01//EN\"\n",
        "   \"http://www.w3.org/TR/html4/strict.dtd\">\n",
        "\n",
        "<html>\n",
        "<head>\n",
        "  <title></title>\n",
        "  <meta http-equiv=\"content-type\" content=\"text/html; charset=latin1\">\n",
        "  <style type=\"text/css\">\n",
        "td.linenos { background-color: #f0f0f0; padding-right: 10px; }\n",
        "span.lineno { background-color: #f0f0f0; padding: 0 5px 0 5px; }\n",
        "pre { line-height: 125%; }\n",
        "body .hll { background-color: #ffffcc }\n",
        "body  { background: #f8f8f8; }\n",
        "body .c { color: #408080; font-style: italic } /* Comment */\n",
        "body .err { border: 1px solid #FF0000 } /* Error */\n",
        "body .k { color: #008000; font-weight: bold } /* Keyword */\n",
        "body .o { color: #666666 } /* Operator */\n",
        "body .cm { color: #408080; font-style: italic } /* Comment.Multiline */\n",
        "body .cp { color: #BC7A00 } /* Comment.Preproc */\n",
        "body .c1 { color: #408080; font-style: italic } /* Comment.Single */\n",
        "body .cs { color: #408080; font-style: italic } /* Comment.Special */\n",
        "body .gd { color: #A00000 } /* Generic.Deleted */\n",
        "body .ge { font-style: italic } /* Generic.Emph */\n",
        "body .gr { color: #FF0000 } /* Generic.Error */\n",
        "body .gh { color: #000080; font-weight: bold } /* Generic.Heading */\n",
        "body .gi { color: #00A000 } /* Generic.Inserted */\n",
        "body .go { color: #888888 } /* Generic.Output */\n",
        "body .gp { color: #000080; font-weight: bold } /* Generic.Prompt */\n",
        "body .gs { font-weight: bold } /* Generic.Strong */\n",
        "body .gu { color: #800080; font-weight: bold } /* Generic.Subheading */\n",
        "body .gt { color: #0044DD } /* Generic.Traceback */\n",
        "body .kc { color: #008000; font-weight: bold } /* Keyword.Constant */\n",
        "body .kd { color: #008000; font-weight: bold } /* Keyword.Declaration */\n",
        "body .kn { color: #008000; font-weight: bold } /* Keyword.Namespace */\n",
        "body .kp { color: #008000 } /* Keyword.Pseudo */\n",
        "body .kr { color: #008000; font-weight: bold } /* Keyword.Reserved */\n",
        "body .kt { color: #B00040 } /* Keyword.Type */\n",
        "body .m { color: #666666 } /* Literal.Number */\n",
        "body .s { color: #BA2121 } /* Literal.String */\n",
        "body .na { color: #7D9029 } /* Name.Attribute */\n",
        "body .nb { color: #008000 } /* Name.Builtin */\n",
        "body .nc { color: #0000FF; font-weight: bold } /* Name.Class */\n",
        "body .no { color: #880000 } /* Name.Constant */\n",
        "body .nd { color: #AA22FF } /* Name.Decorator */\n",
        "body .ni { color: #999999; font-weight: bold } /* Name.Entity */\n",
        "body .ne { color: #D2413A; font-weight: bold } /* Name.Exception */\n",
        "body .nf { color: #0000FF } /* Name.Function */\n",
        "body .nl { color: #A0A000 } /* Name.Label */\n",
        "body .nn { color: #0000FF; font-weight: bold } /* Name.Namespace */\n",
        "body .nt { color: #008000; font-weight: bold } /* Name.Tag */\n",
        "body .nv { color: #19177C } /* Name.Variable */\n",
        "body .ow { color: #AA22FF; font-weight: bold } /* Operator.Word */\n",
        "body .w { color: #bbbbbb } /* Text.Whitespace */\n",
        "body .mf { color: #666666 } /* Literal.Number.Float */\n",
        "body .mh { color: #666666 } /* Literal.Number.Hex */\n",
        "body .mi { color: #666666 } /* Literal.Number.Integer */\n",
        "body .mo { color: #666666 } /* Literal.Number.Oct */\n",
        "body .sb { color: #BA2121 } /* Literal.String.Backtick */\n",
        "body .sc { color: #BA2121 } /* Literal.String.Char */\n",
        "body .sd { color: #BA2121; font-style: italic } /* Literal.String.Doc */\n",
        "body .s2 { color: #BA2121 } /* Literal.String.Double */\n",
        "body .se { color: #BB6622; font-weight: bold } /* Literal.String.Escape */\n",
        "body .sh { color: #BA2121 } /* Literal.String.Heredoc */\n",
        "body .si { color: #BB6688; font-weight: bold } /* Literal.String.Interpol */\n",
        "body .sx { color: #008000 } /* Literal.String.Other */\n",
        "body .sr { color: #BB6688 } /* Literal.String.Regex */\n",
        "body .s1 { color: #BA2121 } /* Literal.String.Single */\n",
        "body .ss { color: #19177C } /* Literal.String.Symbol */\n",
        "body .bp { color: #008000 } /* Name.Builtin.Pseudo */\n",
        "body .vc { color: #19177C } /* Name.Variable.Class */\n",
        "body .vg { color: #19177C } /* Name.Variable.Global */\n",
        "body .vi { color: #19177C } /* Name.Variable.Instance */\n",
        "body .il { color: #666666 } /* Literal.Number.Integer.Long */\n",
        "\n",
        "  </style>\n",
        "</head>\n",
        "<body>\n",
        "<h2></h2>\n",
        "\n",
        "<div class=\"highlight\"><pre><span class=\"cp\">#include &lt;stdio.h&gt;</span>\n",
        "<span class=\"cp\">#include &lt;stdlib.h&gt;</span>\n",
        "<span class=\"cp\">#include &lt;string.h&gt;</span>\n",
        "\n",
        "<span class=\"cp\">#ifndef VECTOR_SIZE</span>\n",
        "<span class=\"cp\">#define VECTOR_SIZE 100</span>\n",
        "<span class=\"cp\">#endif</span>\n",
        "\n",
        "\n",
        "<span class=\"n\">__attribute__</span><span class=\"p\">((</span><span class=\"n\">target</span><span class=\"p\">(</span><span class=\"n\">mic</span><span class=\"p\">)))</span>\n",
        "<span class=\"kt\">int</span> <span class=\"n\">cmpfunc</span> <span class=\"p\">(</span><span class=\"k\">const</span> <span class=\"kt\">void</span> <span class=\"o\">*</span> <span class=\"n\">a</span><span class=\"p\">,</span> <span class=\"k\">const</span> <span class=\"kt\">void</span> <span class=\"o\">*</span> <span class=\"n\">b</span><span class=\"p\">)</span>\n",
        "<span class=\"p\">{</span>\n",
        "   <span class=\"k\">return</span> <span class=\"p\">(</span> <span class=\"o\">*</span><span class=\"p\">(</span><span class=\"kt\">int</span><span class=\"o\">*</span><span class=\"p\">)</span><span class=\"n\">a</span> <span class=\"o\">-</span> <span class=\"o\">*</span><span class=\"p\">(</span><span class=\"kt\">int</span><span class=\"o\">*</span><span class=\"p\">)</span><span class=\"n\">b</span> <span class=\"p\">);</span>\n",
        "<span class=\"p\">}</span>\n",
        "\n",
        "\n",
        "<span class=\"kt\">void</span> <span class=\"n\">qsort_lib</span><span class=\"p\">(</span><span class=\"kt\">int</span> <span class=\"n\">a</span><span class=\"p\">[],</span> <span class=\"kt\">int</span> <span class=\"n\">n</span><span class=\"p\">)</span> <span class=\"p\">{</span>\n",
        "\n",
        "  <span class=\"err\">#</span><span class=\"n\">pragma</span> <span class=\"n\">offload</span> <span class=\"n\">target</span><span class=\"p\">(</span><span class=\"n\">mic</span><span class=\"p\">)</span> <span class=\"n\">inout</span><span class=\"p\">(</span><span class=\"n\">a</span><span class=\"o\">:</span><span class=\"n\">length</span><span class=\"p\">(</span><span class=\"n\">n</span><span class=\"p\">))</span>\n",
        "  <span class=\"n\">qsort</span><span class=\"p\">(</span><span class=\"n\">a</span><span class=\"p\">,</span> <span class=\"n\">n</span><span class=\"p\">,</span> <span class=\"k\">sizeof</span><span class=\"p\">(</span><span class=\"kt\">int</span><span class=\"p\">),</span> <span class=\"n\">cmpfunc</span><span class=\"p\">);</span>\n",
        "\n",
        "<span class=\"p\">}</span> <span class=\"cm\">/* stdlib qsort */</span>\n",
        "\n",
        "\n",
        "<span class=\"kt\">int</span> <span class=\"n\">init_vector</span><span class=\"p\">(</span><span class=\"kt\">int</span> <span class=\"n\">vect</span><span class=\"p\">[])</span> <span class=\"p\">{</span>\n",
        "    <span class=\"k\">for</span> <span class=\"p\">(</span><span class=\"kt\">int</span> <span class=\"n\">i</span> <span class=\"o\">=</span> <span class=\"mi\">0</span><span class=\"p\">;</span> <span class=\"n\">i</span> <span class=\"o\">&lt;</span> <span class=\"n\">VECTOR_SIZE</span><span class=\"p\">;</span> <span class=\"o\">++</span><span class=\"n\">i</span> <span class=\"p\">)</span> <span class=\"p\">{</span>\n",
        "      <span class=\"n\">vect</span><span class=\"p\">[</span><span class=\"n\">i</span><span class=\"p\">]</span> <span class=\"o\">=</span> <span class=\"n\">rand</span><span class=\"p\">()</span> <span class=\"o\">%</span> <span class=\"mi\">100</span><span class=\"p\">;</span>\n",
        "    <span class=\"p\">}</span>\n",
        "    <span class=\"k\">return</span> <span class=\"mi\">0</span><span class=\"p\">;</span>\n",
        "<span class=\"p\">}</span>\n",
        "\n",
        "\n",
        "<span class=\"kt\">int</span> <span class=\"n\">main</span><span class=\"p\">(</span><span class=\"kt\">int</span> <span class=\"n\">argc</span><span class=\"p\">,</span> <span class=\"kt\">char</span><span class=\"o\">**</span> <span class=\"n\">argv</span><span class=\"p\">)</span> <span class=\"p\">{</span>\n",
        "  <span class=\"kt\">int</span> <span class=\"n\">vector</span><span class=\"p\">[</span><span class=\"n\">VECTOR_SIZE</span><span class=\"p\">];</span>\n",
        "\n",
        "  <span class=\"n\">init_vector</span><span class=\"p\">(</span><span class=\"n\">vector</span><span class=\"p\">);</span>\n",
        "\n",
        "  <span class=\"n\">qsort_lib</span><span class=\"p\">(</span><span class=\"n\">vector</span><span class=\"p\">,</span> <span class=\"n\">VECTOR_SIZE</span><span class=\"p\">);</span>\n",
        "\n",
        "  <span class=\"k\">return</span> <span class=\"mi\">0</span><span class=\"p\">;</span>\n",
        "<span class=\"p\">}</span>\n",
        "</pre></div>\n",
        "</body>\n",
        "</html>\n"
       ],
       "metadata": {},
       "output_type": "pyout",
       "prompt_number": 59,
       "text": [
        "<IPython.core.display.HTML at 0x2abaa06ec550>"
       ]
      }
     ],
     "prompt_number": 59
    },
    {
     "cell_type": "heading",
     "level": 2,
     "metadata": {},
     "source": [
      "i-loop"
     ]
    },
    {
     "cell_type": "markdown",
     "metadata": {},
     "source": [
      "For the i-loop Xeon Phi implementation I added the #pragma offload before the OpenMP parallel for."
     ]
    },
    {
     "cell_type": "code",
     "collapsed": false,
     "input": [
      "!pygmentize -l c -f html -O full -o ./mic_iloop.html ../src/mic_iloop.c\n",
      "HTML(open('mic_iloop.html', 'r').read())"
     ],
     "language": "python",
     "metadata": {},
     "outputs": [
      {
       "html": [
        "<!DOCTYPE html PUBLIC \"-//W3C//DTD HTML 4.01//EN\"\n",
        "   \"http://www.w3.org/TR/html4/strict.dtd\">\n",
        "\n",
        "<html>\n",
        "<head>\n",
        "  <title></title>\n",
        "  <meta http-equiv=\"content-type\" content=\"text/html; charset=latin1\">\n",
        "  <style type=\"text/css\">\n",
        "td.linenos { background-color: #f0f0f0; padding-right: 10px; }\n",
        "span.lineno { background-color: #f0f0f0; padding: 0 5px 0 5px; }\n",
        "pre { line-height: 125%; }\n",
        "body .hll { background-color: #ffffcc }\n",
        "body  { background: #f8f8f8; }\n",
        "body .c { color: #408080; font-style: italic } /* Comment */\n",
        "body .err { border: 1px solid #FF0000 } /* Error */\n",
        "body .k { color: #008000; font-weight: bold } /* Keyword */\n",
        "body .o { color: #666666 } /* Operator */\n",
        "body .cm { color: #408080; font-style: italic } /* Comment.Multiline */\n",
        "body .cp { color: #BC7A00 } /* Comment.Preproc */\n",
        "body .c1 { color: #408080; font-style: italic } /* Comment.Single */\n",
        "body .cs { color: #408080; font-style: italic } /* Comment.Special */\n",
        "body .gd { color: #A00000 } /* Generic.Deleted */\n",
        "body .ge { font-style: italic } /* Generic.Emph */\n",
        "body .gr { color: #FF0000 } /* Generic.Error */\n",
        "body .gh { color: #000080; font-weight: bold } /* Generic.Heading */\n",
        "body .gi { color: #00A000 } /* Generic.Inserted */\n",
        "body .go { color: #888888 } /* Generic.Output */\n",
        "body .gp { color: #000080; font-weight: bold } /* Generic.Prompt */\n",
        "body .gs { font-weight: bold } /* Generic.Strong */\n",
        "body .gu { color: #800080; font-weight: bold } /* Generic.Subheading */\n",
        "body .gt { color: #0044DD } /* Generic.Traceback */\n",
        "body .kc { color: #008000; font-weight: bold } /* Keyword.Constant */\n",
        "body .kd { color: #008000; font-weight: bold } /* Keyword.Declaration */\n",
        "body .kn { color: #008000; font-weight: bold } /* Keyword.Namespace */\n",
        "body .kp { color: #008000 } /* Keyword.Pseudo */\n",
        "body .kr { color: #008000; font-weight: bold } /* Keyword.Reserved */\n",
        "body .kt { color: #B00040 } /* Keyword.Type */\n",
        "body .m { color: #666666 } /* Literal.Number */\n",
        "body .s { color: #BA2121 } /* Literal.String */\n",
        "body .na { color: #7D9029 } /* Name.Attribute */\n",
        "body .nb { color: #008000 } /* Name.Builtin */\n",
        "body .nc { color: #0000FF; font-weight: bold } /* Name.Class */\n",
        "body .no { color: #880000 } /* Name.Constant */\n",
        "body .nd { color: #AA22FF } /* Name.Decorator */\n",
        "body .ni { color: #999999; font-weight: bold } /* Name.Entity */\n",
        "body .ne { color: #D2413A; font-weight: bold } /* Name.Exception */\n",
        "body .nf { color: #0000FF } /* Name.Function */\n",
        "body .nl { color: #A0A000 } /* Name.Label */\n",
        "body .nn { color: #0000FF; font-weight: bold } /* Name.Namespace */\n",
        "body .nt { color: #008000; font-weight: bold } /* Name.Tag */\n",
        "body .nv { color: #19177C } /* Name.Variable */\n",
        "body .ow { color: #AA22FF; font-weight: bold } /* Operator.Word */\n",
        "body .w { color: #bbbbbb } /* Text.Whitespace */\n",
        "body .mf { color: #666666 } /* Literal.Number.Float */\n",
        "body .mh { color: #666666 } /* Literal.Number.Hex */\n",
        "body .mi { color: #666666 } /* Literal.Number.Integer */\n",
        "body .mo { color: #666666 } /* Literal.Number.Oct */\n",
        "body .sb { color: #BA2121 } /* Literal.String.Backtick */\n",
        "body .sc { color: #BA2121 } /* Literal.String.Char */\n",
        "body .sd { color: #BA2121; font-style: italic } /* Literal.String.Doc */\n",
        "body .s2 { color: #BA2121 } /* Literal.String.Double */\n",
        "body .se { color: #BB6622; font-weight: bold } /* Literal.String.Escape */\n",
        "body .sh { color: #BA2121 } /* Literal.String.Heredoc */\n",
        "body .si { color: #BB6688; font-weight: bold } /* Literal.String.Interpol */\n",
        "body .sx { color: #008000 } /* Literal.String.Other */\n",
        "body .sr { color: #BB6688 } /* Literal.String.Regex */\n",
        "body .s1 { color: #BA2121 } /* Literal.String.Single */\n",
        "body .ss { color: #19177C } /* Literal.String.Symbol */\n",
        "body .bp { color: #008000 } /* Name.Builtin.Pseudo */\n",
        "body .vc { color: #19177C } /* Name.Variable.Class */\n",
        "body .vg { color: #19177C } /* Name.Variable.Global */\n",
        "body .vi { color: #19177C } /* Name.Variable.Instance */\n",
        "body .il { color: #666666 } /* Literal.Number.Integer.Long */\n",
        "\n",
        "  </style>\n",
        "</head>\n",
        "<body>\n",
        "<h2></h2>\n",
        "\n",
        "<div class=\"highlight\"><pre><span class=\"cp\">#include &lt;stdio.h&gt;</span>\n",
        "<span class=\"cp\">#include &lt;stdlib.h&gt;</span>\n",
        "<span class=\"cp\">#include &lt;string.h&gt;</span>\n",
        "\n",
        "<span class=\"cp\">#ifndef VECTOR_SIZE</span>\n",
        "<span class=\"cp\">#define VECTOR_SIZE 100</span>\n",
        "<span class=\"cp\">#endif</span>\n",
        "\n",
        "<span class=\"cp\">#ifdef _OPENMP</span>\n",
        "<span class=\"cp\">#include &lt;omp.h&gt;</span>\n",
        "<span class=\"cp\">#endif</span>\n",
        "\n",
        "<span class=\"kt\">void</span> <span class=\"nf\">count_sort</span><span class=\"p\">(</span><span class=\"kt\">int</span> <span class=\"n\">a</span><span class=\"p\">[],</span> <span class=\"kt\">int</span> <span class=\"n\">n</span><span class=\"p\">)</span> <span class=\"p\">{</span>\n",
        "  <span class=\"kt\">int</span> <span class=\"n\">i</span><span class=\"p\">,</span> <span class=\"n\">j</span><span class=\"p\">,</span> <span class=\"n\">count</span><span class=\"p\">;</span>\n",
        "  <span class=\"kt\">int</span> <span class=\"o\">*</span><span class=\"n\">temp</span> <span class=\"o\">=</span> <span class=\"n\">malloc</span><span class=\"p\">(</span><span class=\"n\">n</span><span class=\"o\">*</span><span class=\"k\">sizeof</span><span class=\"p\">(</span><span class=\"kt\">int</span><span class=\"p\">));</span>\n",
        "\n",
        "  <span class=\"err\">#</span><span class=\"n\">pragma</span> <span class=\"n\">offload</span> <span class=\"n\">target</span><span class=\"p\">(</span><span class=\"n\">mic</span><span class=\"p\">)</span> <span class=\"n\">in</span><span class=\"p\">(</span><span class=\"n\">a</span><span class=\"o\">:</span><span class=\"n\">length</span><span class=\"p\">(</span><span class=\"n\">n</span><span class=\"p\">))</span> <span class=\"n\">out</span><span class=\"p\">(</span><span class=\"n\">temp</span><span class=\"o\">:</span><span class=\"n\">length</span><span class=\"p\">(</span><span class=\"n\">n</span><span class=\"p\">))</span>\n",
        "  <span class=\"p\">{</span>\n",
        "  <span class=\"err\">#</span><span class=\"n\">pragma</span> <span class=\"n\">omp</span> <span class=\"n\">parallel</span> <span class=\"k\">for</span> <span class=\"k\">default</span><span class=\"p\">(</span><span class=\"n\">none</span><span class=\"p\">)</span> <span class=\"n\">private</span><span class=\"p\">(</span><span class=\"n\">i</span><span class=\"p\">,</span> <span class=\"n\">j</span><span class=\"p\">,</span> <span class=\"n\">count</span><span class=\"p\">)</span> <span class=\"n\">shared</span><span class=\"p\">(</span><span class=\"n\">a</span><span class=\"p\">,</span> <span class=\"n\">temp</span><span class=\"p\">,</span> <span class=\"n\">n</span><span class=\"p\">)</span>\n",
        "  <span class=\"k\">for</span> <span class=\"p\">(</span><span class=\"n\">i</span> <span class=\"o\">=</span> <span class=\"mi\">0</span><span class=\"p\">;</span> <span class=\"n\">i</span> <span class=\"o\">&lt;</span> <span class=\"n\">n</span><span class=\"p\">;</span> <span class=\"n\">i</span><span class=\"o\">++</span><span class=\"p\">)</span> <span class=\"p\">{</span>\n",
        "    <span class=\"n\">count</span> <span class=\"o\">=</span> <span class=\"mi\">0</span><span class=\"p\">;</span>\n",
        "    <span class=\"k\">for</span> <span class=\"p\">(</span><span class=\"n\">j</span> <span class=\"o\">=</span> <span class=\"mi\">0</span><span class=\"p\">;</span> <span class=\"n\">j</span> <span class=\"o\">&lt;</span> <span class=\"n\">n</span><span class=\"p\">;</span> <span class=\"n\">j</span><span class=\"o\">++</span><span class=\"p\">)</span> <span class=\"p\">{</span>\n",
        "      <span class=\"k\">if</span> <span class=\"p\">(</span><span class=\"n\">a</span><span class=\"p\">[</span><span class=\"n\">j</span><span class=\"p\">]</span> <span class=\"o\">&lt;</span> <span class=\"n\">a</span><span class=\"p\">[</span><span class=\"n\">i</span><span class=\"p\">])</span>\n",
        "        <span class=\"n\">count</span><span class=\"o\">++</span><span class=\"p\">;</span>\n",
        "      <span class=\"k\">else</span> <span class=\"k\">if</span> <span class=\"p\">(</span><span class=\"n\">a</span><span class=\"p\">[</span><span class=\"n\">j</span><span class=\"p\">]</span> <span class=\"o\">==</span> <span class=\"n\">a</span><span class=\"p\">[</span><span class=\"n\">i</span><span class=\"p\">]</span> <span class=\"o\">&amp;&amp;</span> <span class=\"n\">j</span> <span class=\"o\">&lt;</span> <span class=\"n\">i</span><span class=\"p\">)</span>\n",
        "        <span class=\"n\">count</span><span class=\"o\">++</span><span class=\"p\">;</span>\n",
        "    <span class=\"p\">}</span>\n",
        "    <span class=\"n\">temp</span><span class=\"p\">[</span><span class=\"n\">count</span><span class=\"p\">]</span> <span class=\"o\">=</span> <span class=\"n\">a</span><span class=\"p\">[</span><span class=\"n\">i</span><span class=\"p\">];</span>\n",
        "  <span class=\"p\">}</span>\n",
        "  <span class=\"p\">}</span>\n",
        "\n",
        "  <span class=\"err\">#</span><span class=\"n\">ifndef</span> <span class=\"n\">_OPENMP</span>\n",
        "  <span class=\"n\">memcpy</span><span class=\"p\">(</span><span class=\"n\">a</span><span class=\"p\">,</span> <span class=\"n\">temp</span><span class=\"p\">,</span> <span class=\"n\">n</span><span class=\"o\">*</span><span class=\"k\">sizeof</span><span class=\"p\">(</span><span class=\"kt\">int</span><span class=\"p\">));</span>\n",
        "  <span class=\"err\">#</span><span class=\"k\">else</span>\n",
        "\n",
        "  <span class=\"err\">#</span><span class=\"n\">pragma</span> <span class=\"n\">omp</span> <span class=\"n\">parallel</span>\n",
        "  <span class=\"p\">{</span>\n",
        "    <span class=\"kt\">int</span> <span class=\"n\">thread_count</span> <span class=\"o\">=</span> <span class=\"n\">omp_get_num_threads</span><span class=\"p\">();</span>\n",
        "    <span class=\"kt\">int</span> <span class=\"n\">local_n</span> <span class=\"o\">=</span> <span class=\"n\">n</span> <span class=\"o\">/</span> <span class=\"n\">thread_count</span><span class=\"p\">;</span>\n",
        "\n",
        "    <span class=\"err\">#</span><span class=\"n\">pragma</span> <span class=\"n\">omp</span> <span class=\"n\">parallel</span> <span class=\"k\">for</span> <span class=\"k\">default</span><span class=\"p\">(</span><span class=\"n\">none</span><span class=\"p\">)</span> <span class=\"n\">private</span><span class=\"p\">(</span><span class=\"n\">i</span><span class=\"p\">)</span> <span class=\"n\">shared</span><span class=\"p\">(</span><span class=\"n\">n</span><span class=\"p\">,</span> <span class=\"n\">a</span><span class=\"p\">,</span> <span class=\"n\">temp</span><span class=\"p\">,</span> <span class=\"n\">local_n</span><span class=\"p\">,</span> <span class=\"n\">thread_count</span><span class=\"p\">)</span>\n",
        "    <span class=\"k\">for</span> <span class=\"p\">(</span><span class=\"kt\">int</span> <span class=\"n\">i</span> <span class=\"o\">=</span> <span class=\"mi\">0</span><span class=\"p\">;</span> <span class=\"n\">i</span> <span class=\"o\">&lt;</span> <span class=\"n\">thread_count</span><span class=\"p\">;</span> <span class=\"n\">i</span><span class=\"o\">++</span><span class=\"p\">)</span> <span class=\"p\">{</span>\n",
        "      <span class=\"kt\">int</span> <span class=\"n\">start</span> <span class=\"o\">=</span> <span class=\"n\">i</span> <span class=\"o\">*</span> <span class=\"n\">local_n</span><span class=\"p\">;</span>\n",
        "      <span class=\"kt\">int</span> <span class=\"n\">nelem</span> <span class=\"o\">=</span> <span class=\"n\">local_n</span><span class=\"p\">;</span>\n",
        "      <span class=\"k\">if</span> <span class=\"p\">(</span><span class=\"n\">i</span> <span class=\"o\">==</span> <span class=\"n\">thread_count</span> <span class=\"o\">-</span> <span class=\"mi\">1</span><span class=\"p\">)</span> <span class=\"p\">{</span>\n",
        "        <span class=\"n\">nelem</span> <span class=\"o\">=</span> <span class=\"n\">n</span> <span class=\"o\">-</span> <span class=\"n\">start</span><span class=\"p\">;</span>\n",
        "      <span class=\"p\">}</span>\n",
        "      <span class=\"n\">memcpy</span><span class=\"p\">(</span><span class=\"n\">a</span> <span class=\"o\">+</span> <span class=\"n\">start</span><span class=\"p\">,</span> <span class=\"n\">temp</span> <span class=\"o\">+</span> <span class=\"n\">start</span><span class=\"p\">,</span> <span class=\"n\">nelem</span> <span class=\"o\">*</span> <span class=\"k\">sizeof</span><span class=\"p\">(</span><span class=\"kt\">int</span><span class=\"p\">));</span>\n",
        "    <span class=\"p\">}</span>\n",
        "  <span class=\"p\">}</span>\n",
        "\n",
        "  <span class=\"err\">#</span><span class=\"n\">endif</span>\n",
        "  <span class=\"n\">free</span><span class=\"p\">(</span><span class=\"n\">temp</span><span class=\"p\">);</span>\n",
        "<span class=\"p\">}</span> <span class=\"cm\">/* Count sort */</span>\n",
        "\n",
        "\n",
        "<span class=\"kt\">int</span> <span class=\"nf\">init_vector</span><span class=\"p\">(</span><span class=\"kt\">int</span> <span class=\"n\">vect</span><span class=\"p\">[])</span> <span class=\"p\">{</span>\n",
        "    <span class=\"k\">for</span> <span class=\"p\">(</span><span class=\"kt\">int</span> <span class=\"n\">i</span> <span class=\"o\">=</span> <span class=\"mi\">0</span><span class=\"p\">;</span> <span class=\"n\">i</span> <span class=\"o\">&lt;</span> <span class=\"n\">VECTOR_SIZE</span><span class=\"p\">;</span> <span class=\"o\">++</span><span class=\"n\">i</span> <span class=\"p\">)</span> <span class=\"p\">{</span>\n",
        "      <span class=\"n\">vect</span><span class=\"p\">[</span><span class=\"n\">i</span><span class=\"p\">]</span> <span class=\"o\">=</span> <span class=\"n\">rand</span><span class=\"p\">()</span> <span class=\"o\">%</span> <span class=\"mi\">100</span><span class=\"p\">;</span>\n",
        "    <span class=\"p\">}</span>\n",
        "    <span class=\"k\">return</span> <span class=\"mi\">0</span><span class=\"p\">;</span>\n",
        "<span class=\"p\">}</span>\n",
        "\n",
        "\n",
        "<span class=\"kt\">int</span> <span class=\"nf\">main</span><span class=\"p\">(</span><span class=\"kt\">int</span> <span class=\"n\">argc</span><span class=\"p\">,</span> <span class=\"kt\">char</span><span class=\"o\">**</span> <span class=\"n\">argv</span><span class=\"p\">)</span> <span class=\"p\">{</span>\n",
        "  <span class=\"kt\">int</span> <span class=\"n\">vector</span><span class=\"p\">[</span><span class=\"n\">VECTOR_SIZE</span><span class=\"p\">];</span>\n",
        "\n",
        "  <span class=\"n\">init_vector</span><span class=\"p\">(</span><span class=\"n\">vector</span><span class=\"p\">);</span>\n",
        "\n",
        "  <span class=\"n\">count_sort</span><span class=\"p\">(</span><span class=\"n\">vector</span><span class=\"p\">,</span> <span class=\"n\">VECTOR_SIZE</span><span class=\"p\">);</span>\n",
        "\n",
        "  <span class=\"k\">return</span> <span class=\"mi\">0</span><span class=\"p\">;</span>\n",
        "<span class=\"p\">}</span>\n",
        "</pre></div>\n",
        "</body>\n",
        "</html>\n"
       ],
       "metadata": {},
       "output_type": "pyout",
       "prompt_number": 60,
       "text": [
        "<IPython.core.display.HTML at 0x2abaa082d410>"
       ]
      }
     ],
     "prompt_number": 60
    },
    {
     "cell_type": "heading",
     "level": 2,
     "metadata": {},
     "source": [
      "Speedup"
     ]
    },
    {
     "cell_type": "markdown",
     "metadata": {},
     "source": [
      "Since I used TAU for the other analysis, I wanted to use TAU for the Xeon Phi cases too.\n",
      "But HPCC didn't have it installed at first,\n",
      "and after it was installed the profile data wasn't generated.\n",
      "I contacted HPCC support but didn't got an answer in time for the homework."
     ]
    },
    {
     "cell_type": "heading",
     "level": 1,
     "metadata": {},
     "source": [
      "D"
     ]
    },
    {
     "cell_type": "markdown",
     "metadata": {},
     "source": [
      "It should be compute-bound, but ends up being memory-bound because of the bad memory access pattern.\n",
      "For each element of the array all the previous elements need to be accessed again,\n",
      "and more efficient sorting algorithms (like merge sort or even quicksort) can have better access patterns than count sort."
     ]
    }
   ],
   "metadata": {}
  }
 ]
}