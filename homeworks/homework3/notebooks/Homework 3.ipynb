{
 "metadata": {
  "name": "",
  "signature": "sha256:1f21cfe8f25a16a6fa4830778591fb51c90163129b7bb8da8d409841d8a040af"
 },
 "nbformat": 3,
 "nbformat_minor": 0,
 "worksheets": [
  {
   "cells": [
    {
     "cell_type": "code",
     "collapsed": false,
     "input": [
      "%matplotlib inline"
     ],
     "language": "python",
     "metadata": {},
     "outputs": [],
     "prompt_number": 1
    },
    {
     "cell_type": "code",
     "collapsed": false,
     "input": [
      "from collections import defaultdict\n",
      "\n",
      "import matplotlib.pyplot as plt\n",
      "import pandas as pd\n",
      "import seaborn as sns"
     ],
     "language": "python",
     "metadata": {},
     "outputs": [],
     "prompt_number": 16
    },
    {
     "cell_type": "code",
     "collapsed": false,
     "input": [
      "VECTOR_SIZE = [10, 100, 1000, 10000, 100000]\n",
      "THREADS = [1, 2, 4, 8, 10, 16, 20]"
     ],
     "language": "python",
     "metadata": {},
     "outputs": [],
     "prompt_number": 36
    },
    {
     "cell_type": "code",
     "collapsed": false,
     "input": [
      "header = ['%Time', 'Exclusive msec', 'Inclusive total msec', '#Call', '#Subrs', 'Inclusive usec/call', 'Name']\n",
      "\n",
      "def prepare_panel(expname):\n",
      "    data = defaultdict(dict)\n",
      "\n",
      "    for v in VECTOR_SIZE:\n",
      "        for t in THREADS:\n",
      "            tauprofile = \"../workdir/{}/{}/{}/tauprofile\".format(expname, v, t)\n",
      "            header_started = None\n",
      "            tv_data = defaultdict(list)\n",
      "            with open(tauprofile) as f:\n",
      "                for line in f:\n",
      "                    if line.startswith('-----') and header_started is None:\n",
      "                        header_started = True\n",
      "                    elif line.startswith('-----') and header_started:\n",
      "                        break\n",
      "                for line in f:\n",
      "                    function_data = line[:-1].strip().split()\n",
      "                    if len(function_data) > len(header):\n",
      "                        function_data = function_data[:len(header) - 1] + [\" \".join(function_data[len(header) - 1:])]\n",
      "                    for metric, value in zip(header, function_data):\n",
      "                        if not value.isalpha():\n",
      "                            try:\n",
      "                                value = int(value)\n",
      "                            except ValueError:\n",
      "                                try:\n",
      "                                    value = float(value)\n",
      "                                except ValueError:\n",
      "                                    pass\n",
      "                        tv_data[metric].append(value)\n",
      "            data[v][t] = pd.DataFrame(tv_data, index=tv_data['Name'])\n",
      "    return data"
     ],
     "language": "python",
     "metadata": {},
     "outputs": [],
     "prompt_number": 37
    },
    {
     "cell_type": "heading",
     "level": 2,
     "metadata": {},
     "source": [
      "i-loop"
     ]
    },
    {
     "cell_type": "code",
     "collapsed": false,
     "input": [
      "!cd .. && make exec/omp_iloop-GNU"
     ],
     "language": "python",
     "metadata": {},
     "outputs": []
    },
    {
     "cell_type": "code",
     "collapsed": false,
     "input": [
      "!cd .. && make workdir/omp_iloop.pbs"
     ],
     "language": "python",
     "metadata": {},
     "outputs": []
    },
    {
     "cell_type": "code",
     "collapsed": false,
     "input": [
      "!cd .. && make TAU_PROFILES_ILOOP"
     ],
     "language": "python",
     "metadata": {},
     "outputs": [
      {
       "output_type": "stream",
       "stream": "stdout",
       "text": [
        "make: Nothing to be done for `TAU_PROFILES_ILOOP'.\r\n"
       ]
      }
     ],
     "prompt_number": 42
    },
    {
     "cell_type": "code",
     "collapsed": false,
     "input": [
      "data = prepare_panel('omp_iloop')\n",
      "pn = pd.Panel4D(data)"
     ],
     "language": "python",
     "metadata": {},
     "outputs": [],
     "prompt_number": 38
    },
    {
     "cell_type": "code",
     "collapsed": false,
     "input": [
      "# dimensions: pn[vector size, threads, function name, metric]\n",
      "pn.ix[:,:,'count_sort','Inclusive usec/call']"
     ],
     "language": "python",
     "metadata": {},
     "outputs": [
      {
       "html": [
        "<div style=\"max-height:1000px;max-width:1500px;overflow:auto;\">\n",
        "<table border=\"1\" class=\"dataframe\">\n",
        "  <thead>\n",
        "    <tr style=\"text-align: right;\">\n",
        "      <th></th>\n",
        "      <th>10</th>\n",
        "      <th>100</th>\n",
        "      <th>1000</th>\n",
        "      <th>10000</th>\n",
        "      <th>100000</th>\n",
        "    </tr>\n",
        "  </thead>\n",
        "  <tbody>\n",
        "    <tr>\n",
        "      <th>1 </th>\n",
        "      <td>    13</td>\n",
        "      <td>   82</td>\n",
        "      <td>  6549</td>\n",
        "      <td> 617877</td>\n",
        "      <td> 63769861</td>\n",
        "    </tr>\n",
        "    <tr>\n",
        "      <th>2 </th>\n",
        "      <td>    74</td>\n",
        "      <td>   99</td>\n",
        "      <td>  3445</td>\n",
        "      <td> 317430</td>\n",
        "      <td> 31746798</td>\n",
        "    </tr>\n",
        "    <tr>\n",
        "      <th>4 </th>\n",
        "      <td>   118</td>\n",
        "      <td>  161</td>\n",
        "      <td>  1870</td>\n",
        "      <td> 164940</td>\n",
        "      <td> 16418804</td>\n",
        "    </tr>\n",
        "    <tr>\n",
        "      <th>8 </th>\n",
        "      <td>   211</td>\n",
        "      <td>  225</td>\n",
        "      <td>  1117</td>\n",
        "      <td>  87697</td>\n",
        "      <td>  8732929</td>\n",
        "    </tr>\n",
        "    <tr>\n",
        "      <th>10</th>\n",
        "      <td>   249</td>\n",
        "      <td>  272</td>\n",
        "      <td>   994</td>\n",
        "      <td>  72597</td>\n",
        "      <td>  7258489</td>\n",
        "    </tr>\n",
        "    <tr>\n",
        "      <th>16</th>\n",
        "      <td>   342</td>\n",
        "      <td>  345</td>\n",
        "      <td>   887</td>\n",
        "      <td>  47094</td>\n",
        "      <td>  4547220</td>\n",
        "    </tr>\n",
        "    <tr>\n",
        "      <th>20</th>\n",
        "      <td> 33179</td>\n",
        "      <td> 2772</td>\n",
        "      <td> 33125</td>\n",
        "      <td> 100017</td>\n",
        "      <td>  3881322</td>\n",
        "    </tr>\n",
        "  </tbody>\n",
        "</table>\n",
        "</div>"
       ],
       "metadata": {},
       "output_type": "pyout",
       "prompt_number": 62,
       "text": [
        "   10     100    1000    10000     100000\n",
        "1      13     82   6549  617877  63769861\n",
        "2      74     99   3445  317430  31746798\n",
        "4     118    161   1870  164940  16418804\n",
        "8     211    225   1117   87697   8732929\n",
        "10    249    272    994   72597   7258489\n",
        "16    342    345    887   47094   4547220\n",
        "20  33179   2772  33125  100017   3881322"
       ]
      }
     ],
     "prompt_number": 62
    },
    {
     "cell_type": "heading",
     "level": 3,
     "metadata": {},
     "source": [
      "Speedup"
     ]
    },
    {
     "cell_type": "code",
     "collapsed": false,
     "input": [
      "speedup = pn.ix[:,1,'count_sort','Inclusive usec/call'] / pn.ix[:,:,'count_sort','Inclusive usec/call']\n",
      "speedup"
     ],
     "language": "python",
     "metadata": {},
     "outputs": [
      {
       "html": [
        "<div style=\"max-height:1000px;max-width:1500px;overflow:auto;\">\n",
        "<table border=\"1\" class=\"dataframe\">\n",
        "  <thead>\n",
        "    <tr style=\"text-align: right;\">\n",
        "      <th></th>\n",
        "      <th>10</th>\n",
        "      <th>100</th>\n",
        "      <th>1000</th>\n",
        "      <th>10000</th>\n",
        "      <th>100000</th>\n",
        "    </tr>\n",
        "  </thead>\n",
        "  <tbody>\n",
        "    <tr>\n",
        "      <th>1 </th>\n",
        "      <td>            1</td>\n",
        "      <td>          1</td>\n",
        "      <td>         1</td>\n",
        "      <td>        1</td>\n",
        "      <td>        1</td>\n",
        "    </tr>\n",
        "    <tr>\n",
        "      <th>2 </th>\n",
        "      <td>    0.1756757</td>\n",
        "      <td>  0.8282828</td>\n",
        "      <td>  1.901016</td>\n",
        "      <td> 1.946498</td>\n",
        "      <td> 2.008702</td>\n",
        "    </tr>\n",
        "    <tr>\n",
        "      <th>4 </th>\n",
        "      <td>    0.1101695</td>\n",
        "      <td>  0.5093168</td>\n",
        "      <td>  3.502139</td>\n",
        "      <td> 3.746071</td>\n",
        "      <td> 3.883953</td>\n",
        "    </tr>\n",
        "    <tr>\n",
        "      <th>8 </th>\n",
        "      <td>   0.06161137</td>\n",
        "      <td>  0.3644444</td>\n",
        "      <td>  5.863026</td>\n",
        "      <td> 7.045589</td>\n",
        "      <td> 7.302231</td>\n",
        "    </tr>\n",
        "    <tr>\n",
        "      <th>10</th>\n",
        "      <td>   0.05220884</td>\n",
        "      <td>  0.3014706</td>\n",
        "      <td>  6.588531</td>\n",
        "      <td> 8.511054</td>\n",
        "      <td> 8.785556</td>\n",
        "    </tr>\n",
        "    <tr>\n",
        "      <th>16</th>\n",
        "      <td>    0.0380117</td>\n",
        "      <td>  0.2376812</td>\n",
        "      <td>  7.383315</td>\n",
        "      <td> 13.12008</td>\n",
        "      <td> 14.02392</td>\n",
        "    </tr>\n",
        "    <tr>\n",
        "      <th>20</th>\n",
        "      <td> 0.0003918141</td>\n",
        "      <td> 0.02958153</td>\n",
        "      <td> 0.1977057</td>\n",
        "      <td>  6.17772</td>\n",
        "      <td> 16.42993</td>\n",
        "    </tr>\n",
        "  </tbody>\n",
        "</table>\n",
        "</div>"
       ],
       "metadata": {},
       "output_type": "pyout",
       "prompt_number": 63,
       "text": [
        "          10          100        1000      10000     100000\n",
        "1              1           1          1         1         1\n",
        "2      0.1756757   0.8282828   1.901016  1.946498  2.008702\n",
        "4      0.1101695   0.5093168   3.502139  3.746071  3.883953\n",
        "8     0.06161137   0.3644444   5.863026  7.045589  7.302231\n",
        "10    0.05220884   0.3014706   6.588531  8.511054  8.785556\n",
        "16     0.0380117   0.2376812   7.383315  13.12008  14.02392\n",
        "20  0.0003918141  0.02958153  0.1977057   6.17772  16.42993"
       ]
      }
     ],
     "prompt_number": 63
    },
    {
     "cell_type": "code",
     "collapsed": false,
     "input": [
      "speedup.plot()\n",
      "plt.plot(THREADS, THREADS, '--', label='Perfect speedup')\n",
      "plt.legend(loc='best')\n",
      "plt.xlabel('Number of threads')\n",
      "plt.ylabel('Speedup')\n",
      "plt.title(\"$i$-loop parallel for\")"
     ],
     "language": "python",
     "metadata": {},
     "outputs": [
      {
       "metadata": {},
       "output_type": "pyout",
       "prompt_number": 61,
       "text": [
        "<matplotlib.text.Text at 0x2b4dc2ccda90>"
       ]
      },
      {
       "metadata": {},
       "output_type": "display_data",
       "png": "[encoded data removed]",
       "text": [
        "<matplotlib.figure.Figure at 0x2b4dc28b53d0>"
       ]
      }
     ],
     "prompt_number": 61
    },
    {
     "cell_type": "heading",
     "level": 2,
     "metadata": {},
     "source": [
      "j-loop"
     ]
    },
    {
     "cell_type": "code",
     "collapsed": false,
     "input": [
      "!cd .. && make exec/omp_jloop-GNU"
     ],
     "language": "python",
     "metadata": {},
     "outputs": []
    },
    {
     "cell_type": "code",
     "collapsed": false,
     "input": [
      "!cd .. && make workdir/omp_jloop.pbs"
     ],
     "language": "python",
     "metadata": {},
     "outputs": []
    },
    {
     "cell_type": "code",
     "collapsed": false,
     "input": [
      "!cd .. && make TAU_PROFILES_JLOOP"
     ],
     "language": "python",
     "metadata": {},
     "outputs": [
      {
       "output_type": "stream",
       "stream": "stdout",
       "text": [
        "make: Nothing to be done for `TAU_PROFILES_JLOOP'.\r\n"
       ]
      }
     ],
     "prompt_number": 70
    },
    {
     "cell_type": "code",
     "collapsed": false,
     "input": [
      "data = prepare_panel('omp_jloop')\n",
      "pn = pd.Panel4D(data)"
     ],
     "language": "python",
     "metadata": {},
     "outputs": [],
     "prompt_number": 65
    },
    {
     "cell_type": "code",
     "collapsed": false,
     "input": [
      "# dimensions: pn[vector size, threads, function name, metric]\n",
      "pn.ix[:,:,'count_sort','Inclusive usec/call']"
     ],
     "language": "python",
     "metadata": {},
     "outputs": [
      {
       "html": [
        "<div style=\"max-height:1000px;max-width:1500px;overflow:auto;\">\n",
        "<table border=\"1\" class=\"dataframe\">\n",
        "  <thead>\n",
        "    <tr style=\"text-align: right;\">\n",
        "      <th></th>\n",
        "      <th>10</th>\n",
        "      <th>100</th>\n",
        "      <th>1000</th>\n",
        "      <th>10000</th>\n",
        "      <th>100000</th>\n",
        "    </tr>\n",
        "  </thead>\n",
        "  <tbody>\n",
        "    <tr>\n",
        "      <th>1 </th>\n",
        "      <td>  14</td>\n",
        "      <td>   85</td>\n",
        "      <td>   6400</td>\n",
        "      <td>  623682</td>\n",
        "      <td>  63069781</td>\n",
        "    </tr>\n",
        "    <tr>\n",
        "      <th>2 </th>\n",
        "      <td>  70</td>\n",
        "      <td>  486</td>\n",
        "      <td>  11214</td>\n",
        "      <td> 1043309</td>\n",
        "      <td>  77051330</td>\n",
        "    </tr>\n",
        "    <tr>\n",
        "      <th>4 </th>\n",
        "      <td> 210</td>\n",
        "      <td>  555</td>\n",
        "      <td>  18101</td>\n",
        "      <td> 1271066</td>\n",
        "      <td> 138995785</td>\n",
        "    </tr>\n",
        "    <tr>\n",
        "      <th>8 </th>\n",
        "      <td> 267</td>\n",
        "      <td>  736</td>\n",
        "      <td>  16911</td>\n",
        "      <td>  486855</td>\n",
        "      <td> 138234819</td>\n",
        "    </tr>\n",
        "    <tr>\n",
        "      <th>10</th>\n",
        "      <td> 245</td>\n",
        "      <td>  722</td>\n",
        "      <td>  21983</td>\n",
        "      <td> 1386670</td>\n",
        "      <td> 133613498</td>\n",
        "    </tr>\n",
        "    <tr>\n",
        "      <th>16</th>\n",
        "      <td> 394</td>\n",
        "      <td>  976</td>\n",
        "      <td>  18439</td>\n",
        "      <td> 1402355</td>\n",
        "      <td> 138148407</td>\n",
        "    </tr>\n",
        "    <tr>\n",
        "      <th>20</th>\n",
        "      <td> 445</td>\n",
        "      <td> 1413</td>\n",
        "      <td> 630878</td>\n",
        "      <td> 1510361</td>\n",
        "      <td>  51818017</td>\n",
        "    </tr>\n",
        "  </tbody>\n",
        "</table>\n",
        "</div>"
       ],
       "metadata": {},
       "output_type": "pyout",
       "prompt_number": 66,
       "text": [
        "   10     100     1000     10000      100000\n",
        "1      14     85    6400   623682   63069781\n",
        "2      70    486   11214  1043309   77051330\n",
        "4     210    555   18101  1271066  138995785\n",
        "8     267    736   16911   486855  138234819\n",
        "10    245    722   21983  1386670  133613498\n",
        "16    394    976   18439  1402355  138148407\n",
        "20    445   1413  630878  1510361   51818017"
       ]
      }
     ],
     "prompt_number": 66
    },
    {
     "cell_type": "code",
     "collapsed": false,
     "input": [
      "speedup = pn.ix[:,1,'count_sort','Inclusive usec/call'] / pn.ix[:,:,'count_sort','Inclusive usec/call']\n",
      "speedup"
     ],
     "language": "python",
     "metadata": {},
     "outputs": [
      {
       "html": [
        "<div style=\"max-height:1000px;max-width:1500px;overflow:auto;\">\n",
        "<table border=\"1\" class=\"dataframe\">\n",
        "  <thead>\n",
        "    <tr style=\"text-align: right;\">\n",
        "      <th></th>\n",
        "      <th>10</th>\n",
        "      <th>100</th>\n",
        "      <th>1000</th>\n",
        "      <th>10000</th>\n",
        "      <th>100000</th>\n",
        "    </tr>\n",
        "  </thead>\n",
        "  <tbody>\n",
        "    <tr>\n",
        "      <th>1 </th>\n",
        "      <td>          1</td>\n",
        "      <td>          1</td>\n",
        "      <td>          1</td>\n",
        "      <td>         1</td>\n",
        "      <td>         1</td>\n",
        "    </tr>\n",
        "    <tr>\n",
        "      <th>2 </th>\n",
        "      <td>        0.2</td>\n",
        "      <td>  0.1748971</td>\n",
        "      <td>  0.5707152</td>\n",
        "      <td> 0.5977922</td>\n",
        "      <td> 0.8185424</td>\n",
        "    </tr>\n",
        "    <tr>\n",
        "      <th>4 </th>\n",
        "      <td> 0.06666667</td>\n",
        "      <td>  0.1531532</td>\n",
        "      <td>  0.3535716</td>\n",
        "      <td> 0.4906763</td>\n",
        "      <td> 0.4537532</td>\n",
        "    </tr>\n",
        "    <tr>\n",
        "      <th>8 </th>\n",
        "      <td> 0.05243446</td>\n",
        "      <td>  0.1154891</td>\n",
        "      <td>  0.3784519</td>\n",
        "      <td>  1.281043</td>\n",
        "      <td>  0.456251</td>\n",
        "    </tr>\n",
        "    <tr>\n",
        "      <th>10</th>\n",
        "      <td> 0.05714286</td>\n",
        "      <td>  0.1177285</td>\n",
        "      <td>  0.2911341</td>\n",
        "      <td> 0.4497696</td>\n",
        "      <td> 0.4720315</td>\n",
        "    </tr>\n",
        "    <tr>\n",
        "      <th>16</th>\n",
        "      <td> 0.03553299</td>\n",
        "      <td> 0.08709016</td>\n",
        "      <td>  0.3470904</td>\n",
        "      <td>  0.444739</td>\n",
        "      <td> 0.4565364</td>\n",
        "    </tr>\n",
        "    <tr>\n",
        "      <th>20</th>\n",
        "      <td> 0.03146067</td>\n",
        "      <td>  0.0601557</td>\n",
        "      <td> 0.01014459</td>\n",
        "      <td> 0.4129357</td>\n",
        "      <td>   1.21714</td>\n",
        "    </tr>\n",
        "  </tbody>\n",
        "</table>\n",
        "</div>"
       ],
       "metadata": {},
       "output_type": "pyout",
       "prompt_number": 67,
       "text": [
        "        10          100         1000       10000      100000\n",
        "1            1           1           1          1          1\n",
        "2          0.2   0.1748971   0.5707152  0.5977922  0.8185424\n",
        "4   0.06666667   0.1531532   0.3535716  0.4906763  0.4537532\n",
        "8   0.05243446   0.1154891   0.3784519   1.281043   0.456251\n",
        "10  0.05714286   0.1177285   0.2911341  0.4497696  0.4720315\n",
        "16  0.03553299  0.08709016   0.3470904   0.444739  0.4565364\n",
        "20  0.03146067   0.0601557  0.01014459  0.4129357    1.21714"
       ]
      }
     ],
     "prompt_number": 67
    },
    {
     "cell_type": "code",
     "collapsed": false,
     "input": [
      "speedup.plot()\n",
      "plt.legend(loc='best')\n",
      "plt.xlabel('Number of threads')\n",
      "plt.ylabel('Speedup')\n",
      "plt.title(\"$j$-loop parallel for\")"
     ],
     "language": "python",
     "metadata": {},
     "outputs": [
      {
       "metadata": {},
       "output_type": "pyout",
       "prompt_number": 69,
       "text": [
        "<matplotlib.text.Text at 0x2b4dc2ebc210>"
       ]
      },
      {
       "metadata": {},
       "output_type": "display_data",
       "png": "[encoded data removed]",
       "text": [
        "<matplotlib.figure.Figure at 0x2b4dc2e856d0>"
       ]
      }
     ],
     "prompt_number": 69
    },
    {
     "cell_type": "code",
     "collapsed": false,
     "input": [],
     "language": "python",
     "metadata": {},
     "outputs": []
    }
   ],
   "metadata": {}
  }
 ]
}